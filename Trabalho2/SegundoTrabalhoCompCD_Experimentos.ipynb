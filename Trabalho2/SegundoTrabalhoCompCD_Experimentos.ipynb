{
  "nbformat": 4,
  "nbformat_minor": 0,
  "metadata": {
    "colab": {
      "name": "SegundoTrabalhoCompCD_Experimentos.ipynb",
      "provenance": [],
      "collapsed_sections": []
    },
    "kernelspec": {
      "name": "python3",
      "display_name": "Python 3"
    },
    "language_info": {
      "name": "python"
    }
  },
  "cells": [
    {
      "cell_type": "code",
      "execution_count": 1,
      "metadata": {
        "colab": {
          "base_uri": "https://localhost:8080/"
        },
        "id": "5pHelOniiO-e",
        "outputId": "e79f1b95-2225-44ff-a2be-36859f1dfb51"
      },
      "outputs": [
        {
          "output_type": "stream",
          "name": "stdout",
          "text": [
            "Mounted at /content/drive\n",
            "Archive:  /content/drive/MyDrive/Competicao_DS_Arquivos/ieee-fraud-detection.zip\n",
            "  inflating: sample_submission.csv   \n",
            "  inflating: test_identity.csv       \n",
            "  inflating: test_transaction.csv    \n",
            "  inflating: train_identity.csv      \n",
            "  inflating: train_transaction.csv   \n"
          ]
        }
      ],
      "source": [
        "# Setup inicial (mais geral)\n",
        "\n",
        "#imports\n",
        "import numpy as np\n",
        "import pandas as pd\n",
        "\n",
        "#Configuração para usar a base de dados de modo\n",
        "#eficiente no google colab  --> comentar quando for rodar\n",
        "\n",
        "from google.colab import drive\n",
        "\n",
        "drive.mount('/content/drive')\n",
        "\n",
        "PROJECT_PATH = '/content/drive/MyDrive/Competicao_DS_Arquivos'\n",
        "\n",
        "!unzip $PROJECT_PATH/ieee-fraud-detection.zip"
      ]
    },
    {
      "cell_type": "markdown",
      "source": [
        "Vamos inicialmente pegar os dados dos arquivos..."
      ],
      "metadata": {
        "id": "aKOo4-WtwDc0"
      }
    },
    {
      "cell_type": "code",
      "source": [
        "train_transaction = pd.read_csv(\"train_transaction.csv\")\n",
        "train_identity = pd.read_csv(\"train_identity.csv\")\n",
        "\n",
        "train_transaction = train_transaction.set_index(\"TransactionID\")\n",
        "train_identity = train_identity.set_index(\"TransactionID\")"
      ],
      "metadata": {
        "id": "XnqDhXOviveZ"
      },
      "execution_count": 2,
      "outputs": []
    },
    {
      "cell_type": "markdown",
      "source": [
        "Apesar da utilização do google collab, limitações na quantidade de RAM disponível, além de tempos de runtime excessivo criou a necessidade de separação em um arquivo de teste/experimentos (este) e um para o real treinamento do modelo, pipeline, etc.\n",
        "\n",
        "Além disso, mesmo neste segundo arquivo do collab, viu-se que a quantidade de RAM requerida era demais. Procurou-se reduzir a dimensionalidade das features vesta da competição (as mais numerosas, e provavelmente mais uteis por sua descrição), porém pela impossibilidade de descobrir sobre o que se tratavam dificultou a sua utilização (em agrupamentos e redução de dimensionalidade local), a dimensão de dimensionalidade global (entre todas as features vesta) era imprática do ponto de vista de uso de memória, além do fato de que tem-se a necessidade do tratamento de valores nulos, etc, o que é dificultado pela obscuridade das variáveis.\n",
        "\n",
        "Dadas estas condições, foram descartadas todas estas variáveis, tendo em mente que provavelmente continham as mais úteis informações, além do fato de que, apesar de tudo, dado tempo e recursos suficientes, as análises/processamento destes dados seguiriam um padrão similar ao utilizado para as outras features."
      ],
      "metadata": {
        "id": "3po42aw_zhhY"
      }
    },
    {
      "cell_type": "code",
      "source": [
        "train_transaction.drop([c for c in train_transaction.columns if c.startswith('V')], axis = 1,inplace = True)"
      ],
      "metadata": {
        "id": "ccEdkebF1Jyf"
      },
      "execution_count": 3,
      "outputs": []
    },
    {
      "cell_type": "code",
      "source": [
        "#Resumo da natureza/tipos das variáveis restantes\n",
        "for col, values in train_transaction.iteritems():\n",
        "    num_uniques = values.nunique()\n",
        "    print ('{name}: {num_unique}'.format(name=col, num_unique=num_uniques))\n",
        "    print (values.unique() if num_uniques < 20 else values.mode())\n",
        "    print ('\\n')\n",
        "\n",
        "for col, values in train_identity.iteritems():\n",
        "    num_uniques = values.nunique()\n",
        "    print ('{name}: {num_unique}'.format(name=col, num_unique=num_uniques))\n",
        "    print (values.unique() if num_uniques < 20 else values.mode())\n",
        "    print ('\\n')"
      ],
      "metadata": {
        "id": "gATpbuMpfLxI",
        "colab": {
          "base_uri": "https://localhost:8080/"
        },
        "outputId": "f1ef012c-1465-46e8-92c8-48da9c9b9f31"
      },
      "execution_count": 4,
      "outputs": [
        {
          "output_type": "stream",
          "name": "stdout",
          "text": [
            "isFraud: 2\n",
            "[0 1]\n",
            "\n",
            "\n",
            "TransactionDT: 573349\n",
            "0    9474817\n",
            "dtype: int64\n",
            "\n",
            "\n",
            "TransactionAmt: 20902\n",
            "0    59.0\n",
            "dtype: float64\n",
            "\n",
            "\n",
            "ProductCD: 5\n",
            "['W' 'H' 'C' 'S' 'R']\n",
            "\n",
            "\n",
            "card1: 13553\n",
            "0    7919\n",
            "dtype: int64\n",
            "\n",
            "\n",
            "card2: 500\n",
            "0    321.0\n",
            "dtype: float64\n",
            "\n",
            "\n",
            "card3: 114\n",
            "0    150.0\n",
            "dtype: float64\n",
            "\n",
            "\n",
            "card4: 4\n",
            "['discover' 'mastercard' 'visa' 'american express' nan]\n",
            "\n",
            "\n",
            "card5: 119\n",
            "0    226.0\n",
            "dtype: float64\n",
            "\n",
            "\n",
            "card6: 4\n",
            "['credit' 'debit' nan 'debit or credit' 'charge card']\n",
            "\n",
            "\n",
            "addr1: 332\n",
            "0    299.0\n",
            "dtype: float64\n",
            "\n",
            "\n",
            "addr2: 74\n",
            "0    87.0\n",
            "dtype: float64\n",
            "\n",
            "\n",
            "dist1: 2651\n",
            "0    0.0\n",
            "dtype: float64\n",
            "\n",
            "\n",
            "dist2: 1751\n",
            "0    7.0\n",
            "dtype: float64\n",
            "\n",
            "\n",
            "P_emaildomain: 59\n",
            "0    gmail.com\n",
            "dtype: object\n",
            "\n",
            "\n",
            "R_emaildomain: 60\n",
            "0    gmail.com\n",
            "dtype: object\n",
            "\n",
            "\n",
            "C1: 1657\n",
            "0    1.0\n",
            "dtype: float64\n",
            "\n",
            "\n",
            "C2: 1216\n",
            "0    1.0\n",
            "dtype: float64\n",
            "\n",
            "\n",
            "C3: 27\n",
            "0    0.0\n",
            "dtype: float64\n",
            "\n",
            "\n",
            "C4: 1260\n",
            "0    0.0\n",
            "dtype: float64\n",
            "\n",
            "\n",
            "C5: 319\n",
            "0    0.0\n",
            "dtype: float64\n",
            "\n",
            "\n",
            "C6: 1328\n",
            "0    1.0\n",
            "dtype: float64\n",
            "\n",
            "\n",
            "C7: 1103\n",
            "0    0.0\n",
            "dtype: float64\n",
            "\n",
            "\n",
            "C8: 1253\n",
            "0    0.0\n",
            "dtype: float64\n",
            "\n",
            "\n",
            "C9: 205\n",
            "0    1.0\n",
            "dtype: float64\n",
            "\n",
            "\n",
            "C10: 1231\n",
            "0    0.0\n",
            "dtype: float64\n",
            "\n",
            "\n",
            "C11: 1476\n",
            "0    1.0\n",
            "dtype: float64\n",
            "\n",
            "\n",
            "C12: 1199\n",
            "0    0.0\n",
            "dtype: float64\n",
            "\n",
            "\n",
            "C13: 1597\n",
            "0    1.0\n",
            "dtype: float64\n",
            "\n",
            "\n",
            "C14: 1108\n",
            "0    1.0\n",
            "dtype: float64\n",
            "\n",
            "\n",
            "D1: 641\n",
            "0    0.0\n",
            "dtype: float64\n",
            "\n",
            "\n",
            "D2: 641\n",
            "0    0.0\n",
            "dtype: float64\n",
            "\n",
            "\n",
            "D3: 649\n",
            "0    0.0\n",
            "dtype: float64\n",
            "\n",
            "\n",
            "D4: 808\n",
            "0    0.0\n",
            "dtype: float64\n",
            "\n",
            "\n",
            "D5: 688\n",
            "0    0.0\n",
            "dtype: float64\n",
            "\n",
            "\n",
            "D6: 829\n",
            "0    0.0\n",
            "dtype: float64\n",
            "\n",
            "\n",
            "D7: 597\n",
            "0    0.0\n",
            "dtype: float64\n",
            "\n",
            "\n",
            "D8: 12353\n",
            "0    0.791666\n",
            "dtype: float64\n",
            "\n",
            "\n",
            "D9: 24\n",
            "0    0.791666\n",
            "dtype: float64\n",
            "\n",
            "\n",
            "D10: 818\n",
            "0    0.0\n",
            "dtype: float64\n",
            "\n",
            "\n",
            "D11: 676\n",
            "0    0.0\n",
            "dtype: float64\n",
            "\n",
            "\n",
            "D12: 635\n",
            "0    0.0\n",
            "dtype: float64\n",
            "\n",
            "\n",
            "D13: 577\n",
            "0    0.0\n",
            "dtype: float64\n",
            "\n",
            "\n",
            "D14: 802\n",
            "0    0.0\n",
            "dtype: float64\n",
            "\n",
            "\n",
            "D15: 859\n",
            "0    0.0\n",
            "dtype: float64\n",
            "\n",
            "\n",
            "M1: 2\n",
            "['T' nan 'F']\n",
            "\n",
            "\n",
            "M2: 2\n",
            "['T' nan 'F']\n",
            "\n",
            "\n",
            "M3: 2\n",
            "['T' nan 'F']\n",
            "\n",
            "\n",
            "M4: 3\n",
            "['M2' 'M0' nan 'M1']\n",
            "\n",
            "\n",
            "M5: 2\n",
            "['F' 'T' nan]\n",
            "\n",
            "\n",
            "M6: 2\n",
            "['T' 'F' nan]\n",
            "\n",
            "\n",
            "M7: 2\n",
            "[nan 'F' 'T']\n",
            "\n",
            "\n",
            "M8: 2\n",
            "[nan 'F' 'T']\n",
            "\n",
            "\n",
            "M9: 2\n",
            "[nan 'F' 'T']\n",
            "\n",
            "\n",
            "id_01: 77\n",
            "0   -5.0\n",
            "dtype: float64\n",
            "\n",
            "\n",
            "id_02: 115655\n",
            "0    1102.0\n",
            "dtype: float64\n",
            "\n",
            "\n",
            "id_03: 24\n",
            "0    0.0\n",
            "dtype: float64\n",
            "\n",
            "\n",
            "id_04: 15\n",
            "[ nan   0. -11.  -5.  -8.  -1.  -6.  -9.  -3. -13.  -4. -10.  -7. -12.\n",
            "  -2. -28.]\n",
            "\n",
            "\n",
            "id_05: 93\n",
            "0    0.0\n",
            "dtype: float64\n",
            "\n",
            "\n",
            "id_06: 101\n",
            "0    0.0\n",
            "dtype: float64\n",
            "\n",
            "\n",
            "id_07: 84\n",
            "0    0.0\n",
            "dtype: float64\n",
            "\n",
            "\n",
            "id_08: 94\n",
            "0   -100.0\n",
            "dtype: float64\n",
            "\n",
            "\n",
            "id_09: 46\n",
            "0    0.0\n",
            "dtype: float64\n",
            "\n",
            "\n",
            "id_10: 62\n",
            "0    0.0\n",
            "dtype: float64\n",
            "\n",
            "\n",
            "id_11: 365\n",
            "0    100.0\n",
            "dtype: float64\n",
            "\n",
            "\n",
            "id_12: 2\n",
            "['NotFound' 'Found']\n",
            "\n",
            "\n",
            "id_13: 54\n",
            "0    52.0\n",
            "dtype: float64\n",
            "\n",
            "\n",
            "id_14: 25\n",
            "0   -300.0\n",
            "dtype: float64\n",
            "\n",
            "\n",
            "id_15: 3\n",
            "['New' 'Found' nan 'Unknown']\n",
            "\n",
            "\n",
            "id_16: 2\n",
            "['NotFound' 'Found' nan]\n",
            "\n",
            "\n",
            "id_17: 104\n",
            "0    166.0\n",
            "dtype: float64\n",
            "\n",
            "\n",
            "id_18: 18\n",
            "[nan 15. 18. 13. 12. 20. 21. 14. 26. 24. 17. 11. 29. 16. 28. 25. 23. 27.\n",
            " 10.]\n",
            "\n",
            "\n",
            "id_19: 522\n",
            "0    266.0\n",
            "dtype: float64\n",
            "\n",
            "\n",
            "id_20: 394\n",
            "0    507.0\n",
            "dtype: float64\n",
            "\n",
            "\n",
            "id_21: 490\n",
            "0    252.0\n",
            "dtype: float64\n",
            "\n",
            "\n",
            "id_22: 25\n",
            "0    14.0\n",
            "dtype: float64\n",
            "\n",
            "\n",
            "id_23: 3\n",
            "[nan 'IP_PROXY:TRANSPARENT' 'IP_PROXY:ANONYMOUS' 'IP_PROXY:HIDDEN']\n",
            "\n",
            "\n",
            "id_24: 12\n",
            "[nan 11. 15. 16. 12. 21. 18. 25. 26. 19. 23. 24. 17.]\n",
            "\n",
            "\n",
            "id_25: 341\n",
            "0    321.0\n",
            "dtype: float64\n",
            "\n",
            "\n",
            "id_26: 95\n",
            "0    161.0\n",
            "dtype: float64\n",
            "\n",
            "\n",
            "id_27: 2\n",
            "[nan 'Found' 'NotFound']\n",
            "\n",
            "\n",
            "id_28: 2\n",
            "['New' 'Found' nan]\n",
            "\n",
            "\n",
            "id_29: 2\n",
            "['NotFound' 'Found' nan]\n",
            "\n",
            "\n",
            "id_30: 75\n",
            "0    Windows 10\n",
            "dtype: object\n",
            "\n",
            "\n",
            "id_31: 130\n",
            "0    chrome 63.0\n",
            "dtype: object\n",
            "\n",
            "\n",
            "id_32: 4\n",
            "[32. nan 24. 16.  0.]\n",
            "\n",
            "\n",
            "id_33: 260\n",
            "0    1920x1080\n",
            "dtype: object\n",
            "\n",
            "\n",
            "id_34: 4\n",
            "['match_status:2' 'match_status:1' nan 'match_status:0' 'match_status:-1']\n",
            "\n",
            "\n",
            "id_35: 2\n",
            "['T' 'F' nan]\n",
            "\n",
            "\n",
            "id_36: 2\n",
            "['F' nan 'T']\n",
            "\n",
            "\n",
            "id_37: 2\n",
            "['T' 'F' nan]\n",
            "\n",
            "\n",
            "id_38: 2\n",
            "['T' nan 'F']\n",
            "\n",
            "\n",
            "DeviceType: 2\n",
            "['mobile' 'desktop' nan]\n",
            "\n",
            "\n",
            "DeviceInfo: 1786\n",
            "0    Windows\n",
            "dtype: object\n",
            "\n",
            "\n"
          ]
        }
      ]
    },
    {
      "cell_type": "markdown",
      "source": [
        "Questão 1"
      ],
      "metadata": {
        "id": "cgqVrLau5CiS"
      }
    },
    {
      "cell_type": "markdown",
      "source": [
        "a) Compare as métricas acurácia e AUC para essa base de dados simulando os\n",
        "seguintes modelos:\n",
        "* Modelo que classifica aleatoriamente (50% chance de dizer que é\n",
        "fraude e 50% de dizer que não é);\n",
        "* Modelo que classifica todos os casos como fraude;\n",
        "* Modelo que classifica todos os casos como não fraude."
      ],
      "metadata": {
        "id": "wxCzXJZ_5Fqf"
      }
    },
    {
      "cell_type": "code",
      "source": [
        "from sklearn.metrics import accuracy_score , roc_auc_score\n",
        "from sklearn.model_selection import train_test_split"
      ],
      "metadata": {
        "id": "_sWJ1yksaVHq"
      },
      "execution_count": 5,
      "outputs": []
    },
    {
      "cell_type": "code",
      "source": [
        "y = train_transaction['isFraud']\n",
        "X_transaction = train_transaction.drop(['isFraud'],axis=1)\n",
        "X_identity = train_identity\n",
        "\n",
        "threshold  = np.quantile(X_transaction.TransactionDT,0.7)"
      ],
      "metadata": {
        "id": "YgT_taCxcOc0"
      },
      "execution_count": 6,
      "outputs": []
    },
    {
      "cell_type": "code",
      "source": [
        "X_train_transaction = X_transaction[X_transaction['TransactionDT'] < threshold]\n",
        "X_val_transaction = X_transaction[X_transaction['TransactionDT'] >= threshold]"
      ],
      "metadata": {
        "id": "KJ-qA6oEt0FL"
      },
      "execution_count": 7,
      "outputs": []
    },
    {
      "cell_type": "code",
      "source": [
        "X_train_identity = X_identity.loc[X_identity.index.intersection(X_train_transaction.index)]\n",
        "X_val_identity = X_identity.loc[X_identity.index.difference(X_train_transaction.index)]"
      ],
      "metadata": {
        "id": "wMRbOp2EvlMW"
      },
      "execution_count": 8,
      "outputs": []
    },
    {
      "cell_type": "code",
      "source": [
        "y_train = y[y.index.intersection(X_train_transaction.index)]\n",
        "y_val = y[y.index.difference(X_train_transaction.index)]"
      ],
      "metadata": {
        "id": "2CHejVQg3YN5"
      },
      "execution_count": 9,
      "outputs": []
    },
    {
      "cell_type": "code",
      "source": [
        "def classificador_aleatorio(X):\n",
        "  return np.random.randint(2, size=(len(X)))\n",
        "\n",
        "def classificador_desconfiado(X):\n",
        "  return np.ones((len(X),), dtype=int)\n",
        "\n",
        "def classificador_ingenuo(X):\n",
        "  return np.zeros((len(X),), dtype=int)"
      ],
      "metadata": {
        "id": "D7Q1XaG1cbLw"
      },
      "execution_count": 10,
      "outputs": []
    },
    {
      "cell_type": "code",
      "source": [
        "y_pred_aleatorio = classificador_aleatorio(X_train_transaction)\n",
        "y_pred_desconfiado = classificador_desconfiado(X_train_transaction)\n",
        "y_pred_ingenuo = classificador_ingenuo(X_train_transaction) "
      ],
      "metadata": {
        "id": "QhL-f-BbdhdP"
      },
      "execution_count": 11,
      "outputs": []
    },
    {
      "cell_type": "code",
      "source": [
        "acc_aleatorio =   accuracy_score(y_train,y_pred_aleatorio)\n",
        "acc_desconfiado = accuracy_score(y_train,y_pred_desconfiado)\n",
        "acc_ingenuo =     accuracy_score(y_train,y_pred_ingenuo)\n",
        "\n",
        "print(\"Accuracy score para: \")\n",
        "print(\"Classificador aleatorio: {:.2f}\".format(acc_aleatorio))\n",
        "print(\"Classificador desconfiado: {:.2f}\".format(acc_desconfiado))\n",
        "print(\"Classificador ingenuo: {:.2f}\".format(acc_ingenuo))"
      ],
      "metadata": {
        "colab": {
          "base_uri": "https://localhost:8080/"
        },
        "id": "ZEXZBsrCq0uM",
        "outputId": "b0ed9bc6-8f2c-42b0-e929-06384374debe"
      },
      "execution_count": 12,
      "outputs": [
        {
          "output_type": "stream",
          "name": "stdout",
          "text": [
            "Accuracy score para: \n",
            "Classificador aleatorio: 0.50\n",
            "Classificador desconfiado: 0.04\n",
            "Classificador ingenuo: 0.96\n"
          ]
        }
      ]
    },
    {
      "cell_type": "code",
      "source": [
        "auc_aleatorio = roc_auc_score(y_train,y_pred_aleatorio)\n",
        "auc_desconfiado = roc_auc_score(y_train,y_pred_desconfiado)\n",
        "auc_ingenuo = roc_auc_score(y_train,y_pred_ingenuo)\n",
        "\n",
        "print(\"AUC score para: \")\n",
        "print(\"Classificador aleatorio: {:.2f}\".format(auc_aleatorio))\n",
        "print(\"Classificador desconfiado: {:.2f}\".format(auc_desconfiado))\n",
        "print(\"Classificador ingenuo: {:.2f}\".format(auc_ingenuo))"
      ],
      "metadata": {
        "colab": {
          "base_uri": "https://localhost:8080/"
        },
        "id": "0XZRmzO6gPPO",
        "outputId": "2775b287-8e4d-4fb4-afd1-20acaf6120b9"
      },
      "execution_count": 13,
      "outputs": [
        {
          "output_type": "stream",
          "name": "stdout",
          "text": [
            "AUC score para: \n",
            "Classificador aleatorio: 0.50\n",
            "Classificador desconfiado: 0.50\n",
            "Classificador ingenuo: 0.50\n"
          ]
        }
      ]
    },
    {
      "cell_type": "markdown",
      "source": [
        "b) Discuta os resultados."
      ],
      "metadata": {
        "id": "jvQJfTSP5IRc"
      }
    },
    {
      "cell_type": "markdown",
      "source": [
        "Temos com isso então a constatação, como esperado, da maior adequação ao problema de classificação da métrica de AUC. Isso ocorre primariamente por conta do desbalanceamento de classes: enquanto que a métrica de acurácia mede a precisão global de adequação de uma previsão (y_pred) para com os valores reais (y_train) temos que pela simples natureza dos dados (desbalanceados) teremos uma maior pontuação majoritamente ditada por acertar mais casos em que a **não** temos fraude. Enquanto isso, a métrica de AUC leva em consideração as **classes** do problema, tomando cada uma delas como igual, assim, essencialmente, temos o mesmo 'peso' dado à acertar a previsão em **cada** uma das classes, ao invés do panorama global anterior.\n",
        "\n",
        "Isso ocorre pelo fato da área embaixo da curva da Receiving Operating Curve (ROC) representar (de certa forma) o quão bom o modelo é em classificar as classes, dada uma variação na threshold de escolha entre uma classe e outra.\n",
        "\n",
        "Por conta disso, é clara a distinção de que esta segunda métrica é mais adequada para problemas de classificação (binária ao menos), como fora capaz de prover a mesma pontuação para os três modelos que não geram informação preditiva alguma, na medida que a primeira métrica distingue entre os três, levando-nos possivelmente a fazer decisões ruins na seleção de features e modelos em produção."
      ],
      "metadata": {
        "id": "CfwxTCU9rKGG"
      }
    },
    {
      "cell_type": "markdown",
      "source": [
        "Questão 2"
      ],
      "metadata": {
        "id": "hUhmuMCi5Lzh"
      }
    },
    {
      "cell_type": "markdown",
      "source": [
        "a) Proponha 3 novas variáveis explicativas que façam sentido do ponto de vista\n",
        "prático do problema;\n",
        "* Pelo menos duas delas devem ser criadas usando as informações dos\n",
        "arquivos sobre os clientes (arquivos com nome identity);"
      ],
      "metadata": {
        "id": "WFGbFg055Qej"
      }
    },
    {
      "cell_type": "markdown",
      "source": [
        "De acordo com o próprio host da competição, as informações contidas na parte relativa à identidade esta criptografada e indiretamente apenas exposta (por questões de segurança), com a seguinte descrição:\n",
        "\n",
        "\n",
        "\n",
        "    Variables in this table are identity information – network connection information (IP, ISP, Proxy, etc) and digital \n",
        "    signature (UA/browser/os/version, etc) associated with transactions.\n",
        "    They're collected by Vesta’s fraud protection system and digital security partners.\n",
        "    (The field names are masked and pairwise dictionary will not be provided for privacy protection and contract agreement)\n",
        "\n",
        "    Categorical Features:\n",
        "\n",
        "    DeviceType\n",
        "    DeviceInfo\n",
        "    id_12 - id_38\n",
        "\n",
        "\n",
        "\n",
        "Sendo assim, estas variáveis contém dados acerca da secção virtual que fora realizada a transação (IP, ISP, Proxy, OS, browser, versão, etc) o que nos dá **bastante** informação acerca de como detectar fraudes.\n",
        "\n",
        "Com relação ao conjunto de dados de transaction_train, temos, de acordo com o host da competição:\n",
        "\n",
        "    Transaction Table\n",
        "\n",
        "    TransactionDT: timedelta from a given reference datetime (not an actual timestamp)\n",
        "\n",
        "    TransactionAMT: transaction payment amount in USD\n",
        "\n",
        "    ProductCD: product code, the product for each transaction\n",
        "    \n",
        "    card1 - card6: payment card information, such as card type, card category, issue bank, country, etc.\n",
        "    \n",
        "    addr: address\n",
        "    \n",
        "    dist: distance\n",
        "    \n",
        "    P_ and (R__) emaildomain: purchaser and recipient email domain\n",
        "\n",
        "    C1-C14: counting, such as how many addresses are found to be associated with the payment card, etc. The actual meaning is masked.\n",
        "    \n",
        "    D1-D15: timedelta, such as days between previous transaction, etc.\n",
        "    \n",
        "    M1-M9: match, such as names on card and address, etc.\n",
        "    \n",
        "    Vxxx: Vesta engineered rich features, including ranking, counting, and other entity relations.\n",
        "\n",
        "    Categorical Features:\n",
        "    \n",
        "    ProductCD\n",
        "    card1 - card6\n",
        "    addr1, addr2\n",
        "    P_emaildomain\n",
        "    R_emaildomain\n",
        "    M1 - M9\n",
        "\n",
        "O que nos indica que esta secção contém informação acerca da transação em si, sendo esta portanto possivelmente valiosa no discernimento do problema.\n",
        "\n",
        "Temos porém um pequeno problema:"
      ],
      "metadata": {
        "id": "89-SBZneTuok"
      }
    },
    {
      "cell_type": "code",
      "source": [
        "#Primeiramente vamos analisar as colunas\n",
        "print(X_train_identity.columns)\n",
        "print(\"\\n\\n\")\n",
        "print(X_train_transaction.columns)"
      ],
      "metadata": {
        "colab": {
          "base_uri": "https://localhost:8080/"
        },
        "id": "Kze_0oXDUdJw",
        "outputId": "9d1fd42e-9fd9-478b-c195-c564331406cd"
      },
      "execution_count": 14,
      "outputs": [
        {
          "output_type": "stream",
          "name": "stdout",
          "text": [
            "Index(['id_01', 'id_02', 'id_03', 'id_04', 'id_05', 'id_06', 'id_07', 'id_08',\n",
            "       'id_09', 'id_10', 'id_11', 'id_12', 'id_13', 'id_14', 'id_15', 'id_16',\n",
            "       'id_17', 'id_18', 'id_19', 'id_20', 'id_21', 'id_22', 'id_23', 'id_24',\n",
            "       'id_25', 'id_26', 'id_27', 'id_28', 'id_29', 'id_30', 'id_31', 'id_32',\n",
            "       'id_33', 'id_34', 'id_35', 'id_36', 'id_37', 'id_38', 'DeviceType',\n",
            "       'DeviceInfo'],\n",
            "      dtype='object')\n",
            "\n",
            "\n",
            "\n",
            "Index(['TransactionDT', 'TransactionAmt', 'ProductCD', 'card1', 'card2',\n",
            "       'card3', 'card4', 'card5', 'card6', 'addr1', 'addr2', 'dist1', 'dist2',\n",
            "       'P_emaildomain', 'R_emaildomain', 'C1', 'C2', 'C3', 'C4', 'C5', 'C6',\n",
            "       'C7', 'C8', 'C9', 'C10', 'C11', 'C12', 'C13', 'C14', 'D1', 'D2', 'D3',\n",
            "       'D4', 'D5', 'D6', 'D7', 'D8', 'D9', 'D10', 'D11', 'D12', 'D13', 'D14',\n",
            "       'D15', 'M1', 'M2', 'M3', 'M4', 'M5', 'M6', 'M7', 'M8', 'M9'],\n",
            "      dtype='object')\n"
          ]
        }
      ]
    },
    {
      "cell_type": "code",
      "source": [
        "#como o identificador de transação (TransactionID) é a única feature compartilhada entre ambos\n",
        "#datasets, se quisermos de alguma maneira unir informações das duas partes, temos de junta-los\n",
        "#sobre este index em comum, assim, temos o seguinte dataframe:\n",
        "\n",
        "X_train_unido = pd.merge(X_train_identity, X_train_transaction, left_index=True, right_index=True)\n",
        "X_train_unido"
      ],
      "metadata": {
        "colab": {
          "base_uri": "https://localhost:8080/",
          "height": 753
        },
        "id": "gSNmBvwJng32",
        "outputId": "dfc5a680-e697-4cb7-b0b8-989f28cb40c4"
      },
      "execution_count": 15,
      "outputs": [
        {
          "output_type": "execute_result",
          "data": {
            "text/html": [
              "<div>\n",
              "<style scoped>\n",
              "    .dataframe tbody tr th:only-of-type {\n",
              "        vertical-align: middle;\n",
              "    }\n",
              "\n",
              "    .dataframe tbody tr th {\n",
              "        vertical-align: top;\n",
              "    }\n",
              "\n",
              "    .dataframe thead th {\n",
              "        text-align: right;\n",
              "    }\n",
              "</style>\n",
              "<table border=\"1\" class=\"dataframe\">\n",
              "  <thead>\n",
              "    <tr style=\"text-align: right;\">\n",
              "      <th></th>\n",
              "      <th>id_01</th>\n",
              "      <th>id_02</th>\n",
              "      <th>id_03</th>\n",
              "      <th>id_04</th>\n",
              "      <th>id_05</th>\n",
              "      <th>id_06</th>\n",
              "      <th>id_07</th>\n",
              "      <th>id_08</th>\n",
              "      <th>id_09</th>\n",
              "      <th>id_10</th>\n",
              "      <th>id_11</th>\n",
              "      <th>id_12</th>\n",
              "      <th>id_13</th>\n",
              "      <th>id_14</th>\n",
              "      <th>id_15</th>\n",
              "      <th>id_16</th>\n",
              "      <th>id_17</th>\n",
              "      <th>id_18</th>\n",
              "      <th>id_19</th>\n",
              "      <th>id_20</th>\n",
              "      <th>id_21</th>\n",
              "      <th>id_22</th>\n",
              "      <th>id_23</th>\n",
              "      <th>id_24</th>\n",
              "      <th>id_25</th>\n",
              "      <th>id_26</th>\n",
              "      <th>id_27</th>\n",
              "      <th>id_28</th>\n",
              "      <th>id_29</th>\n",
              "      <th>id_30</th>\n",
              "      <th>id_31</th>\n",
              "      <th>id_32</th>\n",
              "      <th>id_33</th>\n",
              "      <th>id_34</th>\n",
              "      <th>id_35</th>\n",
              "      <th>id_36</th>\n",
              "      <th>id_37</th>\n",
              "      <th>id_38</th>\n",
              "      <th>DeviceType</th>\n",
              "      <th>DeviceInfo</th>\n",
              "      <th>...</th>\n",
              "      <th>P_emaildomain</th>\n",
              "      <th>R_emaildomain</th>\n",
              "      <th>C1</th>\n",
              "      <th>C2</th>\n",
              "      <th>C3</th>\n",
              "      <th>C4</th>\n",
              "      <th>C5</th>\n",
              "      <th>C6</th>\n",
              "      <th>C7</th>\n",
              "      <th>C8</th>\n",
              "      <th>C9</th>\n",
              "      <th>C10</th>\n",
              "      <th>C11</th>\n",
              "      <th>C12</th>\n",
              "      <th>C13</th>\n",
              "      <th>C14</th>\n",
              "      <th>D1</th>\n",
              "      <th>D2</th>\n",
              "      <th>D3</th>\n",
              "      <th>D4</th>\n",
              "      <th>D5</th>\n",
              "      <th>D6</th>\n",
              "      <th>D7</th>\n",
              "      <th>D8</th>\n",
              "      <th>D9</th>\n",
              "      <th>D10</th>\n",
              "      <th>D11</th>\n",
              "      <th>D12</th>\n",
              "      <th>D13</th>\n",
              "      <th>D14</th>\n",
              "      <th>D15</th>\n",
              "      <th>M1</th>\n",
              "      <th>M2</th>\n",
              "      <th>M3</th>\n",
              "      <th>M4</th>\n",
              "      <th>M5</th>\n",
              "      <th>M6</th>\n",
              "      <th>M7</th>\n",
              "      <th>M8</th>\n",
              "      <th>M9</th>\n",
              "    </tr>\n",
              "    <tr>\n",
              "      <th>TransactionID</th>\n",
              "      <th></th>\n",
              "      <th></th>\n",
              "      <th></th>\n",
              "      <th></th>\n",
              "      <th></th>\n",
              "      <th></th>\n",
              "      <th></th>\n",
              "      <th></th>\n",
              "      <th></th>\n",
              "      <th></th>\n",
              "      <th></th>\n",
              "      <th></th>\n",
              "      <th></th>\n",
              "      <th></th>\n",
              "      <th></th>\n",
              "      <th></th>\n",
              "      <th></th>\n",
              "      <th></th>\n",
              "      <th></th>\n",
              "      <th></th>\n",
              "      <th></th>\n",
              "      <th></th>\n",
              "      <th></th>\n",
              "      <th></th>\n",
              "      <th></th>\n",
              "      <th></th>\n",
              "      <th></th>\n",
              "      <th></th>\n",
              "      <th></th>\n",
              "      <th></th>\n",
              "      <th></th>\n",
              "      <th></th>\n",
              "      <th></th>\n",
              "      <th></th>\n",
              "      <th></th>\n",
              "      <th></th>\n",
              "      <th></th>\n",
              "      <th></th>\n",
              "      <th></th>\n",
              "      <th></th>\n",
              "      <th></th>\n",
              "      <th></th>\n",
              "      <th></th>\n",
              "      <th></th>\n",
              "      <th></th>\n",
              "      <th></th>\n",
              "      <th></th>\n",
              "      <th></th>\n",
              "      <th></th>\n",
              "      <th></th>\n",
              "      <th></th>\n",
              "      <th></th>\n",
              "      <th></th>\n",
              "      <th></th>\n",
              "      <th></th>\n",
              "      <th></th>\n",
              "      <th></th>\n",
              "      <th></th>\n",
              "      <th></th>\n",
              "      <th></th>\n",
              "      <th></th>\n",
              "      <th></th>\n",
              "      <th></th>\n",
              "      <th></th>\n",
              "      <th></th>\n",
              "      <th></th>\n",
              "      <th></th>\n",
              "      <th></th>\n",
              "      <th></th>\n",
              "      <th></th>\n",
              "      <th></th>\n",
              "      <th></th>\n",
              "      <th></th>\n",
              "      <th></th>\n",
              "      <th></th>\n",
              "      <th></th>\n",
              "      <th></th>\n",
              "      <th></th>\n",
              "      <th></th>\n",
              "      <th></th>\n",
              "      <th></th>\n",
              "    </tr>\n",
              "  </thead>\n",
              "  <tbody>\n",
              "    <tr>\n",
              "      <th>2987004</th>\n",
              "      <td>0.0</td>\n",
              "      <td>70787.0</td>\n",
              "      <td>NaN</td>\n",
              "      <td>NaN</td>\n",
              "      <td>NaN</td>\n",
              "      <td>NaN</td>\n",
              "      <td>NaN</td>\n",
              "      <td>NaN</td>\n",
              "      <td>NaN</td>\n",
              "      <td>NaN</td>\n",
              "      <td>100.0</td>\n",
              "      <td>NotFound</td>\n",
              "      <td>NaN</td>\n",
              "      <td>-480.0</td>\n",
              "      <td>New</td>\n",
              "      <td>NotFound</td>\n",
              "      <td>166.0</td>\n",
              "      <td>NaN</td>\n",
              "      <td>542.0</td>\n",
              "      <td>144.0</td>\n",
              "      <td>NaN</td>\n",
              "      <td>NaN</td>\n",
              "      <td>NaN</td>\n",
              "      <td>NaN</td>\n",
              "      <td>NaN</td>\n",
              "      <td>NaN</td>\n",
              "      <td>NaN</td>\n",
              "      <td>New</td>\n",
              "      <td>NotFound</td>\n",
              "      <td>Android 7.0</td>\n",
              "      <td>samsung browser 6.2</td>\n",
              "      <td>32.0</td>\n",
              "      <td>2220x1080</td>\n",
              "      <td>match_status:2</td>\n",
              "      <td>T</td>\n",
              "      <td>F</td>\n",
              "      <td>T</td>\n",
              "      <td>T</td>\n",
              "      <td>mobile</td>\n",
              "      <td>SAMSUNG SM-G892A Build/NRD90M</td>\n",
              "      <td>...</td>\n",
              "      <td>gmail.com</td>\n",
              "      <td>NaN</td>\n",
              "      <td>1.0</td>\n",
              "      <td>1.0</td>\n",
              "      <td>0.0</td>\n",
              "      <td>0.0</td>\n",
              "      <td>0.0</td>\n",
              "      <td>1.0</td>\n",
              "      <td>0.0</td>\n",
              "      <td>1.0</td>\n",
              "      <td>0.0</td>\n",
              "      <td>1.0</td>\n",
              "      <td>1.0</td>\n",
              "      <td>0.0</td>\n",
              "      <td>1.0</td>\n",
              "      <td>1.0</td>\n",
              "      <td>0.0</td>\n",
              "      <td>NaN</td>\n",
              "      <td>NaN</td>\n",
              "      <td>NaN</td>\n",
              "      <td>NaN</td>\n",
              "      <td>NaN</td>\n",
              "      <td>NaN</td>\n",
              "      <td>NaN</td>\n",
              "      <td>NaN</td>\n",
              "      <td>NaN</td>\n",
              "      <td>NaN</td>\n",
              "      <td>NaN</td>\n",
              "      <td>NaN</td>\n",
              "      <td>NaN</td>\n",
              "      <td>NaN</td>\n",
              "      <td>NaN</td>\n",
              "      <td>NaN</td>\n",
              "      <td>NaN</td>\n",
              "      <td>NaN</td>\n",
              "      <td>NaN</td>\n",
              "      <td>NaN</td>\n",
              "      <td>NaN</td>\n",
              "      <td>NaN</td>\n",
              "      <td>NaN</td>\n",
              "    </tr>\n",
              "    <tr>\n",
              "      <th>2987008</th>\n",
              "      <td>-5.0</td>\n",
              "      <td>98945.0</td>\n",
              "      <td>NaN</td>\n",
              "      <td>NaN</td>\n",
              "      <td>0.0</td>\n",
              "      <td>-5.0</td>\n",
              "      <td>NaN</td>\n",
              "      <td>NaN</td>\n",
              "      <td>NaN</td>\n",
              "      <td>NaN</td>\n",
              "      <td>100.0</td>\n",
              "      <td>NotFound</td>\n",
              "      <td>49.0</td>\n",
              "      <td>-300.0</td>\n",
              "      <td>New</td>\n",
              "      <td>NotFound</td>\n",
              "      <td>166.0</td>\n",
              "      <td>NaN</td>\n",
              "      <td>621.0</td>\n",
              "      <td>500.0</td>\n",
              "      <td>NaN</td>\n",
              "      <td>NaN</td>\n",
              "      <td>NaN</td>\n",
              "      <td>NaN</td>\n",
              "      <td>NaN</td>\n",
              "      <td>NaN</td>\n",
              "      <td>NaN</td>\n",
              "      <td>New</td>\n",
              "      <td>NotFound</td>\n",
              "      <td>iOS 11.1.2</td>\n",
              "      <td>mobile safari 11.0</td>\n",
              "      <td>32.0</td>\n",
              "      <td>1334x750</td>\n",
              "      <td>match_status:1</td>\n",
              "      <td>T</td>\n",
              "      <td>F</td>\n",
              "      <td>F</td>\n",
              "      <td>T</td>\n",
              "      <td>mobile</td>\n",
              "      <td>iOS Device</td>\n",
              "      <td>...</td>\n",
              "      <td>anonymous.com</td>\n",
              "      <td>NaN</td>\n",
              "      <td>1.0</td>\n",
              "      <td>1.0</td>\n",
              "      <td>0.0</td>\n",
              "      <td>0.0</td>\n",
              "      <td>0.0</td>\n",
              "      <td>1.0</td>\n",
              "      <td>0.0</td>\n",
              "      <td>1.0</td>\n",
              "      <td>0.0</td>\n",
              "      <td>1.0</td>\n",
              "      <td>1.0</td>\n",
              "      <td>0.0</td>\n",
              "      <td>1.0</td>\n",
              "      <td>1.0</td>\n",
              "      <td>0.0</td>\n",
              "      <td>NaN</td>\n",
              "      <td>NaN</td>\n",
              "      <td>NaN</td>\n",
              "      <td>NaN</td>\n",
              "      <td>NaN</td>\n",
              "      <td>NaN</td>\n",
              "      <td>NaN</td>\n",
              "      <td>NaN</td>\n",
              "      <td>NaN</td>\n",
              "      <td>NaN</td>\n",
              "      <td>NaN</td>\n",
              "      <td>NaN</td>\n",
              "      <td>NaN</td>\n",
              "      <td>NaN</td>\n",
              "      <td>NaN</td>\n",
              "      <td>NaN</td>\n",
              "      <td>NaN</td>\n",
              "      <td>NaN</td>\n",
              "      <td>NaN</td>\n",
              "      <td>NaN</td>\n",
              "      <td>NaN</td>\n",
              "      <td>NaN</td>\n",
              "      <td>NaN</td>\n",
              "    </tr>\n",
              "    <tr>\n",
              "      <th>2987010</th>\n",
              "      <td>-5.0</td>\n",
              "      <td>191631.0</td>\n",
              "      <td>0.0</td>\n",
              "      <td>0.0</td>\n",
              "      <td>0.0</td>\n",
              "      <td>0.0</td>\n",
              "      <td>NaN</td>\n",
              "      <td>NaN</td>\n",
              "      <td>0.0</td>\n",
              "      <td>0.0</td>\n",
              "      <td>100.0</td>\n",
              "      <td>NotFound</td>\n",
              "      <td>52.0</td>\n",
              "      <td>NaN</td>\n",
              "      <td>Found</td>\n",
              "      <td>Found</td>\n",
              "      <td>121.0</td>\n",
              "      <td>NaN</td>\n",
              "      <td>410.0</td>\n",
              "      <td>142.0</td>\n",
              "      <td>NaN</td>\n",
              "      <td>NaN</td>\n",
              "      <td>NaN</td>\n",
              "      <td>NaN</td>\n",
              "      <td>NaN</td>\n",
              "      <td>NaN</td>\n",
              "      <td>NaN</td>\n",
              "      <td>Found</td>\n",
              "      <td>Found</td>\n",
              "      <td>NaN</td>\n",
              "      <td>chrome 62.0</td>\n",
              "      <td>NaN</td>\n",
              "      <td>NaN</td>\n",
              "      <td>NaN</td>\n",
              "      <td>F</td>\n",
              "      <td>F</td>\n",
              "      <td>T</td>\n",
              "      <td>T</td>\n",
              "      <td>desktop</td>\n",
              "      <td>Windows</td>\n",
              "      <td>...</td>\n",
              "      <td>gmail.com</td>\n",
              "      <td>gmail.com</td>\n",
              "      <td>1.0</td>\n",
              "      <td>4.0</td>\n",
              "      <td>0.0</td>\n",
              "      <td>1.0</td>\n",
              "      <td>0.0</td>\n",
              "      <td>1.0</td>\n",
              "      <td>1.0</td>\n",
              "      <td>1.0</td>\n",
              "      <td>0.0</td>\n",
              "      <td>1.0</td>\n",
              "      <td>2.0</td>\n",
              "      <td>2.0</td>\n",
              "      <td>2.0</td>\n",
              "      <td>1.0</td>\n",
              "      <td>1.0</td>\n",
              "      <td>1.0</td>\n",
              "      <td>0.0</td>\n",
              "      <td>0.0</td>\n",
              "      <td>0.0</td>\n",
              "      <td>0.0</td>\n",
              "      <td>0.0</td>\n",
              "      <td>83.000000</td>\n",
              "      <td>0.000000</td>\n",
              "      <td>0.0</td>\n",
              "      <td>NaN</td>\n",
              "      <td>0.0</td>\n",
              "      <td>0.0</td>\n",
              "      <td>0.0</td>\n",
              "      <td>0.0</td>\n",
              "      <td>NaN</td>\n",
              "      <td>NaN</td>\n",
              "      <td>NaN</td>\n",
              "      <td>M0</td>\n",
              "      <td>NaN</td>\n",
              "      <td>NaN</td>\n",
              "      <td>NaN</td>\n",
              "      <td>NaN</td>\n",
              "      <td>NaN</td>\n",
              "    </tr>\n",
              "    <tr>\n",
              "      <th>2987011</th>\n",
              "      <td>-5.0</td>\n",
              "      <td>221832.0</td>\n",
              "      <td>NaN</td>\n",
              "      <td>NaN</td>\n",
              "      <td>0.0</td>\n",
              "      <td>-6.0</td>\n",
              "      <td>NaN</td>\n",
              "      <td>NaN</td>\n",
              "      <td>NaN</td>\n",
              "      <td>NaN</td>\n",
              "      <td>100.0</td>\n",
              "      <td>NotFound</td>\n",
              "      <td>52.0</td>\n",
              "      <td>NaN</td>\n",
              "      <td>New</td>\n",
              "      <td>NotFound</td>\n",
              "      <td>225.0</td>\n",
              "      <td>NaN</td>\n",
              "      <td>176.0</td>\n",
              "      <td>507.0</td>\n",
              "      <td>NaN</td>\n",
              "      <td>NaN</td>\n",
              "      <td>NaN</td>\n",
              "      <td>NaN</td>\n",
              "      <td>NaN</td>\n",
              "      <td>NaN</td>\n",
              "      <td>NaN</td>\n",
              "      <td>New</td>\n",
              "      <td>NotFound</td>\n",
              "      <td>NaN</td>\n",
              "      <td>chrome 62.0</td>\n",
              "      <td>NaN</td>\n",
              "      <td>NaN</td>\n",
              "      <td>NaN</td>\n",
              "      <td>F</td>\n",
              "      <td>F</td>\n",
              "      <td>T</td>\n",
              "      <td>T</td>\n",
              "      <td>desktop</td>\n",
              "      <td>NaN</td>\n",
              "      <td>...</td>\n",
              "      <td>hotmail.com</td>\n",
              "      <td>hotmail.com</td>\n",
              "      <td>1.0</td>\n",
              "      <td>1.0</td>\n",
              "      <td>0.0</td>\n",
              "      <td>1.0</td>\n",
              "      <td>0.0</td>\n",
              "      <td>1.0</td>\n",
              "      <td>1.0</td>\n",
              "      <td>1.0</td>\n",
              "      <td>0.0</td>\n",
              "      <td>1.0</td>\n",
              "      <td>1.0</td>\n",
              "      <td>1.0</td>\n",
              "      <td>1.0</td>\n",
              "      <td>1.0</td>\n",
              "      <td>0.0</td>\n",
              "      <td>NaN</td>\n",
              "      <td>NaN</td>\n",
              "      <td>0.0</td>\n",
              "      <td>NaN</td>\n",
              "      <td>0.0</td>\n",
              "      <td>NaN</td>\n",
              "      <td>NaN</td>\n",
              "      <td>NaN</td>\n",
              "      <td>0.0</td>\n",
              "      <td>NaN</td>\n",
              "      <td>0.0</td>\n",
              "      <td>0.0</td>\n",
              "      <td>0.0</td>\n",
              "      <td>0.0</td>\n",
              "      <td>NaN</td>\n",
              "      <td>NaN</td>\n",
              "      <td>NaN</td>\n",
              "      <td>M0</td>\n",
              "      <td>NaN</td>\n",
              "      <td>NaN</td>\n",
              "      <td>NaN</td>\n",
              "      <td>NaN</td>\n",
              "      <td>NaN</td>\n",
              "    </tr>\n",
              "    <tr>\n",
              "      <th>2987016</th>\n",
              "      <td>0.0</td>\n",
              "      <td>7460.0</td>\n",
              "      <td>0.0</td>\n",
              "      <td>0.0</td>\n",
              "      <td>1.0</td>\n",
              "      <td>0.0</td>\n",
              "      <td>NaN</td>\n",
              "      <td>NaN</td>\n",
              "      <td>0.0</td>\n",
              "      <td>0.0</td>\n",
              "      <td>100.0</td>\n",
              "      <td>NotFound</td>\n",
              "      <td>NaN</td>\n",
              "      <td>-300.0</td>\n",
              "      <td>Found</td>\n",
              "      <td>Found</td>\n",
              "      <td>166.0</td>\n",
              "      <td>15.0</td>\n",
              "      <td>529.0</td>\n",
              "      <td>575.0</td>\n",
              "      <td>NaN</td>\n",
              "      <td>NaN</td>\n",
              "      <td>NaN</td>\n",
              "      <td>NaN</td>\n",
              "      <td>NaN</td>\n",
              "      <td>NaN</td>\n",
              "      <td>NaN</td>\n",
              "      <td>Found</td>\n",
              "      <td>Found</td>\n",
              "      <td>Mac OS X 10_11_6</td>\n",
              "      <td>chrome 62.0</td>\n",
              "      <td>24.0</td>\n",
              "      <td>1280x800</td>\n",
              "      <td>match_status:2</td>\n",
              "      <td>T</td>\n",
              "      <td>F</td>\n",
              "      <td>T</td>\n",
              "      <td>T</td>\n",
              "      <td>desktop</td>\n",
              "      <td>MacOS</td>\n",
              "      <td>...</td>\n",
              "      <td>aol.com</td>\n",
              "      <td>NaN</td>\n",
              "      <td>1.0</td>\n",
              "      <td>1.0</td>\n",
              "      <td>0.0</td>\n",
              "      <td>0.0</td>\n",
              "      <td>0.0</td>\n",
              "      <td>1.0</td>\n",
              "      <td>0.0</td>\n",
              "      <td>1.0</td>\n",
              "      <td>0.0</td>\n",
              "      <td>1.0</td>\n",
              "      <td>1.0</td>\n",
              "      <td>0.0</td>\n",
              "      <td>1.0</td>\n",
              "      <td>1.0</td>\n",
              "      <td>0.0</td>\n",
              "      <td>NaN</td>\n",
              "      <td>NaN</td>\n",
              "      <td>NaN</td>\n",
              "      <td>NaN</td>\n",
              "      <td>NaN</td>\n",
              "      <td>NaN</td>\n",
              "      <td>26.000000</td>\n",
              "      <td>0.000000</td>\n",
              "      <td>NaN</td>\n",
              "      <td>NaN</td>\n",
              "      <td>NaN</td>\n",
              "      <td>NaN</td>\n",
              "      <td>NaN</td>\n",
              "      <td>NaN</td>\n",
              "      <td>NaN</td>\n",
              "      <td>NaN</td>\n",
              "      <td>NaN</td>\n",
              "      <td>NaN</td>\n",
              "      <td>NaN</td>\n",
              "      <td>NaN</td>\n",
              "      <td>NaN</td>\n",
              "      <td>NaN</td>\n",
              "      <td>NaN</td>\n",
              "    </tr>\n",
              "    <tr>\n",
              "      <th>...</th>\n",
              "      <td>...</td>\n",
              "      <td>...</td>\n",
              "      <td>...</td>\n",
              "      <td>...</td>\n",
              "      <td>...</td>\n",
              "      <td>...</td>\n",
              "      <td>...</td>\n",
              "      <td>...</td>\n",
              "      <td>...</td>\n",
              "      <td>...</td>\n",
              "      <td>...</td>\n",
              "      <td>...</td>\n",
              "      <td>...</td>\n",
              "      <td>...</td>\n",
              "      <td>...</td>\n",
              "      <td>...</td>\n",
              "      <td>...</td>\n",
              "      <td>...</td>\n",
              "      <td>...</td>\n",
              "      <td>...</td>\n",
              "      <td>...</td>\n",
              "      <td>...</td>\n",
              "      <td>...</td>\n",
              "      <td>...</td>\n",
              "      <td>...</td>\n",
              "      <td>...</td>\n",
              "      <td>...</td>\n",
              "      <td>...</td>\n",
              "      <td>...</td>\n",
              "      <td>...</td>\n",
              "      <td>...</td>\n",
              "      <td>...</td>\n",
              "      <td>...</td>\n",
              "      <td>...</td>\n",
              "      <td>...</td>\n",
              "      <td>...</td>\n",
              "      <td>...</td>\n",
              "      <td>...</td>\n",
              "      <td>...</td>\n",
              "      <td>...</td>\n",
              "      <td>...</td>\n",
              "      <td>...</td>\n",
              "      <td>...</td>\n",
              "      <td>...</td>\n",
              "      <td>...</td>\n",
              "      <td>...</td>\n",
              "      <td>...</td>\n",
              "      <td>...</td>\n",
              "      <td>...</td>\n",
              "      <td>...</td>\n",
              "      <td>...</td>\n",
              "      <td>...</td>\n",
              "      <td>...</td>\n",
              "      <td>...</td>\n",
              "      <td>...</td>\n",
              "      <td>...</td>\n",
              "      <td>...</td>\n",
              "      <td>...</td>\n",
              "      <td>...</td>\n",
              "      <td>...</td>\n",
              "      <td>...</td>\n",
              "      <td>...</td>\n",
              "      <td>...</td>\n",
              "      <td>...</td>\n",
              "      <td>...</td>\n",
              "      <td>...</td>\n",
              "      <td>...</td>\n",
              "      <td>...</td>\n",
              "      <td>...</td>\n",
              "      <td>...</td>\n",
              "      <td>...</td>\n",
              "      <td>...</td>\n",
              "      <td>...</td>\n",
              "      <td>...</td>\n",
              "      <td>...</td>\n",
              "      <td>...</td>\n",
              "      <td>...</td>\n",
              "      <td>...</td>\n",
              "      <td>...</td>\n",
              "      <td>...</td>\n",
              "      <td>...</td>\n",
              "    </tr>\n",
              "    <tr>\n",
              "      <th>3400307</th>\n",
              "      <td>-5.0</td>\n",
              "      <td>141486.0</td>\n",
              "      <td>0.0</td>\n",
              "      <td>0.0</td>\n",
              "      <td>31.0</td>\n",
              "      <td>-12.0</td>\n",
              "      <td>NaN</td>\n",
              "      <td>NaN</td>\n",
              "      <td>0.0</td>\n",
              "      <td>0.0</td>\n",
              "      <td>100.0</td>\n",
              "      <td>NotFound</td>\n",
              "      <td>64.0</td>\n",
              "      <td>-300.0</td>\n",
              "      <td>Found</td>\n",
              "      <td>Found</td>\n",
              "      <td>166.0</td>\n",
              "      <td>15.0</td>\n",
              "      <td>391.0</td>\n",
              "      <td>600.0</td>\n",
              "      <td>NaN</td>\n",
              "      <td>NaN</td>\n",
              "      <td>NaN</td>\n",
              "      <td>NaN</td>\n",
              "      <td>NaN</td>\n",
              "      <td>NaN</td>\n",
              "      <td>NaN</td>\n",
              "      <td>Found</td>\n",
              "      <td>Found</td>\n",
              "      <td>Android 6.0.1</td>\n",
              "      <td>samsung browser 6.4</td>\n",
              "      <td>32.0</td>\n",
              "      <td>2560x1440</td>\n",
              "      <td>match_status:2</td>\n",
              "      <td>T</td>\n",
              "      <td>F</td>\n",
              "      <td>T</td>\n",
              "      <td>F</td>\n",
              "      <td>mobile</td>\n",
              "      <td>SAMSUNG</td>\n",
              "      <td>...</td>\n",
              "      <td>anonymous.com</td>\n",
              "      <td>anonymous.com</td>\n",
              "      <td>1.0</td>\n",
              "      <td>1.0</td>\n",
              "      <td>0.0</td>\n",
              "      <td>1.0</td>\n",
              "      <td>0.0</td>\n",
              "      <td>1.0</td>\n",
              "      <td>0.0</td>\n",
              "      <td>1.0</td>\n",
              "      <td>0.0</td>\n",
              "      <td>1.0</td>\n",
              "      <td>1.0</td>\n",
              "      <td>0.0</td>\n",
              "      <td>1.0</td>\n",
              "      <td>1.0</td>\n",
              "      <td>0.0</td>\n",
              "      <td>NaN</td>\n",
              "      <td>NaN</td>\n",
              "      <td>NaN</td>\n",
              "      <td>NaN</td>\n",
              "      <td>NaN</td>\n",
              "      <td>NaN</td>\n",
              "      <td>109.791664</td>\n",
              "      <td>0.791666</td>\n",
              "      <td>NaN</td>\n",
              "      <td>NaN</td>\n",
              "      <td>NaN</td>\n",
              "      <td>NaN</td>\n",
              "      <td>NaN</td>\n",
              "      <td>NaN</td>\n",
              "      <td>NaN</td>\n",
              "      <td>NaN</td>\n",
              "      <td>NaN</td>\n",
              "      <td>NaN</td>\n",
              "      <td>NaN</td>\n",
              "      <td>NaN</td>\n",
              "      <td>NaN</td>\n",
              "      <td>NaN</td>\n",
              "      <td>NaN</td>\n",
              "    </tr>\n",
              "    <tr>\n",
              "      <th>3400314</th>\n",
              "      <td>-5.0</td>\n",
              "      <td>34575.0</td>\n",
              "      <td>0.0</td>\n",
              "      <td>0.0</td>\n",
              "      <td>1.0</td>\n",
              "      <td>-9.0</td>\n",
              "      <td>NaN</td>\n",
              "      <td>NaN</td>\n",
              "      <td>0.0</td>\n",
              "      <td>0.0</td>\n",
              "      <td>100.0</td>\n",
              "      <td>NotFound</td>\n",
              "      <td>64.0</td>\n",
              "      <td>NaN</td>\n",
              "      <td>Found</td>\n",
              "      <td>Found</td>\n",
              "      <td>225.0</td>\n",
              "      <td>15.0</td>\n",
              "      <td>176.0</td>\n",
              "      <td>595.0</td>\n",
              "      <td>NaN</td>\n",
              "      <td>NaN</td>\n",
              "      <td>NaN</td>\n",
              "      <td>NaN</td>\n",
              "      <td>NaN</td>\n",
              "      <td>NaN</td>\n",
              "      <td>NaN</td>\n",
              "      <td>Found</td>\n",
              "      <td>Found</td>\n",
              "      <td>NaN</td>\n",
              "      <td>chrome 64.0</td>\n",
              "      <td>NaN</td>\n",
              "      <td>NaN</td>\n",
              "      <td>NaN</td>\n",
              "      <td>F</td>\n",
              "      <td>F</td>\n",
              "      <td>T</td>\n",
              "      <td>F</td>\n",
              "      <td>desktop</td>\n",
              "      <td>NaN</td>\n",
              "      <td>...</td>\n",
              "      <td>hotmail.com</td>\n",
              "      <td>hotmail.com</td>\n",
              "      <td>1.0</td>\n",
              "      <td>1.0</td>\n",
              "      <td>0.0</td>\n",
              "      <td>1.0</td>\n",
              "      <td>0.0</td>\n",
              "      <td>1.0</td>\n",
              "      <td>1.0</td>\n",
              "      <td>1.0</td>\n",
              "      <td>0.0</td>\n",
              "      <td>1.0</td>\n",
              "      <td>1.0</td>\n",
              "      <td>1.0</td>\n",
              "      <td>1.0</td>\n",
              "      <td>1.0</td>\n",
              "      <td>0.0</td>\n",
              "      <td>NaN</td>\n",
              "      <td>NaN</td>\n",
              "      <td>0.0</td>\n",
              "      <td>NaN</td>\n",
              "      <td>0.0</td>\n",
              "      <td>NaN</td>\n",
              "      <td>136.791672</td>\n",
              "      <td>0.791666</td>\n",
              "      <td>0.0</td>\n",
              "      <td>NaN</td>\n",
              "      <td>0.0</td>\n",
              "      <td>0.0</td>\n",
              "      <td>465.0</td>\n",
              "      <td>0.0</td>\n",
              "      <td>NaN</td>\n",
              "      <td>NaN</td>\n",
              "      <td>NaN</td>\n",
              "      <td>M2</td>\n",
              "      <td>NaN</td>\n",
              "      <td>NaN</td>\n",
              "      <td>NaN</td>\n",
              "      <td>NaN</td>\n",
              "      <td>NaN</td>\n",
              "    </tr>\n",
              "    <tr>\n",
              "      <th>3400351</th>\n",
              "      <td>-5.0</td>\n",
              "      <td>99755.0</td>\n",
              "      <td>NaN</td>\n",
              "      <td>NaN</td>\n",
              "      <td>0.0</td>\n",
              "      <td>0.0</td>\n",
              "      <td>NaN</td>\n",
              "      <td>NaN</td>\n",
              "      <td>NaN</td>\n",
              "      <td>NaN</td>\n",
              "      <td>100.0</td>\n",
              "      <td>NotFound</td>\n",
              "      <td>52.0</td>\n",
              "      <td>-360.0</td>\n",
              "      <td>New</td>\n",
              "      <td>NotFound</td>\n",
              "      <td>166.0</td>\n",
              "      <td>NaN</td>\n",
              "      <td>312.0</td>\n",
              "      <td>253.0</td>\n",
              "      <td>NaN</td>\n",
              "      <td>NaN</td>\n",
              "      <td>NaN</td>\n",
              "      <td>NaN</td>\n",
              "      <td>NaN</td>\n",
              "      <td>NaN</td>\n",
              "      <td>NaN</td>\n",
              "      <td>New</td>\n",
              "      <td>NotFound</td>\n",
              "      <td>Windows 7</td>\n",
              "      <td>chrome 65.0</td>\n",
              "      <td>24.0</td>\n",
              "      <td>1280x1024</td>\n",
              "      <td>match_status:2</td>\n",
              "      <td>T</td>\n",
              "      <td>F</td>\n",
              "      <td>T</td>\n",
              "      <td>T</td>\n",
              "      <td>desktop</td>\n",
              "      <td>Windows</td>\n",
              "      <td>...</td>\n",
              "      <td>hotmail.com</td>\n",
              "      <td>gmail.com</td>\n",
              "      <td>1.0</td>\n",
              "      <td>1.0</td>\n",
              "      <td>0.0</td>\n",
              "      <td>1.0</td>\n",
              "      <td>0.0</td>\n",
              "      <td>1.0</td>\n",
              "      <td>0.0</td>\n",
              "      <td>1.0</td>\n",
              "      <td>0.0</td>\n",
              "      <td>1.0</td>\n",
              "      <td>1.0</td>\n",
              "      <td>0.0</td>\n",
              "      <td>1.0</td>\n",
              "      <td>1.0</td>\n",
              "      <td>0.0</td>\n",
              "      <td>NaN</td>\n",
              "      <td>NaN</td>\n",
              "      <td>NaN</td>\n",
              "      <td>NaN</td>\n",
              "      <td>NaN</td>\n",
              "      <td>NaN</td>\n",
              "      <td>NaN</td>\n",
              "      <td>NaN</td>\n",
              "      <td>NaN</td>\n",
              "      <td>NaN</td>\n",
              "      <td>NaN</td>\n",
              "      <td>NaN</td>\n",
              "      <td>NaN</td>\n",
              "      <td>NaN</td>\n",
              "      <td>NaN</td>\n",
              "      <td>NaN</td>\n",
              "      <td>NaN</td>\n",
              "      <td>NaN</td>\n",
              "      <td>NaN</td>\n",
              "      <td>NaN</td>\n",
              "      <td>NaN</td>\n",
              "      <td>NaN</td>\n",
              "      <td>NaN</td>\n",
              "    </tr>\n",
              "    <tr>\n",
              "      <th>3400353</th>\n",
              "      <td>-20.0</td>\n",
              "      <td>311626.0</td>\n",
              "      <td>NaN</td>\n",
              "      <td>NaN</td>\n",
              "      <td>-2.0</td>\n",
              "      <td>-30.0</td>\n",
              "      <td>NaN</td>\n",
              "      <td>NaN</td>\n",
              "      <td>NaN</td>\n",
              "      <td>NaN</td>\n",
              "      <td>100.0</td>\n",
              "      <td>NotFound</td>\n",
              "      <td>64.0</td>\n",
              "      <td>NaN</td>\n",
              "      <td>Unknown</td>\n",
              "      <td>NaN</td>\n",
              "      <td>225.0</td>\n",
              "      <td>15.0</td>\n",
              "      <td>266.0</td>\n",
              "      <td>563.0</td>\n",
              "      <td>NaN</td>\n",
              "      <td>NaN</td>\n",
              "      <td>NaN</td>\n",
              "      <td>NaN</td>\n",
              "      <td>NaN</td>\n",
              "      <td>NaN</td>\n",
              "      <td>NaN</td>\n",
              "      <td>New</td>\n",
              "      <td>NotFound</td>\n",
              "      <td>NaN</td>\n",
              "      <td>mobile safari generic</td>\n",
              "      <td>NaN</td>\n",
              "      <td>NaN</td>\n",
              "      <td>NaN</td>\n",
              "      <td>F</td>\n",
              "      <td>F</td>\n",
              "      <td>F</td>\n",
              "      <td>F</td>\n",
              "      <td>mobile</td>\n",
              "      <td>NaN</td>\n",
              "      <td>...</td>\n",
              "      <td>hotmail.com</td>\n",
              "      <td>hotmail.com</td>\n",
              "      <td>1.0</td>\n",
              "      <td>1.0</td>\n",
              "      <td>0.0</td>\n",
              "      <td>1.0</td>\n",
              "      <td>0.0</td>\n",
              "      <td>1.0</td>\n",
              "      <td>1.0</td>\n",
              "      <td>1.0</td>\n",
              "      <td>0.0</td>\n",
              "      <td>0.0</td>\n",
              "      <td>1.0</td>\n",
              "      <td>1.0</td>\n",
              "      <td>1.0</td>\n",
              "      <td>1.0</td>\n",
              "      <td>0.0</td>\n",
              "      <td>NaN</td>\n",
              "      <td>NaN</td>\n",
              "      <td>0.0</td>\n",
              "      <td>NaN</td>\n",
              "      <td>0.0</td>\n",
              "      <td>NaN</td>\n",
              "      <td>NaN</td>\n",
              "      <td>NaN</td>\n",
              "      <td>0.0</td>\n",
              "      <td>NaN</td>\n",
              "      <td>0.0</td>\n",
              "      <td>0.0</td>\n",
              "      <td>NaN</td>\n",
              "      <td>0.0</td>\n",
              "      <td>NaN</td>\n",
              "      <td>NaN</td>\n",
              "      <td>NaN</td>\n",
              "      <td>M2</td>\n",
              "      <td>NaN</td>\n",
              "      <td>NaN</td>\n",
              "      <td>NaN</td>\n",
              "      <td>NaN</td>\n",
              "      <td>NaN</td>\n",
              "    </tr>\n",
              "    <tr>\n",
              "      <th>3400363</th>\n",
              "      <td>-60.0</td>\n",
              "      <td>101418.0</td>\n",
              "      <td>NaN</td>\n",
              "      <td>NaN</td>\n",
              "      <td>0.0</td>\n",
              "      <td>0.0</td>\n",
              "      <td>NaN</td>\n",
              "      <td>NaN</td>\n",
              "      <td>NaN</td>\n",
              "      <td>NaN</td>\n",
              "      <td>100.0</td>\n",
              "      <td>NotFound</td>\n",
              "      <td>64.0</td>\n",
              "      <td>NaN</td>\n",
              "      <td>New</td>\n",
              "      <td>NotFound</td>\n",
              "      <td>225.0</td>\n",
              "      <td>NaN</td>\n",
              "      <td>176.0</td>\n",
              "      <td>325.0</td>\n",
              "      <td>NaN</td>\n",
              "      <td>NaN</td>\n",
              "      <td>NaN</td>\n",
              "      <td>NaN</td>\n",
              "      <td>NaN</td>\n",
              "      <td>NaN</td>\n",
              "      <td>NaN</td>\n",
              "      <td>New</td>\n",
              "      <td>NotFound</td>\n",
              "      <td>NaN</td>\n",
              "      <td>chrome 65.0 for android</td>\n",
              "      <td>NaN</td>\n",
              "      <td>NaN</td>\n",
              "      <td>NaN</td>\n",
              "      <td>F</td>\n",
              "      <td>F</td>\n",
              "      <td>T</td>\n",
              "      <td>F</td>\n",
              "      <td>mobile</td>\n",
              "      <td>HUAWEI VNS-L23 Build/HUAWEIVNS-L23</td>\n",
              "      <td>...</td>\n",
              "      <td>gmail.com</td>\n",
              "      <td>gmail.com</td>\n",
              "      <td>1.0</td>\n",
              "      <td>1.0</td>\n",
              "      <td>0.0</td>\n",
              "      <td>1.0</td>\n",
              "      <td>0.0</td>\n",
              "      <td>1.0</td>\n",
              "      <td>1.0</td>\n",
              "      <td>1.0</td>\n",
              "      <td>0.0</td>\n",
              "      <td>1.0</td>\n",
              "      <td>1.0</td>\n",
              "      <td>1.0</td>\n",
              "      <td>1.0</td>\n",
              "      <td>1.0</td>\n",
              "      <td>0.0</td>\n",
              "      <td>NaN</td>\n",
              "      <td>NaN</td>\n",
              "      <td>0.0</td>\n",
              "      <td>NaN</td>\n",
              "      <td>0.0</td>\n",
              "      <td>NaN</td>\n",
              "      <td>NaN</td>\n",
              "      <td>NaN</td>\n",
              "      <td>0.0</td>\n",
              "      <td>NaN</td>\n",
              "      <td>0.0</td>\n",
              "      <td>0.0</td>\n",
              "      <td>0.0</td>\n",
              "      <td>0.0</td>\n",
              "      <td>NaN</td>\n",
              "      <td>NaN</td>\n",
              "      <td>NaN</td>\n",
              "      <td>M2</td>\n",
              "      <td>NaN</td>\n",
              "      <td>NaN</td>\n",
              "      <td>NaN</td>\n",
              "      <td>NaN</td>\n",
              "      <td>NaN</td>\n",
              "    </tr>\n",
              "  </tbody>\n",
              "</table>\n",
              "<p>109911 rows × 93 columns</p>\n",
              "</div>"
            ],
            "text/plain": [
              "               id_01     id_02  id_03  id_04  id_05  ...   M5   M6   M7   M8   M9\n",
              "TransactionID                                        ...                         \n",
              "2987004          0.0   70787.0    NaN    NaN    NaN  ...  NaN  NaN  NaN  NaN  NaN\n",
              "2987008         -5.0   98945.0    NaN    NaN    0.0  ...  NaN  NaN  NaN  NaN  NaN\n",
              "2987010         -5.0  191631.0    0.0    0.0    0.0  ...  NaN  NaN  NaN  NaN  NaN\n",
              "2987011         -5.0  221832.0    NaN    NaN    0.0  ...  NaN  NaN  NaN  NaN  NaN\n",
              "2987016          0.0    7460.0    0.0    0.0    1.0  ...  NaN  NaN  NaN  NaN  NaN\n",
              "...              ...       ...    ...    ...    ...  ...  ...  ...  ...  ...  ...\n",
              "3400307         -5.0  141486.0    0.0    0.0   31.0  ...  NaN  NaN  NaN  NaN  NaN\n",
              "3400314         -5.0   34575.0    0.0    0.0    1.0  ...  NaN  NaN  NaN  NaN  NaN\n",
              "3400351         -5.0   99755.0    NaN    NaN    0.0  ...  NaN  NaN  NaN  NaN  NaN\n",
              "3400353        -20.0  311626.0    NaN    NaN   -2.0  ...  NaN  NaN  NaN  NaN  NaN\n",
              "3400363        -60.0  101418.0    NaN    NaN    0.0  ...  NaN  NaN  NaN  NaN  NaN\n",
              "\n",
              "[109911 rows x 93 columns]"
            ]
          },
          "metadata": {},
          "execution_count": 15
        }
      ]
    },
    {
      "cell_type": "code",
      "source": [
        "#Entretanto, surge um problema: como pode-se ver logo abaixo, a quantidade de instancias que possuem informação\n",
        "#acerca da identidade é menor do que as que possuem acerca da transação\n",
        "X_train_identity.shape[0] , X_train_transaction.shape[0] , X_train_unido.shape[0]\n",
        "\n",
        "#Ainda assim, todas as instancias que possuem informação da identidade possuem TAMBÉM \n",
        "#acerca da transação. \n",
        "\n",
        "#Sendo assim, qualquer estratégia que necessite da totalidade dos dados (em ambos datasets)\n",
        "#estaria incompleto (pois apenas funcionaria para parte das instancias)."
      ],
      "metadata": {
        "colab": {
          "base_uri": "https://localhost:8080/"
        },
        "id": "0YoprT2UkHpt",
        "outputId": "769e780a-8c2c-4bd8-c01c-094407eb780b"
      },
      "execution_count": 16,
      "outputs": [
        {
          "output_type": "execute_result",
          "data": {
            "text/plain": [
              "(109911, 413378, 109911)"
            ]
          },
          "metadata": {},
          "execution_count": 16
        }
      ]
    },
    {
      "cell_type": "markdown",
      "source": [
        "A partir desta observação formula-se a seguinte estratégia: \n",
        "\n",
        "Como as informações contidas no dataset de identidade é possivelmente muito útil para simplesmente descartar, temos de utiliza-la. Porém o modelo final não deve depender desta característica.\n",
        "\n",
        "Tendo isso em mente, inicialmente pensou-se na implementação de um modelo de ensemble em que o valor final previsto é passado por um modelo que analisa as respostas de outros dois modelos.\n",
        "\n",
        "Um dos modelos receberia apenas os dados de transaction e o outro de identity (se uma instância não possuir equivalente em ambos datasets, temos que a resposta final será dada pela resposta do modelo de transaction apenas).\n",
        "\n",
        "Por limitações práticas (de testes de pipelines) e teóricas (provavelmente, e como testado uma hora, o conjunto de identity não possui instâncias nem dados o suficiente para a criação de um classificador robusto, e a classe prevalente era sempre prevista) essa ideia não foi seguida, e optou-se por uma simples ligação entre os datasets, com valores nulos atribuidos para os campos de identity que não existiam originalmente."
      ],
      "metadata": {
        "id": "ebEz6iP5KiGc"
      }
    },
    {
      "cell_type": "markdown",
      "source": [
        "Sendo assim, temos de lidar inicialmente com os valores nulos, em uma análise inicial percebe-se que ambos os lados possuem **bastante** informação em falta."
      ],
      "metadata": {
        "id": "EL4KbxJpR1MS"
      }
    },
    {
      "cell_type": "code",
      "source": [
        "#Vamos então verificar com relação a valores nulos\n",
        "\n",
        "#apenas 53% dos dados de train_identity tem menos de 20% de valores nulos\n",
        "print((100* X_train_identity.isna().sum() / len(X_train_identity) < 20).sum() / X_train_identity.shape[1])\n",
        "\n",
        "print(\"\\n\")\n",
        "\n",
        "#apenas 46% dos dados de train_identity tem menos de 20% de valores nulos\n",
        "print((100* X_train_transaction.isna().sum() / len(X_train_transaction) < 20).sum() / X_train_transaction.shape[1])"
      ],
      "metadata": {
        "colab": {
          "base_uri": "https://localhost:8080/"
        },
        "id": "oxLTUuadouGt",
        "outputId": "96ef9a68-293a-4aab-df77-4a1535b14bcf"
      },
      "execution_count": 17,
      "outputs": [
        {
          "output_type": "stream",
          "name": "stdout",
          "text": [
            "0.525\n",
            "\n",
            "\n",
            "0.5471698113207547\n"
          ]
        }
      ]
    },
    {
      "cell_type": "markdown",
      "source": [
        "Separemos então caso a caso, começando pelo tratamento para identity."
      ],
      "metadata": {
        "id": "EV20HHn6T0Ul"
      }
    },
    {
      "cell_type": "code",
      "source": [
        "#Vamos então fazer o tratamento caso a caso dos valores nulos\n",
        "\n",
        "#Inicialmente, com relação à identidade, temos as seguintes colunas\n",
        "print(X_train_identity.columns)"
      ],
      "metadata": {
        "colab": {
          "base_uri": "https://localhost:8080/"
        },
        "id": "b3yIBDnYT5uA",
        "outputId": "85658a07-47dc-459f-935b-2ae191777c9a"
      },
      "execution_count": 18,
      "outputs": [
        {
          "output_type": "stream",
          "name": "stdout",
          "text": [
            "Index(['id_01', 'id_02', 'id_03', 'id_04', 'id_05', 'id_06', 'id_07', 'id_08',\n",
            "       'id_09', 'id_10', 'id_11', 'id_12', 'id_13', 'id_14', 'id_15', 'id_16',\n",
            "       'id_17', 'id_18', 'id_19', 'id_20', 'id_21', 'id_22', 'id_23', 'id_24',\n",
            "       'id_25', 'id_26', 'id_27', 'id_28', 'id_29', 'id_30', 'id_31', 'id_32',\n",
            "       'id_33', 'id_34', 'id_35', 'id_36', 'id_37', 'id_38', 'DeviceType',\n",
            "       'DeviceInfo'],\n",
            "      dtype='object')\n"
          ]
        }
      ]
    },
    {
      "cell_type": "markdown",
      "source": [
        "De acordo com a descrição dos dados, todas estas features são categóricas.\n",
        "\n",
        "Como podem ser distinguidos dois grupos (id e Device) vamos trata-los separadamente"
      ],
      "metadata": {
        "id": "5P35H_wmUY__"
      }
    },
    {
      "cell_type": "code",
      "source": [
        "#Inicialmente para Device\n",
        "\n",
        "#DeviceInfo possui cerca de 17% de nulos\n",
        "print(X_train_identity.DeviceInfo.isna().sum() / len(X_train_identity))\n",
        "\n",
        "#DeviceType possui cerca de 2% de nulos\n",
        "print(X_train_identity.DeviceType.isna().sum() / len(X_train_identity))"
      ],
      "metadata": {
        "colab": {
          "base_uri": "https://localhost:8080/"
        },
        "id": "jjwdRABVUJtj",
        "outputId": "136d8700-7a53-4ddc-b86f-7179bb6b74ee"
      },
      "execution_count": 19,
      "outputs": [
        {
          "output_type": "stream",
          "name": "stdout",
          "text": [
            "0.16876381799819853\n",
            "0.022873051832846575\n"
          ]
        }
      ]
    },
    {
      "cell_type": "code",
      "source": [
        "#Vamos ver quais são os valores presentes em cada coluna\n",
        "print(X_train_identity.DeviceInfo.nunique(),\"\\n\")\n",
        "X_train_identity.DeviceInfo"
      ],
      "metadata": {
        "colab": {
          "base_uri": "https://localhost:8080/"
        },
        "id": "Eq9IjxOBU6vW",
        "outputId": "4d085e4e-dda3-4c2e-dea3-471142e478bf"
      },
      "execution_count": 20,
      "outputs": [
        {
          "output_type": "stream",
          "name": "stdout",
          "text": [
            "1546 \n",
            "\n"
          ]
        },
        {
          "output_type": "execute_result",
          "data": {
            "text/plain": [
              "TransactionID\n",
              "2987004         SAMSUNG SM-G892A Build/NRD90M\n",
              "2987008                            iOS Device\n",
              "2987010                               Windows\n",
              "2987011                                   NaN\n",
              "2987016                                 MacOS\n",
              "                          ...                \n",
              "3400307                               SAMSUNG\n",
              "3400314                                   NaN\n",
              "3400351                               Windows\n",
              "3400353                                   NaN\n",
              "3400363    HUAWEI VNS-L23 Build/HUAWEIVNS-L23\n",
              "Name: DeviceInfo, Length: 109911, dtype: object"
            ]
          },
          "metadata": {},
          "execution_count": 20
        }
      ]
    },
    {
      "cell_type": "code",
      "source": [
        "#Vamos ver quais são os valores presentes em cada coluna\n",
        "print(X_train_identity.DeviceType.nunique(),\"\\n\")\n",
        "X_train_identity.DeviceType"
      ],
      "metadata": {
        "colab": {
          "base_uri": "https://localhost:8080/"
        },
        "id": "hUT6I6uLVpfl",
        "outputId": "538eacc1-e5e6-4f49-fca3-1d7d194711f7"
      },
      "execution_count": 21,
      "outputs": [
        {
          "output_type": "stream",
          "name": "stdout",
          "text": [
            "2 \n",
            "\n"
          ]
        },
        {
          "output_type": "execute_result",
          "data": {
            "text/plain": [
              "TransactionID\n",
              "2987004     mobile\n",
              "2987008     mobile\n",
              "2987010    desktop\n",
              "2987011    desktop\n",
              "2987016    desktop\n",
              "            ...   \n",
              "3400307     mobile\n",
              "3400314    desktop\n",
              "3400351    desktop\n",
              "3400353     mobile\n",
              "3400363     mobile\n",
              "Name: DeviceType, Length: 109911, dtype: object"
            ]
          },
          "metadata": {},
          "execution_count": 21
        }
      ]
    },
    {
      "cell_type": "markdown",
      "source": [
        "Ao que pode-se ver temos uma distinção qualitativa imensa: por um lado, DeviceInfo é altamente diverso, com mais de 1000 tipos distintos, enquanto que DeviceType é apenas binário. \n",
        "\n",
        "Escolhe-se assim então uma binarização da variável DeviceType, visto que é possivelmente valiosa (dado que possivelmente fraudes de um certo tipo podem ser feitas mais facilmente em um desktop do que um celular ou vice-versa).\n",
        "\n",
        "Enquanto isso, embora possa existir alguma correlação real entre o tipo do aparelho e a fraude, é esperado que seja mínimo, de forma que é mais provável que esta feature seja irrelevante (pois, por exemplo, dado que a **grande** maioria dos desktops utiliza-se de um sistema windows, a variável desktop e windows apresentariam praticamente a mesma informação) ou até mesmo prejudicial (pode ser que nesta época um modelo específico esteja em alta, o que pode aumentar as chances de ser associado como fraude). Sendo assim, esta coluna será descartada."
      ],
      "metadata": {
        "id": "XlW7T7hhVuEn"
      }
    },
    {
      "cell_type": "markdown",
      "source": [
        "Quanto aos valores inexistentes, como estamos tratando de valores que serão contínuos futuramente (por conta da binarização da coluna deviceType) uma opção seria a substituição de 0,5 para valores nulos, ou então simplesmente a média (para invocar uma maior probabilidade de ser de algum tipo). Ambos serão tratados no pipeline final."
      ],
      "metadata": {
        "id": "DTn9jmE-Xl21"
      }
    },
    {
      "cell_type": "code",
      "source": [
        "#apenas como teste, ambas propostas são próximas na prática\n",
        "X_train_identity.DeviceType.map({'mobile': 0, 'desktop': 1}).mean()"
      ],
      "metadata": {
        "colab": {
          "base_uri": "https://localhost:8080/"
        },
        "id": "82usx1tTXkLX",
        "outputId": "9e76f55f-e910-4deb-bb46-22b21d0142aa"
      },
      "execution_count": 22,
      "outputs": [
        {
          "output_type": "execute_result",
          "data": {
            "text/plain": [
              "0.6141977895099491"
            ]
          },
          "metadata": {},
          "execution_count": 22
        }
      ]
    },
    {
      "cell_type": "code",
      "source": [
        "X_train_identity.DeviceType = X_train_identity.DeviceType.map({'mobile': 0, 'desktop': 1})"
      ],
      "metadata": {
        "id": "8OTszAQmCSSG"
      },
      "execution_count": 23,
      "outputs": []
    },
    {
      "cell_type": "code",
      "source": [
        "X_train_identity.drop(['DeviceInfo'],axis=1,inplace = True)"
      ],
      "metadata": {
        "id": "WtLYKjn0CcSC"
      },
      "execution_count": 24,
      "outputs": []
    },
    {
      "cell_type": "code",
      "source": [
        "X_train_identity.DeviceType.fillna(-1,inplace=True)"
      ],
      "metadata": {
        "id": "snQQUxQgFCct"
      },
      "execution_count": 25,
      "outputs": []
    },
    {
      "cell_type": "markdown",
      "source": [
        "Agora para as variáveis de id. De acordo com a descrição da competição, estas variáveis possuem imbutidas informações acerca da conexão, SO, ISP, Proxy, etc, o que pode ser **muito** útil na identificação de fraudes."
      ],
      "metadata": {
        "id": "F98-2dHuYeeJ"
      }
    },
    {
      "cell_type": "markdown",
      "source": [
        "Uma feature **mista** que pode ser útil é a união da informação acerca da localização que um cliente realizou a sua operação, a informação de rede relativa a localização, e a quantidade de endereços registradas em nome do cliente.\n",
        "\n",
        "Para ilustrar: imagine que um cliente fez uma compra em um determinado local (addr1 e addr2, junto de dist e possivelmente outras features) porém o ISP e Proxy registrados são incompatíveis ou improváveis de serem encontrados nesta região. Isso pode implicar em um acesso remoto, ou minimamente em um outlier que vale a pena ser vigiado."
      ],
      "metadata": {
        "id": "XPKZeOEydJ0O"
      }
    },
    {
      "cell_type": "markdown",
      "source": [
        "Por conta do alto numero de valores nulos, dist1 e dist2 nao podem ser usados com confiança nem estabilidade, porém uma análise indica que addr1 e addr2 possuem poucos nulos\n",
        "\n",
        "De acordo com a descricao dos dados, estes valores provavalmente indicam codigos zip, o que embora \n",
        "seriam tecnicamente categoricos, zips proximos geralmente indicam regioes proximas"
      ],
      "metadata": {
        "id": "TpkwOFvtAFvz"
      }
    },
    {
      "cell_type": "markdown",
      "source": [
        "Para isto vamos utilizar a seguinte estratégias: as features de identidade que podem mais robustamente prever addr1 e addr2 serão aquelas que irão ser utilizadas como suporte para esta nova variável mista. "
      ],
      "metadata": {
        "id": "nB06GT2P_mXI"
      }
    },
    {
      "cell_type": "code",
      "source": [
        "from sklearn.ensemble import RandomForestClassifier\n",
        "from sklearn.feature_selection import SelectFromModel"
      ],
      "metadata": {
        "id": "EipOZDCw6pnB"
      },
      "execution_count": 26,
      "outputs": []
    },
    {
      "cell_type": "code",
      "source": [
        "sel1 = SelectFromModel(RandomForestClassifier(n_estimators = 200,max_depth=3))\n",
        "sel2 = SelectFromModel(RandomForestClassifier(n_estimators = 200,max_depth=3))\n",
        "\n",
        "adr1 =  X_train_unido[['addr1']].fillna(-1,axis=1) \n",
        "adr2 =  X_train_unido[['addr2']].fillna(-1,axis=1) \n",
        "\n",
        "num_cols = [c for c in X_train_identity.columns if X_train_identity[c].dtype != 'object' ]\n",
        "teste_id = X_train_identity[num_cols].fillna(-1,axis=1)\n",
        "\n",
        "sel1.fit(teste_id,adr1)\n",
        "sel2.fit(teste_id,adr2)"
      ],
      "metadata": {
        "colab": {
          "base_uri": "https://localhost:8080/"
        },
        "id": "TQSUCTc66wbi",
        "outputId": "7d8494a1-df75-44f5-ebb4-6f650ac355a7"
      },
      "execution_count": 27,
      "outputs": [
        {
          "output_type": "stream",
          "name": "stderr",
          "text": [
            "/usr/local/lib/python3.7/dist-packages/sklearn/feature_selection/_from_model.py:267: DataConversionWarning: A column-vector y was passed when a 1d array was expected. Please change the shape of y to (n_samples,), for example using ravel().\n",
            "  self.estimator_.fit(X, y, **fit_params)\n",
            "/usr/local/lib/python3.7/dist-packages/sklearn/feature_selection/_from_model.py:267: DataConversionWarning: A column-vector y was passed when a 1d array was expected. Please change the shape of y to (n_samples,), for example using ravel().\n",
            "  self.estimator_.fit(X, y, **fit_params)\n"
          ]
        },
        {
          "output_type": "execute_result",
          "data": {
            "text/plain": [
              "SelectFromModel(estimator=RandomForestClassifier(max_depth=3, n_estimators=200))"
            ]
          },
          "metadata": {},
          "execution_count": 27
        }
      ]
    },
    {
      "cell_type": "markdown",
      "source": [
        "Vamos então ver as importâncias"
      ],
      "metadata": {
        "id": "ibnVdRjt_bw7"
      }
    },
    {
      "cell_type": "markdown",
      "source": [
        "b) Faça uma análise ilustrando a (possível) qualidade das variáveis propostas."
      ],
      "metadata": {
        "id": "6KRB5Sgt3aeO"
      }
    },
    {
      "cell_type": "code",
      "source": [
        "pd.Series(sel1.estimator_.feature_importances_.ravel()).hist()"
      ],
      "metadata": {
        "colab": {
          "base_uri": "https://localhost:8080/",
          "height": 282
        },
        "id": "Fi69r7s39rB-",
        "outputId": "61fbcf6e-e043-42d2-eaca-c39e24050246"
      },
      "execution_count": 28,
      "outputs": [
        {
          "output_type": "execute_result",
          "data": {
            "text/plain": [
              "<matplotlib.axes._subplots.AxesSubplot at 0x7f57d8e43090>"
            ]
          },
          "metadata": {},
          "execution_count": 28
        },
        {
          "output_type": "display_data",
          "data": {
            "image/png": "[encoded data removed]",
            "text/plain": [
              "<Figure size 432x288 with 1 Axes>"
            ]
          },
          "metadata": {
            "needs_background": "light"
          }
        }
      ]
    },
    {
      "cell_type": "code",
      "source": [
        "sel1.get_feature_names_out()"
      ],
      "metadata": {
        "colab": {
          "base_uri": "https://localhost:8080/"
        },
        "id": "nmA1IlXDfShz",
        "outputId": "c704c4b6-2756-4e9a-a886-91fc310b8c4b"
      },
      "execution_count": 29,
      "outputs": [
        {
          "output_type": "execute_result",
          "data": {
            "text/plain": [
              "array(['id_14', 'id_17', 'id_20', 'id_32'], dtype=object)"
            ]
          },
          "metadata": {},
          "execution_count": 29
        }
      ]
    },
    {
      "cell_type": "code",
      "source": [
        "pd.Series(sel2.estimator_.feature_importances_.ravel()).hist()"
      ],
      "metadata": {
        "colab": {
          "base_uri": "https://localhost:8080/",
          "height": 282
        },
        "id": "oWWJLXXR_ewr",
        "outputId": "0610cf81-fab9-4166-9b85-7815291057ee"
      },
      "execution_count": 30,
      "outputs": [
        {
          "output_type": "execute_result",
          "data": {
            "text/plain": [
              "<matplotlib.axes._subplots.AxesSubplot at 0x7f57d88ee5d0>"
            ]
          },
          "metadata": {},
          "execution_count": 30
        },
        {
          "output_type": "display_data",
          "data": {
            "image/png": "[encoded data removed]",
            "text/plain": [
              "<Figure size 432x288 with 1 Axes>"
            ]
          },
          "metadata": {
            "needs_background": "light"
          }
        }
      ]
    },
    {
      "cell_type": "code",
      "source": [
        "sel1.get_feature_names_out()"
      ],
      "metadata": {
        "colab": {
          "base_uri": "https://localhost:8080/"
        },
        "id": "5OxnkT-jfXoF",
        "outputId": "fef01dfd-abe4-410a-f12d-351689b96cf4"
      },
      "execution_count": 31,
      "outputs": [
        {
          "output_type": "execute_result",
          "data": {
            "text/plain": [
              "array(['id_14', 'id_17', 'id_20', 'id_32'], dtype=object)"
            ]
          },
          "metadata": {},
          "execution_count": 31
        }
      ]
    },
    {
      "cell_type": "code",
      "source": [
        "#A única feature que é capaz de realmente ser usada como previsora de qual é o endereço \n",
        "#seria id_02, sendo assim vamos nos utilizar de uma técnica de Outlier detection para verificar\n",
        "#quais seriam os outliers, o que nos mostra discrepâncias entre o endereço atual e a informação \n",
        "#de rede registrada, e usar esta classificação (oulier ou não) como feature.\n",
        "\n",
        "#Para isso um modelo de IsolationForest será usado\n",
        "\n",
        "from sklearn.ensemble import IsolationForest"
      ],
      "metadata": {
        "id": "nZfoe9TKAUYy"
      },
      "execution_count": 32,
      "outputs": []
    },
    {
      "cell_type": "code",
      "source": [
        "X_concat_custom_feat_1 = pd.concat([adr1['addr1'],adr2['addr2'],teste_id['id_02']],axis = 1)\n",
        "clf_Outlier = IsolationForest(random_state=42).fit(X_concat_custom_feat_1)"
      ],
      "metadata": {
        "id": "99b211jLBLM_"
      },
      "execution_count": 33,
      "outputs": []
    },
    {
      "cell_type": "code",
      "source": [
        "#Temos entao uma média possivelmente muito alta de outliers, porém a informação\n",
        "#de alerta em si de que é um outlier pode já ser o suficiente para melhorar a performance\n",
        "#do modelo como um todo\n",
        "(clf_Outlier.predict(X_concat_custom_feat_1) == -1).mean()"
      ],
      "metadata": {
        "colab": {
          "base_uri": "https://localhost:8080/"
        },
        "id": "8lsRq-loCBez",
        "outputId": "1ffcc5ce-9e18-4e0f-e4b8-b489405d7f36"
      },
      "execution_count": 34,
      "outputs": [
        {
          "output_type": "execute_result",
          "data": {
            "text/plain": [
              "0.22272565985206214"
            ]
          },
          "metadata": {},
          "execution_count": 34
        }
      ]
    },
    {
      "cell_type": "code",
      "source": [
        "X_train_custom_feat_1_df = pd.DataFrame(clf_Outlier.predict(X_concat_custom_feat_1),columns=['Outlier_tipo_1']).set_index(X_train_identity.index)"
      ],
      "metadata": {
        "id": "kDIWQ4PMDVna"
      },
      "execution_count": 35,
      "outputs": []
    },
    {
      "cell_type": "markdown",
      "source": [
        "a) Proponha 3 novas variáveis explicativas que façam sentido do ponto de vista\n",
        "prático do problema;"
      ],
      "metadata": {
        "id": "TPOMn9cF3-6p"
      }
    },
    {
      "cell_type": "markdown",
      "source": [
        "Uma outra (e última) ideia de \"leak\" de um conjunto de dados para o outro seria no seguinte cenário:\n",
        "\n",
        "Imagine que uma grande quantidade de pagamentos é feita em sequência, com altas somas de dinheiro. O modelo que não possui acesso às features de identidade provavelmente preverá que é uma fraude, entretanto, como informações de identidade estão localizadas no modelo que tem acesso à identidade, pode ser que esta pessoa seja realmente muito rica, com nenhum erro de login e senha detectado (uma leitura nos comentários da competição informa que isso está presente em algum lugar nesta secção), o que pode nos levar a crer que são compras legítimas, feitas por alguém com bastante dinheiro."
      ],
      "metadata": {
        "id": "2o2tVPr0jXPY"
      }
    },
    {
      "cell_type": "code",
      "source": [
        "#Vamos antes verificar na secção de transacoes se os valores correspondentes a algum tipo\n",
        "#de contagem (da descricao: timedelta, such as days between previous transaction, etc. )\n",
        "\n",
        "#verificacao de nulos\n",
        "X_train_unido[['D%d'%(i+1) for i in range(15)]].isna().mean()"
      ],
      "metadata": {
        "colab": {
          "base_uri": "https://localhost:8080/"
        },
        "id": "f1_Sa9_qCGrC",
        "outputId": "0b4c7b90-76a6-487d-9acd-16db631259ac"
      },
      "execution_count": 36,
      "outputs": [
        {
          "output_type": "execute_result",
          "data": {
            "text/plain": [
              "D1     0.000273\n",
              "D2     0.807772\n",
              "D3     0.824622\n",
              "D4     0.569443\n",
              "D5     0.784890\n",
              "D6     0.565639\n",
              "D7     0.776974\n",
              "D8     0.488795\n",
              "D9     0.488795\n",
              "D10    0.549217\n",
              "D11    1.000000\n",
              "D12    0.613724\n",
              "D13    0.599076\n",
              "D14    0.591005\n",
              "D15    0.549263\n",
              "dtype: float64"
            ]
          },
          "metadata": {},
          "execution_count": 36
        }
      ]
    },
    {
      "cell_type": "markdown",
      "source": [
        "O único valor que pode ser útil para a criação de uma feature seria D1 pois possui uma quantidade baixa de nulos, sendo portanto mais representativo da realidade."
      ],
      "metadata": {
        "id": "IuWgNde6Y2ja"
      }
    },
    {
      "cell_type": "markdown",
      "source": [
        "Como escolha de definição de 'riqueza' toma-se a razão entre a quantidade de dinheiro gasto por intervalo de tempo. Assumindo que D1 realmente representa um intervalo de tempo válido entre transações, temos que o produto de TransactionAmt pelo inverso do tempo entre transações representa um 'gasto por tempo'.\n",
        "\n",
        "Assim, um indivíduo é mais rico se gasta mais em menos tempo"
      ],
      "metadata": {
        "id": "wT7qxzCbZjqY"
      }
    },
    {
      "cell_type": "markdown",
      "source": [
        "Como feito para a variável anterior, temos de verificar quais das features em identity que possuem maior poder preditivo desta definição de riqueza. \n",
        "\n",
        "A feature final seria uma representação equivalente em identity da noção de riqueza apresentada e com isso, aplicamos uma detecção de outliers no conjunto completo.\n",
        "\n",
        "Assim, nossas features novas seriam, em suma, se existe (-1) ou não (1) uma discrepância entre a definição de riqueza em identity e o gasto por tempo em transaction."
      ],
      "metadata": {
        "id": "sge6v9DehnZj"
      }
    },
    {
      "cell_type": "code",
      "source": [
        "sel3 = SelectFromModel(RandomForestClassifier(n_estimators = 200,max_depth=3))\n",
        "\n",
        "epsilon = 1e-3\n",
        "freq_x_magnitude =  X_train_unido[['TransactionAmt']].fillna(-1,axis=1).to_numpy() / (X_train_unido[['D1']].fillna(-1,axis=1).to_numpy() + epsilon)\n",
        "\n",
        "df_riq = pd.DataFrame(freq_x_magnitude,columns=['freq_x_magn']).set_index(X_train_identity.index).astype(int)\n",
        "\n",
        "num_cols = [c for c in X_train_identity.columns if X_train_identity[c].dtype != 'object' ]\n",
        "teste_id = X_train_identity[num_cols].fillna(-1,axis=1)"
      ],
      "metadata": {
        "id": "hB2LvYqFcHBK"
      },
      "execution_count": 37,
      "outputs": []
    },
    {
      "cell_type": "code",
      "source": [
        "sel3.fit(teste_id,df_riq)"
      ],
      "metadata": {
        "colab": {
          "base_uri": "https://localhost:8080/"
        },
        "id": "ibNh1p2xdORX",
        "outputId": "6e9b24c9-14f7-40fb-8390-2c49346a0260"
      },
      "execution_count": 38,
      "outputs": [
        {
          "output_type": "stream",
          "name": "stderr",
          "text": [
            "/usr/local/lib/python3.7/dist-packages/sklearn/feature_selection/_from_model.py:267: DataConversionWarning: A column-vector y was passed when a 1d array was expected. Please change the shape of y to (n_samples,), for example using ravel().\n",
            "  self.estimator_.fit(X, y, **fit_params)\n"
          ]
        },
        {
          "output_type": "execute_result",
          "data": {
            "text/plain": [
              "SelectFromModel(estimator=RandomForestClassifier(max_depth=3, n_estimators=200))"
            ]
          },
          "metadata": {},
          "execution_count": 38
        }
      ]
    },
    {
      "cell_type": "markdown",
      "source": [
        "b) Faça uma análise ilustrando a (possível) qualidade das variáveis propostas."
      ],
      "metadata": {
        "id": "Q4XHW3cm4Imc"
      }
    },
    {
      "cell_type": "code",
      "source": [
        "pd.Series(sel3.estimator_.feature_importances_.ravel()).hist()"
      ],
      "metadata": {
        "colab": {
          "base_uri": "https://localhost:8080/",
          "height": 282
        },
        "id": "mcS6NK8re7gv",
        "outputId": "66d5dbda-4ca3-450f-9699-e75a435cd97f"
      },
      "execution_count": 39,
      "outputs": [
        {
          "output_type": "execute_result",
          "data": {
            "text/plain": [
              "<matplotlib.axes._subplots.AxesSubplot at 0x7f57d87f5790>"
            ]
          },
          "metadata": {},
          "execution_count": 39
        },
        {
          "output_type": "display_data",
          "data": {
            "image/png": "[encoded data removed]",
            "text/plain": [
              "<Figure size 432x288 with 1 Axes>"
            ]
          },
          "metadata": {
            "needs_background": "light"
          }
        }
      ]
    },
    {
      "cell_type": "code",
      "source": [
        "sel3.get_feature_names_out()"
      ],
      "metadata": {
        "colab": {
          "base_uri": "https://localhost:8080/"
        },
        "id": "aTMEsfJSfIaC",
        "outputId": "98dbd6d3-87ef-445f-ed89-3a8f501d9d2a"
      },
      "execution_count": 40,
      "outputs": [
        {
          "output_type": "execute_result",
          "data": {
            "text/plain": [
              "array(['id_02', 'id_13', 'id_14', 'id_17', 'id_20', 'id_32'], dtype=object)"
            ]
          },
          "metadata": {},
          "execution_count": 40
        }
      ]
    },
    {
      "cell_type": "code",
      "source": [
        "#novamente parece que temos que id_02 é a feature com maior poder preditivo de 'riqueza'\n",
        "#isso pode ser pois a localizao de uma pessoa seria sim um indicador de riqueza, porém\n",
        "#como o significado dos dados está mascarado fica complicado afirmar isso, e portanto\n",
        "#nao devemos pular para concluir isso ainda\n",
        "X_concat_custom_feat_2 = pd.concat([df_riq['freq_x_magn'],teste_id['id_02']],axis = 1)\n",
        "\n",
        "clf_Outlier_2 = IsolationForest(random_state=42).fit(X_concat_custom_feat_2)"
      ],
      "metadata": {
        "id": "tdQQvQlYf9Ix"
      },
      "execution_count": 41,
      "outputs": []
    },
    {
      "cell_type": "code",
      "source": [
        "# a quantidade de outliers é similar, um bom sinal!\n",
        "outliers_2 = clf_Outlier_2.predict(X_concat_custom_feat_2)\n",
        "(outliers_2 == -1).mean()"
      ],
      "metadata": {
        "colab": {
          "base_uri": "https://localhost:8080/"
        },
        "id": "VbSiBtHfgVTC",
        "outputId": "3e810d4d-0c83-4621-d014-76764953acea"
      },
      "execution_count": 42,
      "outputs": [
        {
          "output_type": "execute_result",
          "data": {
            "text/plain": [
              "0.17309459471754418"
            ]
          },
          "metadata": {},
          "execution_count": 42
        }
      ]
    },
    {
      "cell_type": "code",
      "source": [
        "X_train_custom_feat_2_df = pd.DataFrame(clf_Outlier_2.predict(X_concat_custom_feat_2),columns=['Outlier_tipo_2']).set_index(X_train_identity.index)"
      ],
      "metadata": {
        "id": "L43PVFu2D0n2"
      },
      "execution_count": 43,
      "outputs": []
    },
    {
      "cell_type": "markdown",
      "source": [
        "Neste instante, como notou-se anteriormente, existem muitos valores nulos em id, por isso, para estas colunas, vamos adotar a seguinte estratégia:\n",
        "\n",
        "* Se a coluna se referir a variaveis do tipo object **E** tivermos muitas labels/classes (>10) entao a coluna é descartada. Se tiver um número baixo (<=10) de labels/classes então utiliza-se um preenchimento numérico **RUDE** (labelEncoder).\n",
        "\n",
        "* Se a coluna for numérica, os valores nulos são simplesmente marcados como -1.\n",
        "\n",
        "Isso tudo ocorre pois, devido a alta quantidade de nulos, é muito fácil o modelo se enviesar pela baixa quantidade de amostras, portanto, efetivamente se 'suaviza-se' o efeito disso pela redução de dimensionalidade (por PCA) de modo que estas features em si (id na dimensão menor) são mais úteis."
      ],
      "metadata": {
        "id": "YiarpAVWghru"
      }
    },
    {
      "cell_type": "code",
      "source": [
        "from sklearn.preprocessing import LabelEncoder"
      ],
      "metadata": {
        "id": "lMuzAxMQK9yZ"
      },
      "execution_count": 44,
      "outputs": []
    },
    {
      "cell_type": "code",
      "source": [
        "id_cols= ['id_0%d'%(i+1) for i in range(9)] + ['id_%d'%(i+1) for i in range(9,38)]\n",
        "\n",
        "transformers = {}\n",
        "\n",
        "for c in id_cols:\n",
        "  if X_train_identity[c].dtype == 'object':\n",
        "    if X_train_identity[c].nunique() > 10:\n",
        "      X_train_identity.drop(c,inplace= True,axis=1)\n",
        "    else:\n",
        "      le = LabelEncoder()\n",
        "      X_train_identity[c].fillna(\"Unknown\",inplace = True)\n",
        "      le.fit(list(X_train_identity[c].astype(str).values))\n",
        "      X_train_identity[c] = le.transform(list(X_train_identity[c].astype(str).values))\n",
        "      transformers[c] = le\n",
        "  else:\n",
        "    X_train_identity[c].fillna(-1,inplace = True)"
      ],
      "metadata": {
        "id": "Nj8ETqkaG7zH"
      },
      "execution_count": 45,
      "outputs": []
    },
    {
      "cell_type": "code",
      "source": [
        "#Recuperam-se então todas as colunas id\n",
        "id_train_num = X_train_identity[[c for c in X_train_identity.columns if c.startswith('id_')]]"
      ],
      "metadata": {
        "id": "6ba9LA8WOJWN"
      },
      "execution_count": 46,
      "outputs": []
    },
    {
      "cell_type": "code",
      "source": [
        "#Aplica-se PCA, com 95% da variancia explicada nos eixos\n",
        "from sklearn.decomposition import PCA\n",
        "\n",
        "pca_id = PCA(n_components = 0.95)\n",
        "\n",
        "pca_id_feat = pca_id.fit_transform(id_train_num)"
      ],
      "metadata": {
        "id": "Jn6QFL9cNNe-"
      },
      "execution_count": 47,
      "outputs": []
    },
    {
      "cell_type": "code",
      "source": [
        "#Aparentemente (de forma estranha, embora realmente muitos valores nulos existiam) só temos um eixo\n",
        "pca_id.explained_variance_ratio_"
      ],
      "metadata": {
        "colab": {
          "base_uri": "https://localhost:8080/"
        },
        "id": "Nw2_qWi0OQ8E",
        "outputId": "73cc9d26-76f1-4287-e7ac-4db9ae64507c"
      },
      "execution_count": 48,
      "outputs": [
        {
          "output_type": "execute_result",
          "data": {
            "text/plain": [
              "array([0.99999581])"
            ]
          },
          "metadata": {},
          "execution_count": 48
        }
      ]
    },
    {
      "cell_type": "code",
      "source": [
        "#Com uma escala muito alta\n",
        "pca_id_feat"
      ],
      "metadata": {
        "colab": {
          "base_uri": "https://localhost:8080/"
        },
        "id": "zIA1edxUlLGg",
        "outputId": "4dc5c2fe-4d5e-4cbc-fc3b-1ff563dc0e95"
      },
      "execution_count": 49,
      "outputs": [
        {
          "output_type": "execute_result",
          "data": {
            "text/plain": [
              "array([[-92468.94993981],\n",
              "       [-64310.81890489],\n",
              "       [ 28375.22294303],\n",
              "       ...,\n",
              "       [-63500.88516961],\n",
              "       [148370.29675202],\n",
              "       [-61837.72372661]])"
            ]
          },
          "metadata": {},
          "execution_count": 49
        }
      ]
    },
    {
      "cell_type": "code",
      "source": [
        "from sklearn.preprocessing import MinMaxScaler\n",
        "\n",
        "mM_id = MinMaxScaler()\n",
        "\n",
        "pca_id_feat = mM_id.fit_transform(pca_id_feat)"
      ],
      "metadata": {
        "id": "eLANnq11LK8p"
      },
      "execution_count": 50,
      "outputs": []
    },
    {
      "cell_type": "code",
      "source": [
        "#Converte-se\n",
        "pca_id_feat_df = pd.DataFrame(pca_id_feat, columns=['id']).set_index(X_train_identity.index)"
      ],
      "metadata": {
        "id": "HFtluBMWC3uN"
      },
      "execution_count": 51,
      "outputs": []
    },
    {
      "cell_type": "markdown",
      "source": [
        "Sendo assim, as features finais desta categoria são..."
      ],
      "metadata": {
        "id": "CpNWyTnikfqu"
      }
    },
    {
      "cell_type": "code",
      "source": [
        "feat_train_identity = pd.concat([pca_id_feat_df,X_train_custom_feat_1_df,X_train_custom_feat_2_df,X_train_identity[['DeviceType']]],axis=1)"
      ],
      "metadata": {
        "id": "yjCtYrcNB0Xk"
      },
      "execution_count": 52,
      "outputs": []
    },
    {
      "cell_type": "code",
      "source": [
        "feat_train_identity"
      ],
      "metadata": {
        "colab": {
          "base_uri": "https://localhost:8080/",
          "height": 455
        },
        "id": "9HpAktApEM_Q",
        "outputId": "e31997ec-106b-4917-8d31-a7228345987e"
      },
      "execution_count": 53,
      "outputs": [
        {
          "output_type": "execute_result",
          "data": {
            "text/html": [
              "<div>\n",
              "<style scoped>\n",
              "    .dataframe tbody tr th:only-of-type {\n",
              "        vertical-align: middle;\n",
              "    }\n",
              "\n",
              "    .dataframe tbody tr th {\n",
              "        vertical-align: top;\n",
              "    }\n",
              "\n",
              "    .dataframe thead th {\n",
              "        text-align: right;\n",
              "    }\n",
              "</style>\n",
              "<table border=\"1\" class=\"dataframe\">\n",
              "  <thead>\n",
              "    <tr style=\"text-align: right;\">\n",
              "      <th></th>\n",
              "      <th>id</th>\n",
              "      <th>Outlier_tipo_1</th>\n",
              "      <th>Outlier_tipo_2</th>\n",
              "      <th>DeviceType</th>\n",
              "    </tr>\n",
              "    <tr>\n",
              "      <th>TransactionID</th>\n",
              "      <th></th>\n",
              "      <th></th>\n",
              "      <th></th>\n",
              "      <th></th>\n",
              "    </tr>\n",
              "  </thead>\n",
              "  <tbody>\n",
              "    <tr>\n",
              "      <th>2987004</th>\n",
              "      <td>0.070816</td>\n",
              "      <td>1</td>\n",
              "      <td>1</td>\n",
              "      <td>0.0</td>\n",
              "    </tr>\n",
              "    <tr>\n",
              "      <th>2987008</th>\n",
              "      <td>0.098986</td>\n",
              "      <td>1</td>\n",
              "      <td>1</td>\n",
              "      <td>0.0</td>\n",
              "    </tr>\n",
              "    <tr>\n",
              "      <th>2987010</th>\n",
              "      <td>0.191710</td>\n",
              "      <td>1</td>\n",
              "      <td>1</td>\n",
              "      <td>1.0</td>\n",
              "    </tr>\n",
              "    <tr>\n",
              "      <th>2987011</th>\n",
              "      <td>0.221923</td>\n",
              "      <td>1</td>\n",
              "      <td>1</td>\n",
              "      <td>1.0</td>\n",
              "    </tr>\n",
              "    <tr>\n",
              "      <th>2987016</th>\n",
              "      <td>0.007464</td>\n",
              "      <td>-1</td>\n",
              "      <td>1</td>\n",
              "      <td>1.0</td>\n",
              "    </tr>\n",
              "    <tr>\n",
              "      <th>...</th>\n",
              "      <td>...</td>\n",
              "      <td>...</td>\n",
              "      <td>...</td>\n",
              "      <td>...</td>\n",
              "    </tr>\n",
              "    <tr>\n",
              "      <th>3400307</th>\n",
              "      <td>0.141544</td>\n",
              "      <td>1</td>\n",
              "      <td>1</td>\n",
              "      <td>0.0</td>\n",
              "    </tr>\n",
              "    <tr>\n",
              "      <th>3400314</th>\n",
              "      <td>0.034590</td>\n",
              "      <td>-1</td>\n",
              "      <td>1</td>\n",
              "      <td>1.0</td>\n",
              "    </tr>\n",
              "    <tr>\n",
              "      <th>3400351</th>\n",
              "      <td>0.099796</td>\n",
              "      <td>1</td>\n",
              "      <td>1</td>\n",
              "      <td>1.0</td>\n",
              "    </tr>\n",
              "    <tr>\n",
              "      <th>3400353</th>\n",
              "      <td>0.311753</td>\n",
              "      <td>1</td>\n",
              "      <td>1</td>\n",
              "      <td>0.0</td>\n",
              "    </tr>\n",
              "    <tr>\n",
              "      <th>3400363</th>\n",
              "      <td>0.101460</td>\n",
              "      <td>1</td>\n",
              "      <td>1</td>\n",
              "      <td>0.0</td>\n",
              "    </tr>\n",
              "  </tbody>\n",
              "</table>\n",
              "<p>109911 rows × 4 columns</p>\n",
              "</div>"
            ],
            "text/plain": [
              "                     id  Outlier_tipo_1  Outlier_tipo_2  DeviceType\n",
              "TransactionID                                                      \n",
              "2987004        0.070816               1               1         0.0\n",
              "2987008        0.098986               1               1         0.0\n",
              "2987010        0.191710               1               1         1.0\n",
              "2987011        0.221923               1               1         1.0\n",
              "2987016        0.007464              -1               1         1.0\n",
              "...                 ...             ...             ...         ...\n",
              "3400307        0.141544               1               1         0.0\n",
              "3400314        0.034590              -1               1         1.0\n",
              "3400351        0.099796               1               1         1.0\n",
              "3400353        0.311753               1               1         0.0\n",
              "3400363        0.101460               1               1         0.0\n",
              "\n",
              "[109911 rows x 4 columns]"
            ]
          },
          "metadata": {},
          "execution_count": 53
        }
      ]
    },
    {
      "cell_type": "markdown",
      "source": [
        "Para facilitar/possibilitar o uso desta forma de preprocessamento, poderia-se utilizar de column transformer, porém por diversas razões prefiriu-se testar a implementação de um transformer, por herança das classes base de sklearn."
      ],
      "metadata": {
        "id": "JmJqV5-U4oNe"
      }
    },
    {
      "cell_type": "code",
      "source": [
        "from sklearn.base import BaseEstimator, TransformerMixin\n",
        "\n",
        "#input X deve ter as colunas addr1, addr2, TransactionAmt e D1 concatenadas\n",
        "class TransformerPreprocessamentoIdentity(BaseEstimator, TransformerMixin):\n",
        "\n",
        "  transformers_fit = {}\n",
        "  mM_pca_fit = \"\"\n",
        "  Isolation_1 = \"\"\n",
        "  Isolation_2 = \"\"\n",
        "  pca_id_fit = \"\"\n",
        "  cols_aplicar_fit = {}\n",
        "  mM_id_fit =\"\"\n",
        "\n",
        "  def __init__(self):\n",
        "    return \n",
        "\n",
        "  def fit(self, X, y = None):\n",
        "\n",
        "    X = X.copy()\n",
        "\n",
        "    #Ids\n",
        "    id_cols = [c for c in X.columns if c.startswith('id_')]\n",
        "    transformers = {}\n",
        "    cols_aplicar = {}\n",
        "    for c in id_cols:\n",
        "      if X[c].dtype == 'object':\n",
        "        if X[c].nunique() > 10:\n",
        "          cols_aplicar[c] = \"drop\"\n",
        "          X.drop(c,inplace= True,axis=1)\n",
        "        else:\n",
        "          cols_aplicar[c] = \"label\"\n",
        "          le = LabelEncoder()\n",
        "          X[c].fillna(\"Unknown\",inplace = True)\n",
        "          le.fit(list(X[c].astype(str).values))\n",
        "          X[c] = le.transform(list(X[c].astype(str).values))\n",
        "          transformers[c] = le\n",
        "      else:\n",
        "        X[c].fillna(-1,inplace = True)\n",
        "        cols_aplicar[c] = \"fill\"\n",
        "\n",
        "    #CustomFeature1\n",
        "    adr1 =  X[['addr1_novo']].fillna(-1,axis=1) \n",
        "    adr2 =  X[['addr2_novo']].fillna(-1,axis=1)\n",
        "    X_concat_custom_feat_1 = pd.concat([adr1['addr1_novo'],adr2['addr2_novo'],X['id_02']],axis = 1)\n",
        "    clf_Outlier_1 = IsolationForest(random_state=42).fit(X_concat_custom_feat_1)\n",
        "    \n",
        "    #CustomFeature2\n",
        "    epsilon = 1e-3\n",
        "    freq_x_magnitude =  X[['TransactionAmt_novo']].fillna(-1,axis=1).to_numpy() / (X[['D1_novo']].fillna(-1,axis=1).to_numpy() + epsilon)\n",
        "    df_riq = pd.DataFrame(freq_x_magnitude,columns=['freq_x_magn']).set_index(X.index).astype(int)\n",
        "    X_concat_custom_feat_2 = pd.concat([df_riq['freq_x_magn'],X['id_02']],axis = 1)\n",
        "    clf_Outlier_2 = IsolationForest(random_state=42).fit(X_concat_custom_feat_2)\n",
        "    \n",
        "    #Final\n",
        "    id_cols = [c for c in X.columns if c.startswith('id_')]\n",
        "    id_train_num = X[id_cols]\n",
        "    pca_id = PCA(n_components = 0.95)\n",
        "    pca_id_feat = pca_id.fit_transform(id_train_num)\n",
        "    mM_id = MinMaxScaler()\n",
        "    mM_id.fit(pca_id_feat)\n",
        "\n",
        "    #Salvar valores na classe\n",
        "    self.mM_pca_fit = mM_id\n",
        "    self.transformers_fit = transformers\n",
        "    self.Isolation_1 = clf_Outlier_1\n",
        "    self.Isolation_2 = clf_Outlier_2\n",
        "    self.mM_id_fit =  mM_id\n",
        "    self.pca_id_fit = pca_id\n",
        "    self.cols_aplicar_fit = cols_aplicar\n",
        "    \n",
        "    return self\n",
        "\n",
        "  def transform(self, X, y = None):\n",
        "\n",
        "    #DeviceInfo\n",
        "    X.drop([\"DeviceInfo\"],inplace = True, axis = 1)\n",
        "\n",
        "    #DeviceType\n",
        "    X.DeviceType = X.DeviceType.map({'mobile': 0, 'desktop': 1})\n",
        "    X.DeviceType.fillna(-1,inplace=True)\n",
        "\n",
        "    #Ids\n",
        "    id_cols = [c for c in X.columns if c.startswith('id_')]\n",
        "    for c in id_cols:\n",
        "      if self.cols_aplicar_fit[c] == 'drop':\n",
        "        X.drop(c,inplace= True,axis=1)\n",
        "      elif self.cols_aplicar_fit[c] == 'label':\n",
        "        X[c].fillna(\"Unknown\",inplace = True)\n",
        "        X[c] = self.transformers_fit[c].transform(list(X[c].astype(str).values))\n",
        "      else:\n",
        "        X[c].fillna(-1,inplace = True)\n",
        "    \n",
        "    #CustomFeature1\n",
        "    adr1 =  X[['addr1_novo']].fillna(-1,axis=1) \n",
        "    adr2 =  X[['addr2_novo']].fillna(-1,axis=1)\n",
        "    X_concat_custom_feat_1 = pd.concat([adr1['addr1_novo'],adr2['addr2_novo'],X['id_02']],axis = 1)\n",
        "    X_custom_feat_1_df = pd.DataFrame(self.Isolation_1.predict(X_concat_custom_feat_1),columns=['Outlier_tipo_1']).set_index(X.index)\n",
        "    X.drop(['addr1_novo','addr2_novo'],axis =1, inplace = True)\n",
        "\n",
        "    #CustomFeature2\n",
        "    epsilon = 1e-3\n",
        "    freq_x_magnitude =  X[['TransactionAmt_novo']].fillna(-1,axis=1).to_numpy() / (X[['D1_novo']].fillna(-1,axis=1).to_numpy() + epsilon)\n",
        "    df_riq = pd.DataFrame(freq_x_magnitude,columns=['freq_x_magn']).set_index(X.index).astype(int)\n",
        "    X_concat_custom_feat_2 = pd.concat([df_riq['freq_x_magn'],X['id_02']],axis = 1)\n",
        "    X_custom_feat_2_df = pd.DataFrame(self.Isolation_2.predict(X_concat_custom_feat_2),columns=['Outlier_tipo_2']).set_index(X.index)\n",
        "    X.drop(['TransactionAmt_novo','D1_novo'],axis =1, inplace = True)\n",
        "\n",
        "    #Final\n",
        "    id_cols = [c for c in X.columns if c.startswith('id_')]\n",
        "    id_train_num = X[id_cols]\n",
        "    pca_id_feat = self.pca_id_fit.transform(id_train_num)\n",
        "    pca_id_feat = self.mM_id_fit.transform(pca_id_feat)\n",
        "    pca_id_feat_df = pd.DataFrame(pca_id_feat, columns=['id']).set_index(X.index)\n",
        "    feat_identity = pd.concat([pca_id_feat_df,X_custom_feat_1_df,X_custom_feat_2_df,X[['DeviceType']]],axis=1)\n",
        "\n",
        "    return feat_identity"
      ],
      "metadata": {
        "id": "lRCAtXuzHIQU"
      },
      "execution_count": 54,
      "outputs": []
    },
    {
      "cell_type": "markdown",
      "source": [
        "Para a próxima secção, por existirem algumas facilidades de interpretação dos dados, além de menos features do tipo string/object, implementa-se apenas o transformer, sem a redundância de demonstrar antes a transformação dos dados fora da classe."
      ],
      "metadata": {
        "id": "P_9S1ASaCue4"
      }
    },
    {
      "cell_type": "markdown",
      "source": [
        "Agora vamos para a feature nova remetente ao conjunto de transactions. Após analisar as colunas, nota-se uma ampla abundância de colunas numéricas, o que é desejável. Portanto, vamos analisar as do tipo object para investigar alguma forma interessante de criação de features:"
      ],
      "metadata": {
        "id": "dW0I_l11-8qp"
      }
    },
    {
      "cell_type": "code",
      "source": [
        "features_strings = [c for c in X_train_transaction if X_train_transaction[c].dtype== 'object']\n",
        "features_strings"
      ],
      "metadata": {
        "colab": {
          "base_uri": "https://localhost:8080/"
        },
        "id": "Wy1WzAYhxWRD",
        "outputId": "822f8707-04f0-476f-bb56-72a91eac6921"
      },
      "execution_count": 55,
      "outputs": [
        {
          "output_type": "execute_result",
          "data": {
            "text/plain": [
              "['ProductCD',\n",
              " 'card4',\n",
              " 'card6',\n",
              " 'P_emaildomain',\n",
              " 'R_emaildomain',\n",
              " 'M1',\n",
              " 'M2',\n",
              " 'M3',\n",
              " 'M4',\n",
              " 'M5',\n",
              " 'M6',\n",
              " 'M7',\n",
              " 'M8',\n",
              " 'M9']"
            ]
          },
          "metadata": {},
          "execution_count": 55
        }
      ]
    },
    {
      "cell_type": "markdown",
      "source": [
        "Agora para a verificação de valores nulos e número de valores diferentes:"
      ],
      "metadata": {
        "id": "nx0AhWOU_Xg5"
      }
    },
    {
      "cell_type": "code",
      "source": [
        "#Valores diferentes: Apenas dominios de email (como esperado) possuem uma variabilidade alta\n",
        "for c in features_strings:\n",
        "  print(c,' : ',X_train_transaction[c].nunique())"
      ],
      "metadata": {
        "colab": {
          "base_uri": "https://localhost:8080/"
        },
        "id": "5XVj5DOC_l1p",
        "outputId": "c1011586-3be7-492b-cf8b-8ce586f63088"
      },
      "execution_count": 56,
      "outputs": [
        {
          "output_type": "stream",
          "name": "stdout",
          "text": [
            "ProductCD  :  5\n",
            "card4  :  4\n",
            "card6  :  4\n",
            "P_emaildomain  :  59\n",
            "R_emaildomain  :  60\n",
            "M1  :  2\n",
            "M2  :  2\n",
            "M3  :  2\n",
            "M4  :  3\n",
            "M5  :  2\n",
            "M6  :  2\n",
            "M7  :  2\n",
            "M8  :  2\n",
            "M9  :  2\n"
          ]
        }
      ]
    },
    {
      "cell_type": "code",
      "source": [
        "#Valores nulos\n",
        "for c in features_strings:\n",
        "  print(c,' : ',X_train_transaction[c].isna().mean())"
      ],
      "metadata": {
        "colab": {
          "base_uri": "https://localhost:8080/"
        },
        "id": "g6giLT8BACaj",
        "outputId": "c7e4e124-d453-4065-d0a6-edc77f507395"
      },
      "execution_count": 57,
      "outputs": [
        {
          "output_type": "stream",
          "name": "stdout",
          "text": [
            "ProductCD  :  0.0\n",
            "card4  :  0.0020054284456357137\n",
            "card6  :  0.0019981711653740642\n",
            "P_emaildomain  :  0.15553803056766446\n",
            "R_emaildomain  :  0.7507341948531369\n",
            "M1  :  0.5380426631315648\n",
            "M2  :  0.5380426631315648\n",
            "M3  :  0.5380426631315648\n",
            "M4  :  0.48417429084276375\n",
            "M5  :  0.6041564863151885\n",
            "M6  :  0.31121878764714134\n",
            "M7  :  0.6692059083937704\n",
            "M8  :  0.6691962320200882\n",
            "M9  :  0.6691962320200882\n"
          ]
        }
      ]
    },
    {
      "cell_type": "markdown",
      "source": [
        "Pela alta quantidade de nulos nas features de tipo M, temos que o mais proveitoso seria uma redução de dimensionalidade por PCA em um conjunto de features codificadas por label encoder (sem muitas perdas por conta de termos poucos tipos diferentes).\n",
        "\n",
        "Os endereços de email provavelmente são úteis apenas na medida em que representam algo relativo a probabilidade de serem encontrados, porém por fins de interpretabilidade opta-se pela representação da auto-informação do valor.\n",
        "\n",
        "Como card4 e card6 estão inseridas em um contexto em que temos outros tipos de card, vale a pena levar em conta isso e apenas utilizar um label encoder junto de um preenchimento de valores faltantes.\n",
        "\n",
        "ProductCD parece ser importante demais para realizar uma simples codificação de labels, e como temos uma situação simples (5 valores unicos apenas) vamos realizar uma codificação por OneHotEncoding."
      ],
      "metadata": {
        "id": "wbbAvaI3AsHl"
      }
    },
    {
      "cell_type": "markdown",
      "source": [
        "Como para os emails realizou-se uma transformação mais elaborada, sem necessariamente utilizar técnicas mais simples, conta-se como uma forma de feature engineering, solicitada pela questão 2:\n",
        "\n",
        "a) Proponha 3 novas variáveis explicativas que façam sentido do ponto de vista\n",
        "prático do problema;"
      ],
      "metadata": {
        "id": "lB_d9V6d5MQB"
      }
    },
    {
      "cell_type": "markdown",
      "source": [
        "Realiza-se um pequeno teste para verificar a validade desta abordagem, verificando se a distribuição (de frequências de emails) realmente parece ser semelhante em ambos conjuntos."
      ],
      "metadata": {
        "id": "Rn-hznpV9PIc"
      }
    },
    {
      "cell_type": "markdown",
      "source": [
        "b) Faça uma análise ilustrando a (possível) qualidade das variáveis propostas."
      ],
      "metadata": {
        "id": "ZrGcc3WB9ziA"
      }
    },
    {
      "cell_type": "code",
      "source": [
        "def RealizaTokenizacao(X):\n",
        "\n",
        "  tokens_email_P = {}\n",
        "  for name in X['P_emaildomain'].unique().tolist():\n",
        "    tokens_email_P[name] = 0\n",
        "  tokens_email_P['Unknown'] = 0\n",
        "\n",
        "  tokens_email_R = {}\n",
        "  for name in X['R_emaildomain'].unique().tolist():\n",
        "    tokens_email_R[name] = 0\n",
        "  tokens_email_R['Unknown'] = 0\n",
        "\n",
        "  for line in X['P_emaildomain']:\n",
        "    if line in tokens_email_P.keys():\n",
        "      tokens_email_P[line]+=1\n",
        "    else:\n",
        "      tokens_email_P['Unknown']+=1\n",
        "\n",
        "  for line in X['R_emaildomain']:\n",
        "    if line in tokens_email_R.keys():\n",
        "      tokens_email_R[line]+=1\n",
        "    else:\n",
        "      tokens_email_R['Unknown']+=1\n",
        "\n",
        "  tam_P = len(X['P_emaildomain'])\n",
        "  for key in tokens_email_P.keys():\n",
        "      tokens_email_P[key] = tokens_email_P[key]/tam_P\n",
        "  \n",
        "  tam_R = len(X['R_emaildomain'])\n",
        "  for key in tokens_email_R.keys():\n",
        "      tokens_email_R[key] = tokens_email_R[key]/tam_R\n",
        "\n",
        "  return tokens_email_P, tokens_email_R"
      ],
      "metadata": {
        "id": "OKrvHMpl5z4v"
      },
      "execution_count": 79,
      "outputs": []
    },
    {
      "cell_type": "code",
      "source": [
        "P_train,R_train = RealizaTokenizacao(X_train_transaction)\n",
        "P_val,R_val = RealizaTokenizacao(X_val_transaction)"
      ],
      "metadata": {
        "id": "_dX40kZo65c0"
      },
      "execution_count": 80,
      "outputs": []
    },
    {
      "cell_type": "code",
      "source": [
        "erro_P = 0.0\n",
        "for p in P_train.keys():\n",
        "  if(p in P_val.keys()):\n",
        "    erro_P+=(P_train[p] - P_val[p])**2\n",
        "\n",
        "print( \"Variancia P: %f\"%( np.sqrt(erro_P/( len(P_train.keys()) - 1) ) ) )"
      ],
      "metadata": {
        "colab": {
          "base_uri": "https://localhost:8080/"
        },
        "id": "YOJscnA87R7h",
        "outputId": "7c834990-d99f-4945-dea7-365742f08a9e"
      },
      "execution_count": 81,
      "outputs": [
        {
          "output_type": "stream",
          "name": "stdout",
          "text": [
            "Variancia P: 0.002537\n"
          ]
        }
      ]
    },
    {
      "cell_type": "code",
      "source": [
        "erro_R = 0.0\n",
        "for p in R_train.keys():\n",
        "  if(p in R_val.keys()):\n",
        "    erro_R += (R_train[p] - R_val[p])**2\n",
        "\n",
        "print( \"Variancia R: %f\"%( np.sqrt(erro_R/( len(R_train.keys()) - 1) ) ) )"
      ],
      "metadata": {
        "colab": {
          "base_uri": "https://localhost:8080/"
        },
        "id": "Xc9RiBWO8X1d",
        "outputId": "9569a49d-296e-41a1-e3bf-b1bfc1a43d6e"
      },
      "execution_count": 82,
      "outputs": [
        {
          "output_type": "stream",
          "name": "stdout",
          "text": [
            "Variancia R: 0.007940\n"
          ]
        }
      ]
    },
    {
      "cell_type": "markdown",
      "source": [
        "Como temos uma variância baixa, vale a pena provavelmente a utilização desta forma de processamento."
      ],
      "metadata": {
        "id": "FWrBvnVJ9h-Q"
      }
    },
    {
      "cell_type": "code",
      "source": [
        "from sklearn.preprocessing import OneHotEncoder"
      ],
      "metadata": {
        "id": "9qpkTv_7Ezbf"
      },
      "execution_count": 58,
      "outputs": []
    },
    {
      "cell_type": "code",
      "source": [
        "class TransformerPreprocessamentoTransaction(BaseEstimator, TransformerMixin):\n",
        "\n",
        "  encProdCD_fit = \"\"\n",
        "  le_card4_fit = \"\"\n",
        "  le_card6_fit = \"\"\n",
        "  tokens_email_P_fit = \"\"\n",
        "  tokens_email_R_fit = \"\"\n",
        "  M_le_fit = \"\"\n",
        "  pca_M_fit = \"\"\n",
        "  \n",
        "  def __init__(self):\n",
        "    return \n",
        "\n",
        "  def fit(self, X, y = None):\n",
        "    X = X.copy()\n",
        "\n",
        "    #ProductCD\n",
        "    encProdCD = OneHotEncoder(handle_unknown='ignore',sparse = False)\n",
        "    X['ProductCD'].fillna(\"Unknown\",inplace = True)\n",
        "    encProdCD.fit(X[['ProductCD']])\n",
        "\n",
        "    #card4 e card6\n",
        "    le_card4 = LabelEncoder()\n",
        "    le_card6 = LabelEncoder()\n",
        "    X['card4'].fillna(\"Unknown\",inplace = True)\n",
        "    X['card6'].fillna(\"Unknown\",inplace = True)\n",
        "    le_card4.fit(list(X['card4'].astype(str).values))\n",
        "    le_card6.fit(list(X['card6'].astype(str).values))\n",
        "\n",
        "    #emails\n",
        "    tokens_email_P = {}\n",
        "    for name in X['P_emaildomain'].unique().tolist():\n",
        "      tokens_email_P[name] = 0\n",
        "    tokens_email_P['Unknown'] = 0\n",
        "\n",
        "    tokens_email_R = {}\n",
        "    for name in X['R_emaildomain'].unique().tolist():\n",
        "      tokens_email_R[name] = 0\n",
        "    tokens_email_R['Unknown'] = 0\n",
        "\n",
        "    for line in X['P_emaildomain']:\n",
        "      if line in tokens_email_P.keys():\n",
        "        tokens_email_P[line]+=1\n",
        "      else:\n",
        "        tokens_email_P['Unknown']+=1\n",
        "\n",
        "    for line in X['R_emaildomain']:\n",
        "      if line in tokens_email_R.keys():\n",
        "        tokens_email_R[line]+=1\n",
        "      else:\n",
        "        tokens_email_R['Unknown']+=1\n",
        "\n",
        "    tam_P = len(X['P_emaildomain'])\n",
        "    for key in tokens_email_P.keys():\n",
        "      tokens_email_P[key] = tokens_email_P[key]/tam_P\n",
        "\n",
        "    tam_R = len(X['R_emaildomain'])\n",
        "    for key in tokens_email_R.keys():\n",
        "      tokens_email_R[key] = tokens_email_R[key]/tam_R\n",
        "    \n",
        "    #Features M\n",
        "    M_le = {}\n",
        "    for i in range(9):      \n",
        "      X['M%d'%(i+1)].fillna(\"Unknown\",inplace = True)     \n",
        "      le = LabelEncoder()     \n",
        "      le.fit(list(X['M%d'%(i+1)].astype(str).values))\n",
        "      X['M%d'%(i+1)] = le.transform(list(X['M%d'%(i+1)].astype(str).values))   \n",
        "      M_le['M%d'%(i+1)] = le\n",
        "    \n",
        "\n",
        "    pca_M = PCA(n_components=0.95)\n",
        "    pca_M.fit(X[['M%d'%(i+1) for i in range(9)]])\n",
        "\n",
        "    #Salvar os parametros\n",
        "    self.encProdCD_fit = encProdCD\n",
        "    self.le_card4_fit = le_card4\n",
        "    self.le_card6_fit = le_card6\n",
        "    self.tokens_email_P_fit = tokens_email_P\n",
        "    self.tokens_email_R_fit = tokens_email_R\n",
        "    self.M_le_fit = M_le\n",
        "    self.pca_M_fit = pca_M\n",
        "\n",
        "    return self\n",
        "\n",
        "  def transform(self, X, y = None):\n",
        "\n",
        "    #Features numericas apenas recebem um valor que representa nulo\n",
        "    non_obj_cols = [c for c in X.columns if X[c].dtype != 'object']\n",
        "    X[non_obj_cols] = X[non_obj_cols].fillna(-1)\n",
        "\n",
        "    #ProductCD\n",
        "    X['ProductCD'].fillna(\"Unknown\",inplace = True)\n",
        "    X.join(pd.DataFrame(self.encProdCD_fit.transform(X[['ProductCD']])).set_index(X.index)) \n",
        "    X.drop(['ProductCD'],axis=1,inplace=True)\n",
        "\n",
        "    #card4 e card6\n",
        "    X['card4'].fillna(\"Unknown\",inplace = True)\n",
        "    X['card6'].fillna(\"Unknown\",inplace = True)\n",
        "    X['card4'] = self.le_card4_fit.transform(list(X['card4'].astype(str).values))\n",
        "    X['card6'] = self.le_card6_fit.transform(list(X['card6'].astype(str).values))\n",
        "\n",
        "    #emails\n",
        "    X['P_emaildomain'] = X['P_emaildomain'].map(self.tokens_email_P_fit).apply(lambda p: -p*np.log2(p))\n",
        "    X['R_emaildomain'] = X['R_emaildomain'].map(self.tokens_email_R_fit).apply(lambda p: -p*np.log2(p))\n",
        "\n",
        "    #Features M\n",
        "    for i in range(9):      \n",
        "      X['M%d'%(i+1)].fillna(\"Unknown\",inplace = True)        \n",
        "      X['M%d'%(i+1)] = self.M_le_fit['M%d'%(i+1)].transform(list(X['M%d'%(i+1)].astype(str).values))\n",
        "    \n",
        "    X.join(pd.DataFrame(self.pca_M_fit.transform(X[['M%d'%(i+1) for i in range(9)]])).set_index(X.index))\n",
        "    X.drop(['M%d'%(i+1) for i in range(9)],axis=1,inplace=True)\n",
        "\n",
        "    return X\n",
        "    "
      ],
      "metadata": {
        "id": "KetOvb_HDE2J"
      },
      "execution_count": 83,
      "outputs": []
    },
    {
      "cell_type": "markdown",
      "source": [
        "Para o teste da pipeline, no outro notebook, será utilizada a seguinte classe, que essencialmente cria uma espécie de 'wrapper' para os classificadores do sklearn."
      ],
      "metadata": {
        "id": "gmclzLN2946T"
      }
    },
    {
      "cell_type": "code",
      "source": [
        "class ClfSwitcher(BaseEstimator):\n",
        "\n",
        "  def __init__(self,estimator = RandomForestClassifier(n_estimators=100,max_depth=3)):\n",
        "      self.estimator = estimator\n",
        "      return \n",
        "\n",
        "  def fit(self, X, y=None, **kwargs):\n",
        "      self.estimator.fit(X, y)\n",
        "      return self\n",
        "\n",
        "  def predict(self, X, y=None):\n",
        "      return self.estimator.predict(X)\n",
        "\n",
        "  def predict_proba(self, X):\n",
        "      return self.estimator.predict_proba(X)\n",
        "\n",
        "  def score(self, X, y):\n",
        "      return self.estimator.score(X, y)"
      ],
      "metadata": {
        "id": "_2b_kyBFzake"
      },
      "execution_count": 84,
      "outputs": []
    },
    {
      "cell_type": "markdown",
      "source": [
        "Sendo que agora (com o drop das variáveis vesta) temos um número muito menor de colunas para trabalhar com, tornando o problema tratável do ponto de vista computacional."
      ],
      "metadata": {
        "id": "Td_BEfY9-RVB"
      }
    },
    {
      "cell_type": "code",
      "source": [
        "X_train_transaction.shape , X_train_identity.shape"
      ],
      "metadata": {
        "colab": {
          "base_uri": "https://localhost:8080/"
        },
        "id": "kIjLYXpfI2TX",
        "outputId": "06860bf5-d69c-413a-a679-d10cdfc994aa"
      },
      "execution_count": 85,
      "outputs": [
        {
          "output_type": "execute_result",
          "data": {
            "text/plain": [
              "((413378, 53), (109911, 36))"
            ]
          },
          "metadata": {},
          "execution_count": 85
        }
      ]
    },
    {
      "cell_type": "markdown",
      "source": [
        "Algumas ideias exploradas (nem todas usadas): \n",
        "* usar SelectPercentile para realmente eliminar variaveis\n",
        "* usar MutualInformationScore para ponderar variaveis\n",
        "\n",
        "Links e referências usadas para os testes/formulação:\n",
        "\n",
        "* https://stackoverflow.com/questions/48507651/multiple-classification-models-in-a-scikit-pipeline-python\n",
        "\n",
        "* https://stackoverflow.com/questions/34624978/is-there-easy-way-to-grid-search-without-cross-validation-in-python\n",
        "\n",
        "* https://scikit-learn.org/stable/modules/generated/sklearn.metrics.mutual_info_score.html\n",
        "\n",
        "* https://scikit-learn.org/stable/modules/generated/sklearn.feature_selection.mutual_info_classif.html\n",
        "\n",
        "* https://towardsdatascience.com/select-features-for-machine-learning-model-with-mutual-information-534fe387d5c8\n",
        "\n",
        "* https://scikit-learn.org/stable/modules/generated/sklearn.feature_selection.SelectPercentile.html\n",
        "\n",
        "* https://www.programcreek.com/python/example/93977/sklearn.feature_selection.SelectPercentile\n",
        "\n",
        "* https://pandas.pydata.org/docs/reference/api/pandas.DataFrame.reindex.html"
      ],
      "metadata": {
        "id": "nAfegUZq-_rI"
      }
    }
  ]
}