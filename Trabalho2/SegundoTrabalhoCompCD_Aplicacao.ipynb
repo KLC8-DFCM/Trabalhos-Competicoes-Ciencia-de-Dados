{
 "cells": [
  {
   "cell_type": "code",
   "execution_count": 1,
   "metadata": {
    "colab": {
     "base_uri": "https://localhost:8080/"
    },
    "id": "_mik32vH0ifE",
    "outputId": "c7600841-7171-4b7d-fe36-8aa608bb28df"
   },
   "outputs": [
    {
     "name": "stdout",
     "output_type": "stream",
     "text": [
      "Mounted at /content/drive\n",
      "Archive:  /content/drive/MyDrive/Competicao_DS_Arquivos/ieee-fraud-detection.zip\n",
      "  inflating: sample_submission.csv   \n",
      "  inflating: test_identity.csv       \n",
      "  inflating: test_transaction.csv    \n",
      "  inflating: train_identity.csv      \n",
      "  inflating: train_transaction.csv   \n"
     ]
    }
   ],
   "source": [
    "#Configuração para usar a base de dados de modo\n",
    "#eficiente no google colab  --> comentar quando for rodar\n",
    "\n",
    "from google.colab import drive\n",
    "\n",
    "drive.mount('/content/drive')\n",
    "\n",
    "PROJECT_PATH = '/content/drive/MyDrive/Competicao_DS_Arquivos'\n",
    "\n",
    "!unzip $PROJECT_PATH/ieee-fraud-detection.zip"
   ]
  },
  {
   "cell_type": "code",
   "execution_count": 2,
   "metadata": {
    "id": "cQn-_5e_yx9x"
   },
   "outputs": [],
   "source": [
    "import pandas as pd\n",
    "import numpy as np\n",
    "import gc\n",
    "\n",
    "from sklearn.decomposition import PCA\n",
    "from sklearn.preprocessing import LabelEncoder, MinMaxScaler, OneHotEncoder\n",
    "from sklearn.base import BaseEstimator, TransformerMixin\n",
    "from sklearn.compose import ColumnTransformer\n",
    "from sklearn.model_selection import ParameterGrid\n",
    "from sklearn.pipeline import Pipeline\n",
    "from sklearn.metrics import roc_auc_score\n",
    "\n",
    "from sklearn.neural_network import MLPClassifier\n",
    "from sklearn.ensemble import RandomForestClassifier, IsolationForest\n",
    "from sklearn.linear_model import LogisticRegression"
   ]
  },
  {
   "cell_type": "code",
   "execution_count": 3,
   "metadata": {
    "id": "xng0LlpD0hYm"
   },
   "outputs": [],
   "source": [
    "train_transaction = pd.read_csv(\"train_transaction.csv\")\n",
    "train_identity = pd.read_csv(\"train_identity.csv\")\n",
    "\n",
    "train_transaction = train_transaction.set_index(\"TransactionID\")\n",
    "train_transaction.drop([c for c in train_transaction.columns if c.startswith('V')], axis = 1,inplace = True)\n",
    "train_identity = train_identity.set_index(\"TransactionID\")\n",
    "y = train_transaction['isFraud']\n",
    "X_transaction = train_transaction.drop(['isFraud'],axis=1)\n",
    "X_identity = train_identity\n",
    "\n",
    "threshold  = np.quantile(X_transaction.TransactionDT,0.7)\n",
    "X_train_transaction = X_transaction[X_transaction['TransactionDT'] < threshold]\n",
    "X_val_transaction = X_transaction[X_transaction['TransactionDT'] >= threshold]\n",
    "X_train_identity = X_identity.loc[X_identity.index.intersection(X_train_transaction.index)]\n",
    "X_val_identity = X_identity.loc[X_identity.index.difference(X_train_transaction.index)]\n",
    "y_train = y[y.index.intersection(X_train_transaction.index)]\n",
    "y_val = y[y.index.difference(X_train_transaction.index)]"
   ]
  },
  {
   "cell_type": "code",
   "execution_count": 4,
   "metadata": {
    "id": "ATmMyvlBzdPM"
   },
   "outputs": [],
   "source": [
    "#input X deve ter as colunas addr1, addr2, TransactionAmt e D1 concatenadas \n",
    "# versoes NOVAS\n",
    "class TransformerPreprocessamentoIdentity(BaseEstimator, TransformerMixin):\n",
    "\n",
    "  transformers_fit = {}\n",
    "  mM_pca_fit = \"\"\n",
    "  Isolation_1 = \"\"\n",
    "  Isolation_2 = \"\"\n",
    "  pca_id_fit = \"\"\n",
    "  cols_aplicar_fit = {}\n",
    "  mM_id_fit =\"\"\n",
    "\n",
    "  def __init__(self):\n",
    "    return \n",
    "\n",
    "  def fit(self, X, y = None):\n",
    "\n",
    "    X = X.copy()\n",
    "\n",
    "    #Ids\n",
    "    id_cols = [c for c in X.columns if c.startswith('id_')]\n",
    "    transformers = {}\n",
    "    cols_aplicar = {}\n",
    "    for c in id_cols:\n",
    "      if X[c].dtype == 'object':\n",
    "        if X[c].nunique() > 10:\n",
    "          cols_aplicar[c] = \"drop\"\n",
    "          X.drop(c,inplace= True,axis=1)\n",
    "        else:\n",
    "          cols_aplicar[c] = \"label\"\n",
    "          le = LabelEncoder()\n",
    "          X[c].fillna(\"Unknown\",inplace = True)\n",
    "          le.fit(list(X[c].astype(str).values))\n",
    "          X[c] = le.transform(list(X[c].astype(str).values))\n",
    "          transformers[c] = le\n",
    "      else:\n",
    "        X[c].fillna(-1,inplace = True)\n",
    "        cols_aplicar[c] = \"fill\"\n",
    "\n",
    "    #CustomFeature1\n",
    "    adr1 =  X[['addr1_novo']].fillna(-1,axis=1) \n",
    "    adr2 =  X[['addr2_novo']].fillna(-1,axis=1)\n",
    "    X_concat_custom_feat_1 = pd.concat([adr1['addr1_novo'],adr2['addr2_novo'],X['id_02']],axis = 1)\n",
    "    clf_Outlier_1 = IsolationForest(random_state=42).fit(X_concat_custom_feat_1)\n",
    "    \n",
    "    #CustomFeature2\n",
    "    epsilon = 1e-3\n",
    "    freq_x_magnitude =  X[['TransactionAmt_novo']].fillna(-1,axis=1).to_numpy() / (X[['D1_novo']].fillna(-1,axis=1).to_numpy() + epsilon)\n",
    "    df_riq = pd.DataFrame(freq_x_magnitude,columns=['freq_x_magn']).set_index(X.index).astype(int)\n",
    "    X_concat_custom_feat_2 = pd.concat([df_riq['freq_x_magn'],X['id_02']],axis = 1)\n",
    "    clf_Outlier_2 = IsolationForest(random_state=42).fit(X_concat_custom_feat_2)\n",
    "    \n",
    "    #Final\n",
    "    id_cols = [c for c in X.columns if c.startswith('id_')]\n",
    "    id_train_num = X[id_cols]\n",
    "    pca_id = PCA(n_components = 0.95)\n",
    "    pca_id_feat = pca_id.fit_transform(id_train_num)\n",
    "    mM_id = MinMaxScaler()\n",
    "    mM_id.fit(pca_id_feat)\n",
    "\n",
    "    #Salvar valores na classe\n",
    "    self.mM_pca_fit = mM_id\n",
    "    self.transformers_fit = transformers\n",
    "    self.Isolation_1 = clf_Outlier_1\n",
    "    self.Isolation_2 = clf_Outlier_2\n",
    "    self.mM_id_fit =  mM_id\n",
    "    self.pca_id_fit = pca_id\n",
    "    self.cols_aplicar_fit = cols_aplicar\n",
    "    \n",
    "    return self\n",
    "\n",
    "  def transform(self, X, y = None):\n",
    "\n",
    "    #DeviceInfo\n",
    "    X.drop([\"DeviceInfo\"],inplace = True, axis = 1)\n",
    "\n",
    "    #DeviceType\n",
    "    X.DeviceType = X.DeviceType.map({'mobile': 0, 'desktop': 1})\n",
    "    X.DeviceType.fillna(-1,inplace=True)\n",
    "\n",
    "    #Ids\n",
    "    id_cols = [c for c in X.columns if c.startswith('id_')]\n",
    "    for c in id_cols:\n",
    "      if self.cols_aplicar_fit[c] == 'drop':\n",
    "        X.drop(c,inplace= True,axis=1)\n",
    "      elif self.cols_aplicar_fit[c] == 'label':\n",
    "        X[c].fillna(\"Unknown\",inplace = True)\n",
    "        X[c] = self.transformers_fit[c].transform(list(X[c].astype(str).values))\n",
    "      else:\n",
    "        X[c].fillna(-1,inplace = True)\n",
    "    \n",
    "    #CustomFeature1\n",
    "    adr1 =  X[['addr1_novo']].fillna(-1,axis=1) \n",
    "    adr2 =  X[['addr2_novo']].fillna(-1,axis=1)\n",
    "    X_concat_custom_feat_1 = pd.concat([adr1['addr1_novo'],adr2['addr2_novo'],X['id_02']],axis = 1)\n",
    "    X_custom_feat_1_df = pd.DataFrame(self.Isolation_1.predict(X_concat_custom_feat_1),columns=['Outlier_tipo_1']).set_index(X.index)\n",
    "    X.drop(['addr1_novo','addr2_novo'],axis =1, inplace = True)\n",
    "\n",
    "    #CustomFeature2\n",
    "    epsilon = 1e-3\n",
    "    freq_x_magnitude =  X[['TransactionAmt_novo']].fillna(-1,axis=1).to_numpy() / (X[['D1_novo']].fillna(-1,axis=1).to_numpy() + epsilon)\n",
    "    df_riq = pd.DataFrame(freq_x_magnitude,columns=['freq_x_magn']).set_index(X.index).astype(int)\n",
    "    X_concat_custom_feat_2 = pd.concat([df_riq['freq_x_magn'],X['id_02']],axis = 1)\n",
    "    X_custom_feat_2_df = pd.DataFrame(self.Isolation_2.predict(X_concat_custom_feat_2),columns=['Outlier_tipo_2']).set_index(X.index)\n",
    "    X.drop(['TransactionAmt_novo','D1_novo'],axis =1, inplace = True)\n",
    "\n",
    "    #Final\n",
    "    id_cols = [c for c in X.columns if c.startswith('id_')]\n",
    "    id_train_num = X[id_cols]\n",
    "    pca_id_feat = self.pca_id_fit.transform(id_train_num)\n",
    "    pca_id_feat = self.mM_id_fit.transform(pca_id_feat)\n",
    "    pca_id_feat_df = pd.DataFrame(pca_id_feat, columns=['id']).set_index(X.index)\n",
    "    feat_identity = pd.concat([pca_id_feat_df,X_custom_feat_1_df,X_custom_feat_2_df,X[['DeviceType']]],axis=1)\n",
    "\n",
    "    return feat_identity"
   ]
  },
  {
   "cell_type": "code",
   "execution_count": 5,
   "metadata": {
    "id": "yWgSW5Nkzf5v"
   },
   "outputs": [],
   "source": [
    "class TransformerPreprocessamentoTransaction(BaseEstimator, TransformerMixin):\n",
    "\n",
    "  encProdCD_fit = \"\"\n",
    "  le_card4_fit = \"\"\n",
    "  le_card6_fit = \"\"\n",
    "  tokens_email_P_fit = \"\"\n",
    "  tokens_email_R_fit = \"\"\n",
    "  M_le_fit = \"\"\n",
    "  pca_M_fit = \"\"\n",
    "  \n",
    "  def __init__(self):\n",
    "    return \n",
    "\n",
    "  def fit(self, X, y = None):\n",
    "    X = X.copy()\n",
    "\n",
    "    #ProductCD\n",
    "    encProdCD = OneHotEncoder(handle_unknown='ignore',sparse = False)\n",
    "    X['ProductCD'].fillna(\"Unknown\",inplace = True)\n",
    "    encProdCD.fit(X[['ProductCD']])\n",
    "\n",
    "    #card4 e card6\n",
    "    le_card4 = LabelEncoder()\n",
    "    le_card6 = LabelEncoder()\n",
    "    X['card4'].fillna(\"Unknown\",inplace = True)\n",
    "    X['card6'].fillna(\"Unknown\",inplace = True)\n",
    "    le_card4.fit(list(X['card4'].astype(str).values))\n",
    "    le_card6.fit(list(X['card6'].astype(str).values))\n",
    "\n",
    "    #emails\n",
    "    tokens_email_P = {}\n",
    "    for name in X['P_emaildomain'].unique().tolist():\n",
    "      tokens_email_P[name] = 0\n",
    "    tokens_email_P['Unknown'] = 0\n",
    "\n",
    "    tokens_email_R = {}\n",
    "    for name in X['R_emaildomain'].unique().tolist():\n",
    "      tokens_email_R[name] = 0\n",
    "    tokens_email_R['Unknown'] = 0\n",
    "\n",
    "    for line in X['P_emaildomain']:\n",
    "      if line in tokens_email_P.keys():\n",
    "        tokens_email_P[line]+=1\n",
    "      else:\n",
    "        tokens_email_P['Unknown']+=1\n",
    "\n",
    "    for line in X['R_emaildomain']:\n",
    "      if line in tokens_email_R.keys():\n",
    "        tokens_email_R[line]+=1\n",
    "      else:\n",
    "        tokens_email_R['Unknown']+=1\n",
    "\n",
    "    tam_P = len(X['P_emaildomain'])\n",
    "    for key in tokens_email_P.keys():\n",
    "      tokens_email_P[key] = tokens_email_P[key]/tam_P\n",
    "\n",
    "    tam_R = len(X['R_emaildomain'])\n",
    "    for key in tokens_email_R.keys():\n",
    "      tokens_email_R[key] = tokens_email_R[key]/tam_R\n",
    "    \n",
    "    #Features M\n",
    "    M_le = {}\n",
    "    for i in range(9):      \n",
    "      X['M%d'%(i+1)].fillna(\"Unknown\",inplace = True)     \n",
    "      le = LabelEncoder()     \n",
    "      le.fit(list(X['M%d'%(i+1)].astype(str).values))\n",
    "      X['M%d'%(i+1)] = le.transform(list(X['M%d'%(i+1)].astype(str).values))   \n",
    "      M_le['M%d'%(i+1)] = le\n",
    "    \n",
    "    pca_M = PCA(n_components=0.95)\n",
    "    pca_M.fit(X[['M%d'%(i+1) for i in range(9)]])\n",
    "\n",
    "    #Salvar os parametros\n",
    "    self.encProdCD_fit = encProdCD\n",
    "    self.le_card4_fit = le_card4\n",
    "    self.le_card6_fit = le_card6\n",
    "    self.tokens_email_P_fit = tokens_email_P\n",
    "    self.tokens_email_R_fit = tokens_email_R\n",
    "    self.M_le_fit = M_le\n",
    "    self.pca_M_fit = pca_M\n",
    "\n",
    "    return self\n",
    "\n",
    "  def transform(self, X, y = None):\n",
    "\n",
    "    #Features numericas apenas recebem um valor que representa nulo\n",
    "    non_obj_cols = [c for c in X.columns if X[c].dtype != 'object']\n",
    "    X[non_obj_cols] = X[non_obj_cols].fillna(-1)\n",
    "\n",
    "    #ProductCD\n",
    "    X['ProductCD'].fillna(\"Unknown\",inplace = True)\n",
    "    X.join(pd.DataFrame(self.encProdCD_fit.transform(X[['ProductCD']])).set_index(X.index)) \n",
    "    X.drop(['ProductCD'],axis=1,inplace=True)\n",
    "\n",
    "    #card4 e card6\n",
    "    X['card4'].fillna(\"Unknown\",inplace = True)\n",
    "    X['card6'].fillna(\"Unknown\",inplace = True)\n",
    "    X['card4'] = self.le_card4_fit.transform(list(X['card4'].astype(str).values))\n",
    "    X['card6'] = self.le_card6_fit.transform(list(X['card6'].astype(str).values))\n",
    "\n",
    "    #emails\n",
    "    X['P_emaildomain'] = X['P_emaildomain'].map(self.tokens_email_P_fit).apply(lambda p: -p*np.log2(p))\n",
    "    X['R_emaildomain'] = X['R_emaildomain'].map(self.tokens_email_R_fit).apply(lambda p: -p*np.log2(p))\n",
    "\n",
    "    #Features M\n",
    "    for i in range(9):      \n",
    "      X['M%d'%(i+1)].fillna(\"Unknown\",inplace = True)        \n",
    "      X['M%d'%(i+1)] = self.M_le_fit['M%d'%(i+1)].transform(list(X['M%d'%(i+1)].astype(str).values))\n",
    "    \n",
    "    X.join(pd.DataFrame(self.pca_M_fit.transform(X[['M%d'%(i+1) for i in range(9)]])).set_index(X.index))\n",
    "    X.drop(['M%d'%(i+1) for i in range(9)],axis=1,inplace=True)\n",
    "\n",
    "    return X\n",
    "    "
   ]
  },
  {
   "cell_type": "markdown",
   "metadata": {
    "id": "qr7yRZWQAT1u"
   },
   "source": [
    "Questão 3 "
   ]
  },
  {
   "cell_type": "markdown",
   "metadata": {
    "id": "_YRqmqq2Ac_V"
   },
   "source": [
    "b) Faça uso de uma técnica de modelagem ainda não falada na disciplina. Essa\n",
    "técnica não precisa ser uma modelo de regressão, ela pode ser uma técnica"
   ]
  },
  {
   "cell_type": "markdown",
   "metadata": {
    "id": "4QRoO_JqAeBl"
   },
   "source": [
    "Com relação a esta secção, a técnica de modelagem de IsolationForest, usada para feature engineering para variáveis do dataset Identity, não fora utilizada até o momento na disciplina."
   ]
  },
  {
   "cell_type": "markdown",
   "metadata": {
    "id": "9bOcrjaAARVC"
   },
   "source": [
    "\n",
    "a) Aprimore o pipeline desenvolvido em aula para que seja possível comparar\n",
    "mais de uma técnica de modelagem usando um mesmo grid-search;\n",
    "\n",
    "* Obs.: não use cross-validation!!! Separe a base em treino e validação\n",
    "usando o campo referente a data da transação;"
   ]
  },
  {
   "cell_type": "markdown",
   "metadata": {
    "id": "tUlpg5IZAxop"
   },
   "source": [
    "Para isto utilizou-se este seguinte encapsulamento por meio de herança da base de sklearn."
   ]
  },
  {
   "cell_type": "code",
   "execution_count": 6,
   "metadata": {
    "id": "36IWLc8SzrKP"
   },
   "outputs": [],
   "source": [
    "class ClfSwitcher(BaseEstimator):\n",
    "\n",
    "  def __init__(self,estimator = RandomForestClassifier(n_estimators=100,max_depth=3)):\n",
    "      self.estimator = estimator\n",
    "      return \n",
    "\n",
    "  def fit(self, X, y=None, **kwargs):\n",
    "      self.estimator.fit(X, y)\n",
    "      return self\n",
    "\n",
    "  def predict(self, X, y=None):\n",
    "      return self.estimator.predict(X)\n",
    "\n",
    "  def predict_proba(self, X):\n",
    "      return self.estimator.predict_proba(X)\n",
    "\n",
    "  def score(self, X, y):\n",
    "      return self.estimator.score(X, y)"
   ]
  },
  {
   "cell_type": "markdown",
   "metadata": {
    "id": "ety4JIlkBPaN"
   },
   "source": [
    "O pipeline utilizado faz uso de um processamento seletivo das colunas, através do paradigma identity/transaction, aplicando cada preprocessamento separadamente."
   ]
  },
  {
   "cell_type": "code",
   "execution_count": 7,
   "metadata": {
    "id": "N5m6WPUR0Cd-"
   },
   "outputs": [],
   "source": [
    "cols_identity = X_identity.columns.tolist() + ['D1_novo','TransactionAmt_novo','addr1_novo','addr2_novo']\n",
    "cols_transaction = X_transaction.columns.tolist()"
   ]
  },
  {
   "cell_type": "markdown",
   "metadata": {
    "id": "nCtO0JnqBdFV"
   },
   "source": [
    "Em seguida aplica-se uma pca de forma a manter 95% da variância do dataset original."
   ]
  },
  {
   "cell_type": "code",
   "execution_count": 8,
   "metadata": {
    "id": "HHshGtYL0ddb"
   },
   "outputs": [],
   "source": [
    "pipeline = Pipeline(steps = [\n",
    "    ('Preprocessamento', ColumnTransformer(transformers = [\n",
    "                                                              ('PreproIdentity',TransformerPreprocessamentoIdentity(),cols_identity),\n",
    "                                                              ('PreproTransaction',TransformerPreprocessamentoTransaction(),cols_transaction)\n",
    "                                                          ], remainder = 'passthrough')),\n",
    "    ('pca', PCA(n_components = 0.95)),\n",
    "    ('clf', ClfSwitcher())\n",
    "])"
   ]
  },
  {
   "cell_type": "markdown",
   "metadata": {
    "id": "pdv0AtYQBpIv"
   },
   "source": [
    "(Por conta de limitações de tempo de execução e memória, utiliza-se um coletor de lixo)."
   ]
  },
  {
   "cell_type": "code",
   "execution_count": 9,
   "metadata": {
    "colab": {
     "base_uri": "https://localhost:8080/"
    },
    "id": "1esmdYRP1UC3",
    "outputId": "aceb911c-f387-45d4-de86-db0155dcf28f"
   },
   "outputs": [
    {
     "data": {
      "text/plain": [
       "202"
      ]
     },
     "execution_count": 9,
     "metadata": {},
     "output_type": "execute_result"
    }
   ],
   "source": [
    "gc.collect()"
   ]
  },
  {
   "cell_type": "code",
   "execution_count": 10,
   "metadata": {
    "id": "2NGauoF51XLP"
   },
   "outputs": [],
   "source": [
    "X_train_total = X_train_transaction.join(\n",
    "    pd.merge(X_train_identity, X_train_transaction[['D1','TransactionAmt','addr1','addr2']], left_index=True, right_index=True).rename(columns = { \n",
    "    'D1' : 'D1_novo','TransactionAmt' : 'TransactionAmt_novo','addr1' : 'addr1_novo','addr2' :'addr2_novo'\n",
    "}) )"
   ]
  },
  {
   "cell_type": "code",
   "execution_count": 11,
   "metadata": {
    "id": "QWpzR5Lc1fa9"
   },
   "outputs": [],
   "source": [
    "X_val_total = X_val_transaction.join(\n",
    "    pd.merge(X_val_identity, X_val_transaction[['D1','TransactionAmt','addr1','addr2']], left_index=True, right_index=True).rename(columns = { \n",
    "    'D1' : 'D1_novo','TransactionAmt' : 'TransactionAmt_novo','addr1' : 'addr1_novo','addr2' :'addr2_novo'\n",
    "}) )"
   ]
  },
  {
   "cell_type": "code",
   "execution_count": 12,
   "metadata": {
    "colab": {
     "base_uri": "https://localhost:8080/"
    },
    "id": "HDqseH9t1hcm",
    "outputId": "34c05e72-164a-4e30-8494-e337c4d6aef1"
   },
   "outputs": [
    {
     "data": {
      "text/plain": [
       "100"
      ]
     },
     "execution_count": 12,
     "metadata": {},
     "output_type": "execute_result"
    }
   ],
   "source": [
    "gc.collect()"
   ]
  },
  {
   "cell_type": "markdown",
   "metadata": {
    "id": "Aqdu3J8-B2W3"
   },
   "source": [
    "Por questões de tempo apenas testam-se os seguintes modelos/parâmetros, porém o pipeline desenvolvido é capaz de adequar-se a mais testes sem problemas."
   ]
  },
  {
   "cell_type": "code",
   "execution_count": 13,
   "metadata": {
    "id": "6dc0-Uei1jfi"
   },
   "outputs": [],
   "source": [
    "parametros = [\n",
    "    {\n",
    "        'clf__estimator': [LogisticRegression()],\n",
    "        'clf__estimator__C' : [1e-2,1e-1,1,10],\n",
    "        'clf__estimator__solver' : ['saga'],\n",
    "        'clf__estimator__penalty': ['l1', 'l2', 'none']\n",
    "    },\n",
    "    {\n",
    "        'clf__estimator': [MLPClassifier()],\n",
    "        'clf__estimator__activation' : ['logistic', 'tanh', 'relu'],\n",
    "        'clf__estimator__learning_rate' : ['constant','invscaling','adaptive']\n",
    "    },\n",
    "    {\n",
    "        'clf__estimator': [RandomForestClassifier()],\n",
    "        'clf__estimator__n_estimators' : [10,50,100],\n",
    "        'clf__estimator__max_depth' : [2,3]\n",
    "    },\n",
    "]"
   ]
  },
  {
   "cell_type": "markdown",
   "metadata": {
    "id": "0_tGFsLeL3pZ"
   },
   "source": [
    "Questão 4"
   ]
  },
  {
   "cell_type": "markdown",
   "metadata": {
    "id": "v9cigpc4L4-W"
   },
   "source": [
    "a) Comparar vários modelos candidatos e escolher o melhor de acordo com a\n",
    "AUC;"
   ]
  },
  {
   "cell_type": "code",
   "execution_count": 15,
   "metadata": {
    "colab": {
     "base_uri": "https://localhost:8080/"
    },
    "id": "5PD4Cqk-2dtS",
    "outputId": "126c4447-bb40-4669-f71c-a0a7a47c9ccc"
   },
   "outputs": [
    {
     "name": "stdout",
     "output_type": "stream",
     "text": [
      "{'clf__estimator': LogisticRegression(C=0.01, penalty='l1', solver='saga'), 'clf__estimator__C': 0.01, 'clf__estimator__penalty': 'l1', 'clf__estimator__solver': 'saga'}\n",
      "{'clf__estimator': LogisticRegression(C=0.01, penalty='l1', solver='saga'), 'clf__estimator__C': 0.01, 'clf__estimator__penalty': 'l2', 'clf__estimator__solver': 'saga'}\n",
      "{'clf__estimator': LogisticRegression(C=0.01, solver='saga'), 'clf__estimator__C': 0.01, 'clf__estimator__penalty': 'none', 'clf__estimator__solver': 'saga'}\n"
     ]
    },
    {
     "name": "stderr",
     "output_type": "stream",
     "text": [
      "/usr/local/lib/python3.7/dist-packages/sklearn/linear_model/_logistic.py:1484: UserWarning: Setting penalty='none' will ignore the C and l1_ratio parameters\n",
      "  \"Setting penalty='none' will ignore the C and l1_ratio parameters\"\n"
     ]
    },
    {
     "name": "stdout",
     "output_type": "stream",
     "text": [
      "{'clf__estimator': LogisticRegression(C=0.01, penalty='none', solver='saga'), 'clf__estimator__C': 0.1, 'clf__estimator__penalty': 'l1', 'clf__estimator__solver': 'saga'}\n",
      "{'clf__estimator': LogisticRegression(C=0.1, penalty='l1', solver='saga'), 'clf__estimator__C': 0.1, 'clf__estimator__penalty': 'l2', 'clf__estimator__solver': 'saga'}\n",
      "{'clf__estimator': LogisticRegression(C=0.1, solver='saga'), 'clf__estimator__C': 0.1, 'clf__estimator__penalty': 'none', 'clf__estimator__solver': 'saga'}\n"
     ]
    },
    {
     "name": "stderr",
     "output_type": "stream",
     "text": [
      "/usr/local/lib/python3.7/dist-packages/sklearn/linear_model/_logistic.py:1484: UserWarning: Setting penalty='none' will ignore the C and l1_ratio parameters\n",
      "  \"Setting penalty='none' will ignore the C and l1_ratio parameters\"\n"
     ]
    },
    {
     "name": "stdout",
     "output_type": "stream",
     "text": [
      "{'clf__estimator': LogisticRegression(C=0.1, penalty='none', solver='saga'), 'clf__estimator__C': 1, 'clf__estimator__penalty': 'l1', 'clf__estimator__solver': 'saga'}\n",
      "{'clf__estimator': LogisticRegression(C=1, penalty='l1', solver='saga'), 'clf__estimator__C': 1, 'clf__estimator__penalty': 'l2', 'clf__estimator__solver': 'saga'}\n",
      "{'clf__estimator': LogisticRegression(C=1, solver='saga'), 'clf__estimator__C': 1, 'clf__estimator__penalty': 'none', 'clf__estimator__solver': 'saga'}\n",
      "{'clf__estimator': LogisticRegression(C=1, penalty='none', solver='saga'), 'clf__estimator__C': 10, 'clf__estimator__penalty': 'l1', 'clf__estimator__solver': 'saga'}\n",
      "{'clf__estimator': LogisticRegression(C=10, penalty='l1', solver='saga'), 'clf__estimator__C': 10, 'clf__estimator__penalty': 'l2', 'clf__estimator__solver': 'saga'}\n",
      "{'clf__estimator': LogisticRegression(C=10, solver='saga'), 'clf__estimator__C': 10, 'clf__estimator__penalty': 'none', 'clf__estimator__solver': 'saga'}\n"
     ]
    },
    {
     "name": "stderr",
     "output_type": "stream",
     "text": [
      "/usr/local/lib/python3.7/dist-packages/sklearn/linear_model/_logistic.py:1484: UserWarning: Setting penalty='none' will ignore the C and l1_ratio parameters\n",
      "  \"Setting penalty='none' will ignore the C and l1_ratio parameters\"\n"
     ]
    },
    {
     "name": "stdout",
     "output_type": "stream",
     "text": [
      "{'clf__estimator': MLPClassifier(), 'clf__estimator__activation': 'logistic', 'clf__estimator__learning_rate': 'constant'}\n",
      "{'clf__estimator': MLPClassifier(activation='logistic'), 'clf__estimator__activation': 'logistic', 'clf__estimator__learning_rate': 'invscaling'}\n",
      "{'clf__estimator': MLPClassifier(activation='logistic', learning_rate='invscaling'), 'clf__estimator__activation': 'logistic', 'clf__estimator__learning_rate': 'adaptive'}\n",
      "{'clf__estimator': MLPClassifier(activation='logistic', learning_rate='adaptive'), 'clf__estimator__activation': 'tanh', 'clf__estimator__learning_rate': 'constant'}\n",
      "{'clf__estimator': MLPClassifier(activation='tanh'), 'clf__estimator__activation': 'tanh', 'clf__estimator__learning_rate': 'invscaling'}\n",
      "{'clf__estimator': MLPClassifier(activation='tanh', learning_rate='invscaling'), 'clf__estimator__activation': 'tanh', 'clf__estimator__learning_rate': 'adaptive'}\n",
      "{'clf__estimator': MLPClassifier(activation='tanh', learning_rate='adaptive'), 'clf__estimator__activation': 'relu', 'clf__estimator__learning_rate': 'constant'}\n",
      "{'clf__estimator': MLPClassifier(), 'clf__estimator__activation': 'relu', 'clf__estimator__learning_rate': 'invscaling'}\n",
      "{'clf__estimator': MLPClassifier(learning_rate='invscaling'), 'clf__estimator__activation': 'relu', 'clf__estimator__learning_rate': 'adaptive'}\n",
      "{'clf__estimator': RandomForestClassifier(), 'clf__estimator__max_depth': 2, 'clf__estimator__n_estimators': 10}\n",
      "{'clf__estimator': RandomForestClassifier(max_depth=2, n_estimators=10), 'clf__estimator__max_depth': 2, 'clf__estimator__n_estimators': 50}\n",
      "{'clf__estimator': RandomForestClassifier(max_depth=2, n_estimators=50), 'clf__estimator__max_depth': 2, 'clf__estimator__n_estimators': 100}\n",
      "{'clf__estimator': RandomForestClassifier(max_depth=2), 'clf__estimator__max_depth': 3, 'clf__estimator__n_estimators': 10}\n",
      "{'clf__estimator': RandomForestClassifier(max_depth=3, n_estimators=10), 'clf__estimator__max_depth': 3, 'clf__estimator__n_estimators': 50}\n",
      "{'clf__estimator': RandomForestClassifier(max_depth=3, n_estimators=50), 'clf__estimator__max_depth': 3, 'clf__estimator__n_estimators': 100}\n"
     ]
    }
   ],
   "source": [
    "best_score = 0.0\n",
    "\n",
    "for g in ParameterGrid(parametros):\n",
    "  print(g)\n",
    "  gc.collect()\n",
    "  \n",
    "  pipeline.set_params(**g)\n",
    "  pipeline.fit(X_train_total,y_train)\n",
    "\n",
    "  y_preds_val = pipeline.predict_proba(X_val_total.copy())\n",
    "  y_val_pred_df = pd.DataFrame(y_preds_val).set_index(X_val_total.index).iloc[:,1]\n",
    "\n",
    "  curr_score = roc_auc_score(y_val[y_val.index.intersection(y_val_pred_df.index)],y_val_pred_df)\n",
    "  if  curr_score > best_score:\n",
    "    best_score = curr_score\n",
    "    best_grid = g\n",
    "  gc.collect()"
   ]
  },
  {
   "cell_type": "markdown",
   "metadata": {
    "id": "gBiNo4_pPA0C"
   },
   "source": [
    "Verificando o modelo final "
   ]
  },
  {
   "cell_type": "code",
   "execution_count": 16,
   "metadata": {
    "colab": {
     "base_uri": "https://localhost:8080/"
    },
    "id": "F5YsKbpg2hlk",
    "outputId": "54ce25c7-1a67-4fbb-8ea5-73e987640cc5"
   },
   "outputs": [
    {
     "data": {
      "text/plain": [
       "{'clf__estimator': LogisticRegression(C=10, penalty='none', solver='saga'),\n",
       " 'clf__estimator__C': 0.01,\n",
       " 'clf__estimator__penalty': 'l1',\n",
       " 'clf__estimator__solver': 'saga'}"
      ]
     },
     "execution_count": 16,
     "metadata": {},
     "output_type": "execute_result"
    }
   ],
   "source": [
    "best_grid"
   ]
  },
  {
   "cell_type": "code",
   "execution_count": 17,
   "metadata": {
    "colab": {
     "base_uri": "https://localhost:8080/"
    },
    "id": "FX6rt2tAO23v",
    "outputId": "a28903a3-b27d-4d65-93b2-0a67a3e8861e"
   },
   "outputs": [
    {
     "data": {
      "text/plain": [
       "0.5079611221488893"
      ]
     },
     "execution_count": 17,
     "metadata": {},
     "output_type": "execute_result"
    }
   ],
   "source": [
    "best_score"
   ]
  },
  {
   "cell_type": "markdown",
   "metadata": {
    "id": "DVWB0LZDPDL-"
   },
   "source": [
    "Temos um score mediocre, provavelmente por conta de todas as features que foram descartadas, porém é o melhor conseguido e a maneira com que fora conseguido, dado um pouco mais de processamento das variáveis (e uso das variáveis vesta extras) seria provavelmente mais útil. "
   ]
  },
  {
   "cell_type": "markdown",
   "metadata": {
    "id": "B8msmpHAPekS"
   },
   "source": [
    "Com isso vamos realizar as previsões no conjunto de teste, depois de retreinar o modelo em todo o conjunto."
   ]
  },
  {
   "cell_type": "markdown",
   "metadata": {
    "id": "S2d4JdhVPmhq"
   },
   "source": [
    "b) Gerar os resultados do melhor modelo na base de teste e enviar para o\n",
    "Kaggle. Colocar alguma evidência do envio no projeto entregue;"
   ]
  },
  {
   "cell_type": "code",
   "execution_count": 18,
   "metadata": {
    "id": "JR9ylfbDRYRS"
   },
   "outputs": [],
   "source": [
    "#fitar no dataset inteiro, pegar test, fazer os PREDICTS, enviar no formato adequado, mandar print\n",
    "\n",
    "X_total_para_fit = X_train_total.append(X_val_total)\n",
    "\n",
    "pipeline.set_params(**best_grid)\n",
    "pipeline.fit(X_total_para_fit,y)\n",
    "\n",
    "test_transaction = pd.read_csv(\"test_transaction.csv\")\n",
    "test_identity = pd.read_csv(\"test_identity.csv\")\n",
    "\n",
    "test_transaction = test_transaction.set_index(\"TransactionID\")\n",
    "test_transaction.drop([c for c in test_transaction.columns if c.startswith('V')], axis = 1,inplace = True)\n",
    "test_identity = test_identity.set_index(\"TransactionID\")\n",
    "\n",
    "X_teste = test_transaction.join(\n",
    "    pd.merge(test_identity, test_transaction[['D1','TransactionAmt','addr1','addr2']], left_index=True, right_index=True).rename(columns = { \n",
    "    'D1' : 'D1_novo','TransactionAmt' : 'TransactionAmt_novo','addr1' : 'addr1_novo','addr2' :'addr2_novo'\n",
    "}) )"
   ]
  },
  {
   "cell_type": "markdown",
   "metadata": {
    "id": "piH9tBPKVtV-"
   },
   "source": [
    "Nota-se que ocorre uma pequena diferença no nome das classes de id."
   ]
  },
  {
   "cell_type": "code",
   "execution_count": 19,
   "metadata": {
    "colab": {
     "base_uri": "https://localhost:8080/",
     "height": 589
    },
    "id": "A67lSyegVils",
    "outputId": "2e946cb0-caed-4fe9-e113-6301cceded87"
   },
   "outputs": [
    {
     "data": {
      "text/html": [
       "\n",
       "  <div id=\"df-7099b795-14a7-4338-8390-8ab6646efde7\">\n",
       "    <div class=\"colab-df-container\">\n",
       "      <div>\n",
       "<style scoped>\n",
       "    .dataframe tbody tr th:only-of-type {\n",
       "        vertical-align: middle;\n",
       "    }\n",
       "\n",
       "    .dataframe tbody tr th {\n",
       "        vertical-align: top;\n",
       "    }\n",
       "\n",
       "    .dataframe thead th {\n",
       "        text-align: right;\n",
       "    }\n",
       "</style>\n",
       "<table border=\"1\" class=\"dataframe\">\n",
       "  <thead>\n",
       "    <tr style=\"text-align: right;\">\n",
       "      <th></th>\n",
       "      <th>TransactionDT</th>\n",
       "      <th>TransactionAmt</th>\n",
       "      <th>ProductCD</th>\n",
       "      <th>card1</th>\n",
       "      <th>card2</th>\n",
       "      <th>card3</th>\n",
       "      <th>card4</th>\n",
       "      <th>card5</th>\n",
       "      <th>card6</th>\n",
       "      <th>addr1</th>\n",
       "      <th>addr2</th>\n",
       "      <th>dist1</th>\n",
       "      <th>dist2</th>\n",
       "      <th>P_emaildomain</th>\n",
       "      <th>R_emaildomain</th>\n",
       "      <th>C1</th>\n",
       "      <th>C2</th>\n",
       "      <th>C3</th>\n",
       "      <th>C4</th>\n",
       "      <th>C5</th>\n",
       "      <th>C6</th>\n",
       "      <th>C7</th>\n",
       "      <th>C8</th>\n",
       "      <th>C9</th>\n",
       "      <th>C10</th>\n",
       "      <th>C11</th>\n",
       "      <th>C12</th>\n",
       "      <th>C13</th>\n",
       "      <th>C14</th>\n",
       "      <th>D1</th>\n",
       "      <th>D2</th>\n",
       "      <th>D3</th>\n",
       "      <th>D4</th>\n",
       "      <th>D5</th>\n",
       "      <th>D6</th>\n",
       "      <th>D7</th>\n",
       "      <th>D8</th>\n",
       "      <th>D9</th>\n",
       "      <th>D10</th>\n",
       "      <th>D11</th>\n",
       "      <th>...</th>\n",
       "      <th>id-05</th>\n",
       "      <th>id-06</th>\n",
       "      <th>id-07</th>\n",
       "      <th>id-08</th>\n",
       "      <th>id-09</th>\n",
       "      <th>id-10</th>\n",
       "      <th>id-11</th>\n",
       "      <th>id-12</th>\n",
       "      <th>id-13</th>\n",
       "      <th>id-14</th>\n",
       "      <th>id-15</th>\n",
       "      <th>id-16</th>\n",
       "      <th>id-17</th>\n",
       "      <th>id-18</th>\n",
       "      <th>id-19</th>\n",
       "      <th>id-20</th>\n",
       "      <th>id-21</th>\n",
       "      <th>id-22</th>\n",
       "      <th>id-23</th>\n",
       "      <th>id-24</th>\n",
       "      <th>id-25</th>\n",
       "      <th>id-26</th>\n",
       "      <th>id-27</th>\n",
       "      <th>id-28</th>\n",
       "      <th>id-29</th>\n",
       "      <th>id-30</th>\n",
       "      <th>id-31</th>\n",
       "      <th>id-32</th>\n",
       "      <th>id-33</th>\n",
       "      <th>id-34</th>\n",
       "      <th>id-35</th>\n",
       "      <th>id-36</th>\n",
       "      <th>id-37</th>\n",
       "      <th>id-38</th>\n",
       "      <th>DeviceType</th>\n",
       "      <th>DeviceInfo</th>\n",
       "      <th>D1_novo</th>\n",
       "      <th>TransactionAmt_novo</th>\n",
       "      <th>addr1_novo</th>\n",
       "      <th>addr2_novo</th>\n",
       "    </tr>\n",
       "    <tr>\n",
       "      <th>TransactionID</th>\n",
       "      <th></th>\n",
       "      <th></th>\n",
       "      <th></th>\n",
       "      <th></th>\n",
       "      <th></th>\n",
       "      <th></th>\n",
       "      <th></th>\n",
       "      <th></th>\n",
       "      <th></th>\n",
       "      <th></th>\n",
       "      <th></th>\n",
       "      <th></th>\n",
       "      <th></th>\n",
       "      <th></th>\n",
       "      <th></th>\n",
       "      <th></th>\n",
       "      <th></th>\n",
       "      <th></th>\n",
       "      <th></th>\n",
       "      <th></th>\n",
       "      <th></th>\n",
       "      <th></th>\n",
       "      <th></th>\n",
       "      <th></th>\n",
       "      <th></th>\n",
       "      <th></th>\n",
       "      <th></th>\n",
       "      <th></th>\n",
       "      <th></th>\n",
       "      <th></th>\n",
       "      <th></th>\n",
       "      <th></th>\n",
       "      <th></th>\n",
       "      <th></th>\n",
       "      <th></th>\n",
       "      <th></th>\n",
       "      <th></th>\n",
       "      <th></th>\n",
       "      <th></th>\n",
       "      <th></th>\n",
       "      <th></th>\n",
       "      <th></th>\n",
       "      <th></th>\n",
       "      <th></th>\n",
       "      <th></th>\n",
       "      <th></th>\n",
       "      <th></th>\n",
       "      <th></th>\n",
       "      <th></th>\n",
       "      <th></th>\n",
       "      <th></th>\n",
       "      <th></th>\n",
       "      <th></th>\n",
       "      <th></th>\n",
       "      <th></th>\n",
       "      <th></th>\n",
       "      <th></th>\n",
       "      <th></th>\n",
       "      <th></th>\n",
       "      <th></th>\n",
       "      <th></th>\n",
       "      <th></th>\n",
       "      <th></th>\n",
       "      <th></th>\n",
       "      <th></th>\n",
       "      <th></th>\n",
       "      <th></th>\n",
       "      <th></th>\n",
       "      <th></th>\n",
       "      <th></th>\n",
       "      <th></th>\n",
       "      <th></th>\n",
       "      <th></th>\n",
       "      <th></th>\n",
       "      <th></th>\n",
       "      <th></th>\n",
       "      <th></th>\n",
       "      <th></th>\n",
       "      <th></th>\n",
       "      <th></th>\n",
       "      <th></th>\n",
       "    </tr>\n",
       "  </thead>\n",
       "  <tbody>\n",
       "    <tr>\n",
       "      <th>3663549</th>\n",
       "      <td>18403224</td>\n",
       "      <td>31.950</td>\n",
       "      <td>W</td>\n",
       "      <td>10409</td>\n",
       "      <td>111.0</td>\n",
       "      <td>150.0</td>\n",
       "      <td>visa</td>\n",
       "      <td>226.0</td>\n",
       "      <td>debit</td>\n",
       "      <td>170.0</td>\n",
       "      <td>87.0</td>\n",
       "      <td>1.0</td>\n",
       "      <td>NaN</td>\n",
       "      <td>gmail.com</td>\n",
       "      <td>NaN</td>\n",
       "      <td>6.0</td>\n",
       "      <td>6.0</td>\n",
       "      <td>0.0</td>\n",
       "      <td>0.0</td>\n",
       "      <td>3.0</td>\n",
       "      <td>4.0</td>\n",
       "      <td>0.0</td>\n",
       "      <td>0.0</td>\n",
       "      <td>6.0</td>\n",
       "      <td>0.0</td>\n",
       "      <td>5.0</td>\n",
       "      <td>1.0</td>\n",
       "      <td>115.0</td>\n",
       "      <td>6.0</td>\n",
       "      <td>419.0</td>\n",
       "      <td>419.0</td>\n",
       "      <td>27.0</td>\n",
       "      <td>398.0</td>\n",
       "      <td>27.0</td>\n",
       "      <td>NaN</td>\n",
       "      <td>NaN</td>\n",
       "      <td>NaN</td>\n",
       "      <td>NaN</td>\n",
       "      <td>418.0</td>\n",
       "      <td>203.0</td>\n",
       "      <td>...</td>\n",
       "      <td>NaN</td>\n",
       "      <td>NaN</td>\n",
       "      <td>NaN</td>\n",
       "      <td>NaN</td>\n",
       "      <td>NaN</td>\n",
       "      <td>NaN</td>\n",
       "      <td>NaN</td>\n",
       "      <td>NaN</td>\n",
       "      <td>NaN</td>\n",
       "      <td>NaN</td>\n",
       "      <td>NaN</td>\n",
       "      <td>NaN</td>\n",
       "      <td>NaN</td>\n",
       "      <td>NaN</td>\n",
       "      <td>NaN</td>\n",
       "      <td>NaN</td>\n",
       "      <td>NaN</td>\n",
       "      <td>NaN</td>\n",
       "      <td>NaN</td>\n",
       "      <td>NaN</td>\n",
       "      <td>NaN</td>\n",
       "      <td>NaN</td>\n",
       "      <td>NaN</td>\n",
       "      <td>NaN</td>\n",
       "      <td>NaN</td>\n",
       "      <td>NaN</td>\n",
       "      <td>NaN</td>\n",
       "      <td>NaN</td>\n",
       "      <td>NaN</td>\n",
       "      <td>NaN</td>\n",
       "      <td>NaN</td>\n",
       "      <td>NaN</td>\n",
       "      <td>NaN</td>\n",
       "      <td>NaN</td>\n",
       "      <td>NaN</td>\n",
       "      <td>NaN</td>\n",
       "      <td>NaN</td>\n",
       "      <td>NaN</td>\n",
       "      <td>NaN</td>\n",
       "      <td>NaN</td>\n",
       "    </tr>\n",
       "    <tr>\n",
       "      <th>3663550</th>\n",
       "      <td>18403263</td>\n",
       "      <td>49.000</td>\n",
       "      <td>W</td>\n",
       "      <td>4272</td>\n",
       "      <td>111.0</td>\n",
       "      <td>150.0</td>\n",
       "      <td>visa</td>\n",
       "      <td>226.0</td>\n",
       "      <td>debit</td>\n",
       "      <td>299.0</td>\n",
       "      <td>87.0</td>\n",
       "      <td>4.0</td>\n",
       "      <td>NaN</td>\n",
       "      <td>aol.com</td>\n",
       "      <td>NaN</td>\n",
       "      <td>3.0</td>\n",
       "      <td>2.0</td>\n",
       "      <td>0.0</td>\n",
       "      <td>0.0</td>\n",
       "      <td>0.0</td>\n",
       "      <td>1.0</td>\n",
       "      <td>0.0</td>\n",
       "      <td>0.0</td>\n",
       "      <td>2.0</td>\n",
       "      <td>0.0</td>\n",
       "      <td>1.0</td>\n",
       "      <td>1.0</td>\n",
       "      <td>12.0</td>\n",
       "      <td>2.0</td>\n",
       "      <td>149.0</td>\n",
       "      <td>149.0</td>\n",
       "      <td>7.0</td>\n",
       "      <td>634.0</td>\n",
       "      <td>7.0</td>\n",
       "      <td>NaN</td>\n",
       "      <td>NaN</td>\n",
       "      <td>NaN</td>\n",
       "      <td>NaN</td>\n",
       "      <td>231.0</td>\n",
       "      <td>634.0</td>\n",
       "      <td>...</td>\n",
       "      <td>NaN</td>\n",
       "      <td>NaN</td>\n",
       "      <td>NaN</td>\n",
       "      <td>NaN</td>\n",
       "      <td>NaN</td>\n",
       "      <td>NaN</td>\n",
       "      <td>NaN</td>\n",
       "      <td>NaN</td>\n",
       "      <td>NaN</td>\n",
       "      <td>NaN</td>\n",
       "      <td>NaN</td>\n",
       "      <td>NaN</td>\n",
       "      <td>NaN</td>\n",
       "      <td>NaN</td>\n",
       "      <td>NaN</td>\n",
       "      <td>NaN</td>\n",
       "      <td>NaN</td>\n",
       "      <td>NaN</td>\n",
       "      <td>NaN</td>\n",
       "      <td>NaN</td>\n",
       "      <td>NaN</td>\n",
       "      <td>NaN</td>\n",
       "      <td>NaN</td>\n",
       "      <td>NaN</td>\n",
       "      <td>NaN</td>\n",
       "      <td>NaN</td>\n",
       "      <td>NaN</td>\n",
       "      <td>NaN</td>\n",
       "      <td>NaN</td>\n",
       "      <td>NaN</td>\n",
       "      <td>NaN</td>\n",
       "      <td>NaN</td>\n",
       "      <td>NaN</td>\n",
       "      <td>NaN</td>\n",
       "      <td>NaN</td>\n",
       "      <td>NaN</td>\n",
       "      <td>NaN</td>\n",
       "      <td>NaN</td>\n",
       "      <td>NaN</td>\n",
       "      <td>NaN</td>\n",
       "    </tr>\n",
       "    <tr>\n",
       "      <th>3663551</th>\n",
       "      <td>18403310</td>\n",
       "      <td>171.000</td>\n",
       "      <td>W</td>\n",
       "      <td>4476</td>\n",
       "      <td>574.0</td>\n",
       "      <td>150.0</td>\n",
       "      <td>visa</td>\n",
       "      <td>226.0</td>\n",
       "      <td>debit</td>\n",
       "      <td>472.0</td>\n",
       "      <td>87.0</td>\n",
       "      <td>2635.0</td>\n",
       "      <td>NaN</td>\n",
       "      <td>hotmail.com</td>\n",
       "      <td>NaN</td>\n",
       "      <td>2.0</td>\n",
       "      <td>2.0</td>\n",
       "      <td>0.0</td>\n",
       "      <td>0.0</td>\n",
       "      <td>0.0</td>\n",
       "      <td>5.0</td>\n",
       "      <td>0.0</td>\n",
       "      <td>0.0</td>\n",
       "      <td>4.0</td>\n",
       "      <td>0.0</td>\n",
       "      <td>2.0</td>\n",
       "      <td>0.0</td>\n",
       "      <td>22.0</td>\n",
       "      <td>2.0</td>\n",
       "      <td>137.0</td>\n",
       "      <td>137.0</td>\n",
       "      <td>10.0</td>\n",
       "      <td>97.0</td>\n",
       "      <td>10.0</td>\n",
       "      <td>NaN</td>\n",
       "      <td>NaN</td>\n",
       "      <td>NaN</td>\n",
       "      <td>NaN</td>\n",
       "      <td>136.0</td>\n",
       "      <td>136.0</td>\n",
       "      <td>...</td>\n",
       "      <td>NaN</td>\n",
       "      <td>NaN</td>\n",
       "      <td>NaN</td>\n",
       "      <td>NaN</td>\n",
       "      <td>NaN</td>\n",
       "      <td>NaN</td>\n",
       "      <td>NaN</td>\n",
       "      <td>NaN</td>\n",
       "      <td>NaN</td>\n",
       "      <td>NaN</td>\n",
       "      <td>NaN</td>\n",
       "      <td>NaN</td>\n",
       "      <td>NaN</td>\n",
       "      <td>NaN</td>\n",
       "      <td>NaN</td>\n",
       "      <td>NaN</td>\n",
       "      <td>NaN</td>\n",
       "      <td>NaN</td>\n",
       "      <td>NaN</td>\n",
       "      <td>NaN</td>\n",
       "      <td>NaN</td>\n",
       "      <td>NaN</td>\n",
       "      <td>NaN</td>\n",
       "      <td>NaN</td>\n",
       "      <td>NaN</td>\n",
       "      <td>NaN</td>\n",
       "      <td>NaN</td>\n",
       "      <td>NaN</td>\n",
       "      <td>NaN</td>\n",
       "      <td>NaN</td>\n",
       "      <td>NaN</td>\n",
       "      <td>NaN</td>\n",
       "      <td>NaN</td>\n",
       "      <td>NaN</td>\n",
       "      <td>NaN</td>\n",
       "      <td>NaN</td>\n",
       "      <td>NaN</td>\n",
       "      <td>NaN</td>\n",
       "      <td>NaN</td>\n",
       "      <td>NaN</td>\n",
       "    </tr>\n",
       "    <tr>\n",
       "      <th>3663552</th>\n",
       "      <td>18403310</td>\n",
       "      <td>284.950</td>\n",
       "      <td>W</td>\n",
       "      <td>10989</td>\n",
       "      <td>360.0</td>\n",
       "      <td>150.0</td>\n",
       "      <td>visa</td>\n",
       "      <td>166.0</td>\n",
       "      <td>debit</td>\n",
       "      <td>205.0</td>\n",
       "      <td>87.0</td>\n",
       "      <td>17.0</td>\n",
       "      <td>NaN</td>\n",
       "      <td>gmail.com</td>\n",
       "      <td>NaN</td>\n",
       "      <td>5.0</td>\n",
       "      <td>2.0</td>\n",
       "      <td>0.0</td>\n",
       "      <td>0.0</td>\n",
       "      <td>1.0</td>\n",
       "      <td>1.0</td>\n",
       "      <td>0.0</td>\n",
       "      <td>0.0</td>\n",
       "      <td>2.0</td>\n",
       "      <td>0.0</td>\n",
       "      <td>2.0</td>\n",
       "      <td>0.0</td>\n",
       "      <td>7.0</td>\n",
       "      <td>4.0</td>\n",
       "      <td>42.0</td>\n",
       "      <td>42.0</td>\n",
       "      <td>41.0</td>\n",
       "      <td>242.0</td>\n",
       "      <td>41.0</td>\n",
       "      <td>NaN</td>\n",
       "      <td>NaN</td>\n",
       "      <td>NaN</td>\n",
       "      <td>NaN</td>\n",
       "      <td>242.0</td>\n",
       "      <td>242.0</td>\n",
       "      <td>...</td>\n",
       "      <td>NaN</td>\n",
       "      <td>NaN</td>\n",
       "      <td>NaN</td>\n",
       "      <td>NaN</td>\n",
       "      <td>NaN</td>\n",
       "      <td>NaN</td>\n",
       "      <td>NaN</td>\n",
       "      <td>NaN</td>\n",
       "      <td>NaN</td>\n",
       "      <td>NaN</td>\n",
       "      <td>NaN</td>\n",
       "      <td>NaN</td>\n",
       "      <td>NaN</td>\n",
       "      <td>NaN</td>\n",
       "      <td>NaN</td>\n",
       "      <td>NaN</td>\n",
       "      <td>NaN</td>\n",
       "      <td>NaN</td>\n",
       "      <td>NaN</td>\n",
       "      <td>NaN</td>\n",
       "      <td>NaN</td>\n",
       "      <td>NaN</td>\n",
       "      <td>NaN</td>\n",
       "      <td>NaN</td>\n",
       "      <td>NaN</td>\n",
       "      <td>NaN</td>\n",
       "      <td>NaN</td>\n",
       "      <td>NaN</td>\n",
       "      <td>NaN</td>\n",
       "      <td>NaN</td>\n",
       "      <td>NaN</td>\n",
       "      <td>NaN</td>\n",
       "      <td>NaN</td>\n",
       "      <td>NaN</td>\n",
       "      <td>NaN</td>\n",
       "      <td>NaN</td>\n",
       "      <td>NaN</td>\n",
       "      <td>NaN</td>\n",
       "      <td>NaN</td>\n",
       "      <td>NaN</td>\n",
       "    </tr>\n",
       "    <tr>\n",
       "      <th>3663553</th>\n",
       "      <td>18403317</td>\n",
       "      <td>67.950</td>\n",
       "      <td>W</td>\n",
       "      <td>18018</td>\n",
       "      <td>452.0</td>\n",
       "      <td>150.0</td>\n",
       "      <td>mastercard</td>\n",
       "      <td>117.0</td>\n",
       "      <td>debit</td>\n",
       "      <td>264.0</td>\n",
       "      <td>87.0</td>\n",
       "      <td>6.0</td>\n",
       "      <td>NaN</td>\n",
       "      <td>gmail.com</td>\n",
       "      <td>NaN</td>\n",
       "      <td>6.0</td>\n",
       "      <td>6.0</td>\n",
       "      <td>0.0</td>\n",
       "      <td>0.0</td>\n",
       "      <td>2.0</td>\n",
       "      <td>5.0</td>\n",
       "      <td>0.0</td>\n",
       "      <td>0.0</td>\n",
       "      <td>5.0</td>\n",
       "      <td>0.0</td>\n",
       "      <td>6.0</td>\n",
       "      <td>0.0</td>\n",
       "      <td>14.0</td>\n",
       "      <td>6.0</td>\n",
       "      <td>22.0</td>\n",
       "      <td>22.0</td>\n",
       "      <td>0.0</td>\n",
       "      <td>22.0</td>\n",
       "      <td>0.0</td>\n",
       "      <td>NaN</td>\n",
       "      <td>NaN</td>\n",
       "      <td>NaN</td>\n",
       "      <td>NaN</td>\n",
       "      <td>22.0</td>\n",
       "      <td>22.0</td>\n",
       "      <td>...</td>\n",
       "      <td>NaN</td>\n",
       "      <td>NaN</td>\n",
       "      <td>NaN</td>\n",
       "      <td>NaN</td>\n",
       "      <td>NaN</td>\n",
       "      <td>NaN</td>\n",
       "      <td>NaN</td>\n",
       "      <td>NaN</td>\n",
       "      <td>NaN</td>\n",
       "      <td>NaN</td>\n",
       "      <td>NaN</td>\n",
       "      <td>NaN</td>\n",
       "      <td>NaN</td>\n",
       "      <td>NaN</td>\n",
       "      <td>NaN</td>\n",
       "      <td>NaN</td>\n",
       "      <td>NaN</td>\n",
       "      <td>NaN</td>\n",
       "      <td>NaN</td>\n",
       "      <td>NaN</td>\n",
       "      <td>NaN</td>\n",
       "      <td>NaN</td>\n",
       "      <td>NaN</td>\n",
       "      <td>NaN</td>\n",
       "      <td>NaN</td>\n",
       "      <td>NaN</td>\n",
       "      <td>NaN</td>\n",
       "      <td>NaN</td>\n",
       "      <td>NaN</td>\n",
       "      <td>NaN</td>\n",
       "      <td>NaN</td>\n",
       "      <td>NaN</td>\n",
       "      <td>NaN</td>\n",
       "      <td>NaN</td>\n",
       "      <td>NaN</td>\n",
       "      <td>NaN</td>\n",
       "      <td>NaN</td>\n",
       "      <td>NaN</td>\n",
       "      <td>NaN</td>\n",
       "      <td>NaN</td>\n",
       "    </tr>\n",
       "    <tr>\n",
       "      <th>...</th>\n",
       "      <td>...</td>\n",
       "      <td>...</td>\n",
       "      <td>...</td>\n",
       "      <td>...</td>\n",
       "      <td>...</td>\n",
       "      <td>...</td>\n",
       "      <td>...</td>\n",
       "      <td>...</td>\n",
       "      <td>...</td>\n",
       "      <td>...</td>\n",
       "      <td>...</td>\n",
       "      <td>...</td>\n",
       "      <td>...</td>\n",
       "      <td>...</td>\n",
       "      <td>...</td>\n",
       "      <td>...</td>\n",
       "      <td>...</td>\n",
       "      <td>...</td>\n",
       "      <td>...</td>\n",
       "      <td>...</td>\n",
       "      <td>...</td>\n",
       "      <td>...</td>\n",
       "      <td>...</td>\n",
       "      <td>...</td>\n",
       "      <td>...</td>\n",
       "      <td>...</td>\n",
       "      <td>...</td>\n",
       "      <td>...</td>\n",
       "      <td>...</td>\n",
       "      <td>...</td>\n",
       "      <td>...</td>\n",
       "      <td>...</td>\n",
       "      <td>...</td>\n",
       "      <td>...</td>\n",
       "      <td>...</td>\n",
       "      <td>...</td>\n",
       "      <td>...</td>\n",
       "      <td>...</td>\n",
       "      <td>...</td>\n",
       "      <td>...</td>\n",
       "      <td>...</td>\n",
       "      <td>...</td>\n",
       "      <td>...</td>\n",
       "      <td>...</td>\n",
       "      <td>...</td>\n",
       "      <td>...</td>\n",
       "      <td>...</td>\n",
       "      <td>...</td>\n",
       "      <td>...</td>\n",
       "      <td>...</td>\n",
       "      <td>...</td>\n",
       "      <td>...</td>\n",
       "      <td>...</td>\n",
       "      <td>...</td>\n",
       "      <td>...</td>\n",
       "      <td>...</td>\n",
       "      <td>...</td>\n",
       "      <td>...</td>\n",
       "      <td>...</td>\n",
       "      <td>...</td>\n",
       "      <td>...</td>\n",
       "      <td>...</td>\n",
       "      <td>...</td>\n",
       "      <td>...</td>\n",
       "      <td>...</td>\n",
       "      <td>...</td>\n",
       "      <td>...</td>\n",
       "      <td>...</td>\n",
       "      <td>...</td>\n",
       "      <td>...</td>\n",
       "      <td>...</td>\n",
       "      <td>...</td>\n",
       "      <td>...</td>\n",
       "      <td>...</td>\n",
       "      <td>...</td>\n",
       "      <td>...</td>\n",
       "      <td>...</td>\n",
       "      <td>...</td>\n",
       "      <td>...</td>\n",
       "      <td>...</td>\n",
       "      <td>...</td>\n",
       "    </tr>\n",
       "    <tr>\n",
       "      <th>4170235</th>\n",
       "      <td>34214279</td>\n",
       "      <td>94.679</td>\n",
       "      <td>C</td>\n",
       "      <td>13832</td>\n",
       "      <td>375.0</td>\n",
       "      <td>185.0</td>\n",
       "      <td>mastercard</td>\n",
       "      <td>224.0</td>\n",
       "      <td>debit</td>\n",
       "      <td>284.0</td>\n",
       "      <td>60.0</td>\n",
       "      <td>NaN</td>\n",
       "      <td>NaN</td>\n",
       "      <td>gmail.com</td>\n",
       "      <td>gmail.com</td>\n",
       "      <td>1.0</td>\n",
       "      <td>1.0</td>\n",
       "      <td>0.0</td>\n",
       "      <td>1.0</td>\n",
       "      <td>0.0</td>\n",
       "      <td>1.0</td>\n",
       "      <td>1.0</td>\n",
       "      <td>0.0</td>\n",
       "      <td>0.0</td>\n",
       "      <td>0.0</td>\n",
       "      <td>1.0</td>\n",
       "      <td>1.0</td>\n",
       "      <td>1.0</td>\n",
       "      <td>1.0</td>\n",
       "      <td>0.0</td>\n",
       "      <td>NaN</td>\n",
       "      <td>NaN</td>\n",
       "      <td>0.0</td>\n",
       "      <td>NaN</td>\n",
       "      <td>0.0</td>\n",
       "      <td>NaN</td>\n",
       "      <td>NaN</td>\n",
       "      <td>NaN</td>\n",
       "      <td>0.0</td>\n",
       "      <td>NaN</td>\n",
       "      <td>...</td>\n",
       "      <td>NaN</td>\n",
       "      <td>NaN</td>\n",
       "      <td>NaN</td>\n",
       "      <td>NaN</td>\n",
       "      <td>NaN</td>\n",
       "      <td>NaN</td>\n",
       "      <td>NaN</td>\n",
       "      <td>NaN</td>\n",
       "      <td>NaN</td>\n",
       "      <td>NaN</td>\n",
       "      <td>NaN</td>\n",
       "      <td>NaN</td>\n",
       "      <td>NaN</td>\n",
       "      <td>NaN</td>\n",
       "      <td>NaN</td>\n",
       "      <td>NaN</td>\n",
       "      <td>NaN</td>\n",
       "      <td>NaN</td>\n",
       "      <td>NaN</td>\n",
       "      <td>NaN</td>\n",
       "      <td>NaN</td>\n",
       "      <td>NaN</td>\n",
       "      <td>NaN</td>\n",
       "      <td>NaN</td>\n",
       "      <td>NaN</td>\n",
       "      <td>NaN</td>\n",
       "      <td>NaN</td>\n",
       "      <td>NaN</td>\n",
       "      <td>NaN</td>\n",
       "      <td>NaN</td>\n",
       "      <td>NaN</td>\n",
       "      <td>NaN</td>\n",
       "      <td>NaN</td>\n",
       "      <td>NaN</td>\n",
       "      <td>NaN</td>\n",
       "      <td>NaN</td>\n",
       "      <td>NaN</td>\n",
       "      <td>NaN</td>\n",
       "      <td>NaN</td>\n",
       "      <td>NaN</td>\n",
       "    </tr>\n",
       "    <tr>\n",
       "      <th>4170236</th>\n",
       "      <td>34214287</td>\n",
       "      <td>12.173</td>\n",
       "      <td>C</td>\n",
       "      <td>3154</td>\n",
       "      <td>408.0</td>\n",
       "      <td>185.0</td>\n",
       "      <td>mastercard</td>\n",
       "      <td>224.0</td>\n",
       "      <td>debit</td>\n",
       "      <td>NaN</td>\n",
       "      <td>NaN</td>\n",
       "      <td>NaN</td>\n",
       "      <td>157.0</td>\n",
       "      <td>hotmail.com</td>\n",
       "      <td>hotmail.com</td>\n",
       "      <td>1.0</td>\n",
       "      <td>3.0</td>\n",
       "      <td>0.0</td>\n",
       "      <td>1.0</td>\n",
       "      <td>0.0</td>\n",
       "      <td>1.0</td>\n",
       "      <td>1.0</td>\n",
       "      <td>2.0</td>\n",
       "      <td>0.0</td>\n",
       "      <td>2.0</td>\n",
       "      <td>1.0</td>\n",
       "      <td>1.0</td>\n",
       "      <td>3.0</td>\n",
       "      <td>1.0</td>\n",
       "      <td>16.0</td>\n",
       "      <td>16.0</td>\n",
       "      <td>16.0</td>\n",
       "      <td>16.0</td>\n",
       "      <td>16.0</td>\n",
       "      <td>16.0</td>\n",
       "      <td>16.0</td>\n",
       "      <td>NaN</td>\n",
       "      <td>NaN</td>\n",
       "      <td>0.0</td>\n",
       "      <td>NaN</td>\n",
       "      <td>...</td>\n",
       "      <td>-3.0</td>\n",
       "      <td>-10.0</td>\n",
       "      <td>NaN</td>\n",
       "      <td>NaN</td>\n",
       "      <td>NaN</td>\n",
       "      <td>NaN</td>\n",
       "      <td>100.0</td>\n",
       "      <td>NotFound</td>\n",
       "      <td>27.0</td>\n",
       "      <td>NaN</td>\n",
       "      <td>New</td>\n",
       "      <td>NotFound</td>\n",
       "      <td>225.0</td>\n",
       "      <td>15.0</td>\n",
       "      <td>176.0</td>\n",
       "      <td>507.0</td>\n",
       "      <td>NaN</td>\n",
       "      <td>NaN</td>\n",
       "      <td>NaN</td>\n",
       "      <td>NaN</td>\n",
       "      <td>NaN</td>\n",
       "      <td>NaN</td>\n",
       "      <td>NaN</td>\n",
       "      <td>New</td>\n",
       "      <td>NotFound</td>\n",
       "      <td>NaN</td>\n",
       "      <td>chrome 43.0 for android</td>\n",
       "      <td>NaN</td>\n",
       "      <td>NaN</td>\n",
       "      <td>NaN</td>\n",
       "      <td>F</td>\n",
       "      <td>F</td>\n",
       "      <td>T</td>\n",
       "      <td>F</td>\n",
       "      <td>mobile</td>\n",
       "      <td>ALE-L23 Build/HuaweiALE-L23</td>\n",
       "      <td>16.0</td>\n",
       "      <td>12.173</td>\n",
       "      <td>NaN</td>\n",
       "      <td>NaN</td>\n",
       "    </tr>\n",
       "    <tr>\n",
       "      <th>4170237</th>\n",
       "      <td>34214326</td>\n",
       "      <td>49.000</td>\n",
       "      <td>W</td>\n",
       "      <td>16661</td>\n",
       "      <td>490.0</td>\n",
       "      <td>150.0</td>\n",
       "      <td>visa</td>\n",
       "      <td>226.0</td>\n",
       "      <td>debit</td>\n",
       "      <td>327.0</td>\n",
       "      <td>87.0</td>\n",
       "      <td>NaN</td>\n",
       "      <td>NaN</td>\n",
       "      <td>hotmail.com</td>\n",
       "      <td>NaN</td>\n",
       "      <td>1.0</td>\n",
       "      <td>1.0</td>\n",
       "      <td>0.0</td>\n",
       "      <td>0.0</td>\n",
       "      <td>0.0</td>\n",
       "      <td>1.0</td>\n",
       "      <td>0.0</td>\n",
       "      <td>0.0</td>\n",
       "      <td>1.0</td>\n",
       "      <td>0.0</td>\n",
       "      <td>1.0</td>\n",
       "      <td>0.0</td>\n",
       "      <td>1.0</td>\n",
       "      <td>1.0</td>\n",
       "      <td>0.0</td>\n",
       "      <td>NaN</td>\n",
       "      <td>NaN</td>\n",
       "      <td>0.0</td>\n",
       "      <td>NaN</td>\n",
       "      <td>NaN</td>\n",
       "      <td>NaN</td>\n",
       "      <td>NaN</td>\n",
       "      <td>NaN</td>\n",
       "      <td>0.0</td>\n",
       "      <td>0.0</td>\n",
       "      <td>...</td>\n",
       "      <td>NaN</td>\n",
       "      <td>NaN</td>\n",
       "      <td>NaN</td>\n",
       "      <td>NaN</td>\n",
       "      <td>NaN</td>\n",
       "      <td>NaN</td>\n",
       "      <td>NaN</td>\n",
       "      <td>NaN</td>\n",
       "      <td>NaN</td>\n",
       "      <td>NaN</td>\n",
       "      <td>NaN</td>\n",
       "      <td>NaN</td>\n",
       "      <td>NaN</td>\n",
       "      <td>NaN</td>\n",
       "      <td>NaN</td>\n",
       "      <td>NaN</td>\n",
       "      <td>NaN</td>\n",
       "      <td>NaN</td>\n",
       "      <td>NaN</td>\n",
       "      <td>NaN</td>\n",
       "      <td>NaN</td>\n",
       "      <td>NaN</td>\n",
       "      <td>NaN</td>\n",
       "      <td>NaN</td>\n",
       "      <td>NaN</td>\n",
       "      <td>NaN</td>\n",
       "      <td>NaN</td>\n",
       "      <td>NaN</td>\n",
       "      <td>NaN</td>\n",
       "      <td>NaN</td>\n",
       "      <td>NaN</td>\n",
       "      <td>NaN</td>\n",
       "      <td>NaN</td>\n",
       "      <td>NaN</td>\n",
       "      <td>NaN</td>\n",
       "      <td>NaN</td>\n",
       "      <td>NaN</td>\n",
       "      <td>NaN</td>\n",
       "      <td>NaN</td>\n",
       "      <td>NaN</td>\n",
       "    </tr>\n",
       "    <tr>\n",
       "      <th>4170238</th>\n",
       "      <td>34214337</td>\n",
       "      <td>202.000</td>\n",
       "      <td>W</td>\n",
       "      <td>16621</td>\n",
       "      <td>516.0</td>\n",
       "      <td>150.0</td>\n",
       "      <td>mastercard</td>\n",
       "      <td>224.0</td>\n",
       "      <td>debit</td>\n",
       "      <td>177.0</td>\n",
       "      <td>87.0</td>\n",
       "      <td>NaN</td>\n",
       "      <td>NaN</td>\n",
       "      <td>hotmail.com</td>\n",
       "      <td>NaN</td>\n",
       "      <td>1.0</td>\n",
       "      <td>1.0</td>\n",
       "      <td>0.0</td>\n",
       "      <td>0.0</td>\n",
       "      <td>0.0</td>\n",
       "      <td>1.0</td>\n",
       "      <td>0.0</td>\n",
       "      <td>0.0</td>\n",
       "      <td>1.0</td>\n",
       "      <td>0.0</td>\n",
       "      <td>1.0</td>\n",
       "      <td>0.0</td>\n",
       "      <td>1.0</td>\n",
       "      <td>1.0</td>\n",
       "      <td>0.0</td>\n",
       "      <td>NaN</td>\n",
       "      <td>NaN</td>\n",
       "      <td>0.0</td>\n",
       "      <td>NaN</td>\n",
       "      <td>NaN</td>\n",
       "      <td>NaN</td>\n",
       "      <td>NaN</td>\n",
       "      <td>NaN</td>\n",
       "      <td>0.0</td>\n",
       "      <td>0.0</td>\n",
       "      <td>...</td>\n",
       "      <td>NaN</td>\n",
       "      <td>NaN</td>\n",
       "      <td>NaN</td>\n",
       "      <td>NaN</td>\n",
       "      <td>NaN</td>\n",
       "      <td>NaN</td>\n",
       "      <td>NaN</td>\n",
       "      <td>NaN</td>\n",
       "      <td>NaN</td>\n",
       "      <td>NaN</td>\n",
       "      <td>NaN</td>\n",
       "      <td>NaN</td>\n",
       "      <td>NaN</td>\n",
       "      <td>NaN</td>\n",
       "      <td>NaN</td>\n",
       "      <td>NaN</td>\n",
       "      <td>NaN</td>\n",
       "      <td>NaN</td>\n",
       "      <td>NaN</td>\n",
       "      <td>NaN</td>\n",
       "      <td>NaN</td>\n",
       "      <td>NaN</td>\n",
       "      <td>NaN</td>\n",
       "      <td>NaN</td>\n",
       "      <td>NaN</td>\n",
       "      <td>NaN</td>\n",
       "      <td>NaN</td>\n",
       "      <td>NaN</td>\n",
       "      <td>NaN</td>\n",
       "      <td>NaN</td>\n",
       "      <td>NaN</td>\n",
       "      <td>NaN</td>\n",
       "      <td>NaN</td>\n",
       "      <td>NaN</td>\n",
       "      <td>NaN</td>\n",
       "      <td>NaN</td>\n",
       "      <td>NaN</td>\n",
       "      <td>NaN</td>\n",
       "      <td>NaN</td>\n",
       "      <td>NaN</td>\n",
       "    </tr>\n",
       "    <tr>\n",
       "      <th>4170239</th>\n",
       "      <td>34214345</td>\n",
       "      <td>24.346</td>\n",
       "      <td>C</td>\n",
       "      <td>5713</td>\n",
       "      <td>168.0</td>\n",
       "      <td>144.0</td>\n",
       "      <td>visa</td>\n",
       "      <td>147.0</td>\n",
       "      <td>credit</td>\n",
       "      <td>NaN</td>\n",
       "      <td>NaN</td>\n",
       "      <td>NaN</td>\n",
       "      <td>NaN</td>\n",
       "      <td>hotmail.com</td>\n",
       "      <td>hotmail.com</td>\n",
       "      <td>1.0</td>\n",
       "      <td>1.0</td>\n",
       "      <td>0.0</td>\n",
       "      <td>1.0</td>\n",
       "      <td>0.0</td>\n",
       "      <td>1.0</td>\n",
       "      <td>1.0</td>\n",
       "      <td>1.0</td>\n",
       "      <td>0.0</td>\n",
       "      <td>1.0</td>\n",
       "      <td>1.0</td>\n",
       "      <td>1.0</td>\n",
       "      <td>1.0</td>\n",
       "      <td>1.0</td>\n",
       "      <td>0.0</td>\n",
       "      <td>NaN</td>\n",
       "      <td>NaN</td>\n",
       "      <td>0.0</td>\n",
       "      <td>NaN</td>\n",
       "      <td>0.0</td>\n",
       "      <td>NaN</td>\n",
       "      <td>29.958332</td>\n",
       "      <td>0.958333</td>\n",
       "      <td>0.0</td>\n",
       "      <td>NaN</td>\n",
       "      <td>...</td>\n",
       "      <td>0.0</td>\n",
       "      <td>0.0</td>\n",
       "      <td>NaN</td>\n",
       "      <td>NaN</td>\n",
       "      <td>0.0</td>\n",
       "      <td>0.0</td>\n",
       "      <td>100.0</td>\n",
       "      <td>NotFound</td>\n",
       "      <td>27.0</td>\n",
       "      <td>NaN</td>\n",
       "      <td>Found</td>\n",
       "      <td>Found</td>\n",
       "      <td>225.0</td>\n",
       "      <td>NaN</td>\n",
       "      <td>266.0</td>\n",
       "      <td>127.0</td>\n",
       "      <td>NaN</td>\n",
       "      <td>NaN</td>\n",
       "      <td>NaN</td>\n",
       "      <td>NaN</td>\n",
       "      <td>NaN</td>\n",
       "      <td>NaN</td>\n",
       "      <td>NaN</td>\n",
       "      <td>Found</td>\n",
       "      <td>Found</td>\n",
       "      <td>NaN</td>\n",
       "      <td>samsung browser 8.2</td>\n",
       "      <td>NaN</td>\n",
       "      <td>NaN</td>\n",
       "      <td>NaN</td>\n",
       "      <td>F</td>\n",
       "      <td>F</td>\n",
       "      <td>T</td>\n",
       "      <td>F</td>\n",
       "      <td>mobile</td>\n",
       "      <td>SAMSUNG</td>\n",
       "      <td>0.0</td>\n",
       "      <td>24.346</td>\n",
       "      <td>NaN</td>\n",
       "      <td>NaN</td>\n",
       "    </tr>\n",
       "  </tbody>\n",
       "</table>\n",
       "<p>506691 rows × 97 columns</p>\n",
       "</div>\n",
       "      <button class=\"colab-df-convert\" onclick=\"convertToInteractive('df-7099b795-14a7-4338-8390-8ab6646efde7')\"\n",
       "              title=\"Convert this dataframe to an interactive table.\"\n",
       "              style=\"display:none;\">\n",
       "        \n",
       "  <svg xmlns=\"http://www.w3.org/2000/svg\" height=\"24px\"viewBox=\"0 0 24 24\"\n",
       "       width=\"24px\">\n",
       "    <path d=\"M0 0h24v24H0V0z\" fill=\"none\"/>\n",
       "    <path d=\"M18.56 5.44l.94 2.06.94-2.06 2.06-.94-2.06-.94-.94-2.06-.94 2.06-2.06.94zm-11 1L8.5 8.5l.94-2.06 2.06-.94-2.06-.94L8.5 2.5l-.94 2.06-2.06.94zm10 10l.94 2.06.94-2.06 2.06-.94-2.06-.94-.94-2.06-.94 2.06-2.06.94z\"/><path d=\"M17.41 7.96l-1.37-1.37c-.4-.4-.92-.59-1.43-.59-.52 0-1.04.2-1.43.59L10.3 9.45l-7.72 7.72c-.78.78-.78 2.05 0 2.83L4 21.41c.39.39.9.59 1.41.59.51 0 1.02-.2 1.41-.59l7.78-7.78 2.81-2.81c.8-.78.8-2.07 0-2.86zM5.41 20L4 18.59l7.72-7.72 1.47 1.35L5.41 20z\"/>\n",
       "  </svg>\n",
       "      </button>\n",
       "      \n",
       "  <style>\n",
       "    .colab-df-container {\n",
       "      display:flex;\n",
       "      flex-wrap:wrap;\n",
       "      gap: 12px;\n",
       "    }\n",
       "\n",
       "    .colab-df-convert {\n",
       "      background-color: #E8F0FE;\n",
       "      border: none;\n",
       "      border-radius: 50%;\n",
       "      cursor: pointer;\n",
       "      display: none;\n",
       "      fill: #1967D2;\n",
       "      height: 32px;\n",
       "      padding: 0 0 0 0;\n",
       "      width: 32px;\n",
       "    }\n",
       "\n",
       "    .colab-df-convert:hover {\n",
       "      background-color: #E2EBFA;\n",
       "      box-shadow: 0px 1px 2px rgba(60, 64, 67, 0.3), 0px 1px 3px 1px rgba(60, 64, 67, 0.15);\n",
       "      fill: #174EA6;\n",
       "    }\n",
       "\n",
       "    [theme=dark] .colab-df-convert {\n",
       "      background-color: #3B4455;\n",
       "      fill: #D2E3FC;\n",
       "    }\n",
       "\n",
       "    [theme=dark] .colab-df-convert:hover {\n",
       "      background-color: #434B5C;\n",
       "      box-shadow: 0px 1px 3px 1px rgba(0, 0, 0, 0.15);\n",
       "      filter: drop-shadow(0px 1px 2px rgba(0, 0, 0, 0.3));\n",
       "      fill: #FFFFFF;\n",
       "    }\n",
       "  </style>\n",
       "\n",
       "      <script>\n",
       "        const buttonEl =\n",
       "          document.querySelector('#df-7099b795-14a7-4338-8390-8ab6646efde7 button.colab-df-convert');\n",
       "        buttonEl.style.display =\n",
       "          google.colab.kernel.accessAllowed ? 'block' : 'none';\n",
       "\n",
       "        async function convertToInteractive(key) {\n",
       "          const element = document.querySelector('#df-7099b795-14a7-4338-8390-8ab6646efde7');\n",
       "          const dataTable =\n",
       "            await google.colab.kernel.invokeFunction('convertToInteractive',\n",
       "                                                     [key], {});\n",
       "          if (!dataTable) return;\n",
       "\n",
       "          const docLinkHtml = 'Like what you see? Visit the ' +\n",
       "            '<a target=\"_blank\" href=https://colab.research.google.com/notebooks/data_table.ipynb>data table notebook</a>'\n",
       "            + ' to learn more about interactive tables.';\n",
       "          element.innerHTML = '';\n",
       "          dataTable['output_type'] = 'display_data';\n",
       "          await google.colab.output.renderOutput(dataTable, element);\n",
       "          const docLink = document.createElement('div');\n",
       "          docLink.innerHTML = docLinkHtml;\n",
       "          element.appendChild(docLink);\n",
       "        }\n",
       "      </script>\n",
       "    </div>\n",
       "  </div>\n",
       "  "
      ],
      "text/plain": [
       "               TransactionDT  TransactionAmt  ... addr1_novo  addr2_novo\n",
       "TransactionID                                 ...                       \n",
       "3663549             18403224          31.950  ...        NaN         NaN\n",
       "3663550             18403263          49.000  ...        NaN         NaN\n",
       "3663551             18403310         171.000  ...        NaN         NaN\n",
       "3663552             18403310         284.950  ...        NaN         NaN\n",
       "3663553             18403317          67.950  ...        NaN         NaN\n",
       "...                      ...             ...  ...        ...         ...\n",
       "4170235             34214279          94.679  ...        NaN         NaN\n",
       "4170236             34214287          12.173  ...        NaN         NaN\n",
       "4170237             34214326          49.000  ...        NaN         NaN\n",
       "4170238             34214337         202.000  ...        NaN         NaN\n",
       "4170239             34214345          24.346  ...        NaN         NaN\n",
       "\n",
       "[506691 rows x 97 columns]"
      ]
     },
     "execution_count": 19,
     "metadata": {},
     "output_type": "execute_result"
    }
   ],
   "source": [
    "X_teste"
   ]
  },
  {
   "cell_type": "markdown",
   "metadata": {
    "id": "0itzBXGJVz3v"
   },
   "source": [
    "O que é corrigido antes de passar para a pipeline."
   ]
  },
  {
   "cell_type": "code",
   "execution_count": 29,
   "metadata": {
    "id": "W_mpW13CV9FU"
   },
   "outputs": [],
   "source": [
    "dict1 = {\"id-0%d\"%(i+1) : \"id_0%d\"%(i+1) for i in range(9)}\n",
    "dict2 = {\"id-%d\"%(i+1) : \"id_%d\"%(i+1) for i in range(9,38)}\n",
    "dict1.update(dict2)\n",
    "\n",
    "X_teste = X_teste.rename(columns = dict1)"
   ]
  },
  {
   "cell_type": "markdown",
   "metadata": {
    "id": "X5rsXe0MZ4Et"
   },
   "source": [
    "Entretando ao executar o código, nota-se que existe uma mensagem de erro que avisa a possibilidade de valores nulos ou infinitos. \n",
    "\n",
    "Os valores nulos provavelmente não são pois o preprocessamento já realiza essa conversão, além disso, manualmente preenchendo valores nulos já fora feito, para fins de erros, o que mesmo assim não fora resolvido.\n",
    "\n",
    "Checagem de valores infinitos é feita logo abaixo, porém nada foi encontrado.\n",
    "\n",
    "Sendo assim, esta parte não pode ser executada, por algum erro desconhecido. Dado que o conjunto de teste possui uma modificação no nome das colunas id, não é impossível de se esperar que alguma variável/tipo está distinto para com o conjunto de treino, porém não consegui localizar o erro."
   ]
  },
  {
   "cell_type": "code",
   "execution_count": 47,
   "metadata": {
    "id": "vUnsPz-wa3zo"
   },
   "outputs": [],
   "source": [
    "for c in X_teste.columns:\n",
    "  if X_teste[c].dtype == 'object':\n",
    "    X_teste[c].fillna(\"Unknown\", inplace = True)\n",
    "  else:\n",
    "    X_teste[c].fillna(-1, inplace = True)"
   ]
  },
  {
   "cell_type": "code",
   "execution_count": 44,
   "metadata": {
    "colab": {
     "base_uri": "https://localhost:8080/"
    },
    "id": "q21xMamlYbpQ",
    "outputId": "6e48810d-2289-4de1-c72a-9ee1e81907af"
   },
   "outputs": [
    {
     "name": "stdout",
     "output_type": "stream",
     "text": [
      "34214345\n",
      "18403224\n",
      "10270.0\n",
      "0.018000000000000002\n",
      "18397\n",
      "1001\n",
      "600.0\n",
      "-1.0\n",
      "232.0\n",
      "-1.0\n",
      "237.0\n",
      "-1.0\n",
      "540.0\n",
      "-1.0\n",
      "102.0\n",
      "-1.0\n",
      "8081.0\n",
      "-1.0\n",
      "9213.0\n",
      "-1.0\n",
      "2950.0\n",
      "-1.0\n",
      "3275.0\n",
      "-1.0\n",
      "31.0\n",
      "-1.0\n",
      "1601.0\n",
      "-1.0\n",
      "376.0\n",
      "-1.0\n",
      "1601.0\n",
      "-1.0\n",
      "1621.0\n",
      "-1.0\n",
      "1005.0\n",
      "-1.0\n",
      "572.0\n",
      "-1.0\n",
      "881.0\n",
      "-1.0\n",
      "2234.0\n",
      "-1.0\n",
      "2234.0\n",
      "-1.0\n",
      "1562.0\n",
      "-1.0\n",
      "797.0\n",
      "-1.0\n",
      "641.0\n",
      "-1.0\n",
      "641.0\n",
      "-1.0\n",
      "1076.0\n",
      "-1.0\n",
      "1091.0\n",
      "-1.0\n",
      "1088.0\n",
      "-1.0\n",
      "1091.0\n",
      "-1.0\n",
      "1088.0\n",
      "-1.0\n",
      "2029.5833740234373\n",
      "-1.0\n",
      "0.9583330154418944\n",
      "-1.0\n",
      "1091.0\n",
      "-1.0\n",
      "883.0\n",
      "-1.0\n",
      "879.0\n",
      "-1.0\n",
      "1066.0\n",
      "-1.0\n",
      "1085.0\n",
      "-1.0\n",
      "1091.0\n",
      "-1.0\n",
      "0.0\n",
      "-100.0\n",
      "999869.0\n",
      "-1.0\n",
      "11.0\n",
      "-12.0\n",
      "0.0\n",
      "-19.0\n",
      "52.0\n",
      "-81.0\n",
      "0.0\n",
      "-100.0\n",
      "59.0\n",
      "-41.0\n",
      "0.0\n",
      "-100.0\n",
      "16.0\n",
      "-32.0\n",
      "0.0\n",
      "-100.0\n",
      "100.0\n",
      "-1.0\n",
      "63.0\n",
      "-1.0\n",
      "720.0\n",
      "-720.0\n",
      "228.0\n",
      "-1.0\n",
      "29.0\n",
      "-1.0\n",
      "670.0\n",
      "-1.0\n",
      "660.0\n",
      "-1.0\n",
      "854.0\n",
      "-1.0\n",
      "44.0\n",
      "-1.0\n",
      "26.0\n",
      "-1.0\n",
      "549.0\n",
      "-1.0\n",
      "216.0\n",
      "-1.0\n",
      "48.0\n",
      "-1.0\n",
      "640.0\n",
      "-1.0\n",
      "2000.0\n",
      "-1.0\n",
      "540.0\n",
      "-1.0\n",
      "102.0\n",
      "-1.0\n"
     ]
    }
   ],
   "source": [
    "for c in X_teste.columns:\n",
    "  if X_teste[c].dtype != 'object':\n",
    "    print(X_teste[c].max())\n",
    "    print(X_teste[c].min())"
   ]
  },
  {
   "cell_type": "code",
   "execution_count": 45,
   "metadata": {
    "id": "YykaH0luY6e5"
   },
   "outputs": [],
   "source": [
    "def _assert_all_finite(X):\n",
    "    \"\"\"Like assert_all_finite, but only for ndarray.\"\"\"\n",
    "    X = np.asanyarray(X)\n",
    "    if (X.dtype.char in np.typecodes['AllFloat'] and not np.isfinite(X.sum())\n",
    "            and not np.isfinite(X).all()):\n",
    "        raise ValueError(\"Input contains NaN, infinity\"\n",
    "                         \" or a value too large for %r.\" % X.dtype)"
   ]
  },
  {
   "cell_type": "code",
   "execution_count": 46,
   "metadata": {
    "id": "UICZqbSSZulC"
   },
   "outputs": [],
   "source": [
    "_assert_all_finite(X_teste) #passou no teste, nao ha valores infinitos"
   ]
  },
  {
   "cell_type": "code",
   "execution_count": 42,
   "metadata": {
    "colab": {
     "base_uri": "https://localhost:8080/",
     "height": 313
    },
    "id": "cJUSz1rIP23p",
    "outputId": "e58887b6-a095-4027-be28-74cfcba259da"
   },
   "outputs": [
    {
     "ename": "ValueError",
     "evalue": "ignored",
     "output_type": "error",
     "traceback": [
      "\u001b[0;31m---------------------------------------------------------------------------\u001b[0m",
      "\u001b[0;31mValueError\u001b[0m                                Traceback (most recent call last)",
      "\u001b[0;32m<ipython-input-42-62e2da0f2209>\u001b[0m in \u001b[0;36m<module>\u001b[0;34m()\u001b[0m\n\u001b[0;32m----> 1\u001b[0;31m \u001b[0my_preds_teste\u001b[0m \u001b[0;34m=\u001b[0m \u001b[0mpipeline\u001b[0m\u001b[0;34m.\u001b[0m\u001b[0mpredict\u001b[0m\u001b[0;34m(\u001b[0m\u001b[0mX_teste\u001b[0m\u001b[0;34m)\u001b[0m\u001b[0;34m\u001b[0m\u001b[0;34m\u001b[0m\u001b[0m\n\u001b[0m",
      "\u001b[0;32m/usr/local/lib/python3.7/dist-packages/sklearn/utils/metaestimators.py\u001b[0m in \u001b[0;36m<lambda>\u001b[0;34m(*args, **kwargs)\u001b[0m\n\u001b[1;32m    111\u001b[0m \u001b[0;34m\u001b[0m\u001b[0m\n\u001b[1;32m    112\u001b[0m             \u001b[0;31m# lambda, but not partial, allows help() to work with update_wrapper\u001b[0m\u001b[0;34m\u001b[0m\u001b[0;34m\u001b[0m\u001b[0;34m\u001b[0m\u001b[0m\n\u001b[0;32m--> 113\u001b[0;31m             \u001b[0mout\u001b[0m \u001b[0;34m=\u001b[0m \u001b[0;32mlambda\u001b[0m \u001b[0;34m*\u001b[0m\u001b[0margs\u001b[0m\u001b[0;34m,\u001b[0m \u001b[0;34m**\u001b[0m\u001b[0mkwargs\u001b[0m\u001b[0;34m:\u001b[0m \u001b[0mself\u001b[0m\u001b[0;34m.\u001b[0m\u001b[0mfn\u001b[0m\u001b[0;34m(\u001b[0m\u001b[0mobj\u001b[0m\u001b[0;34m,\u001b[0m \u001b[0;34m*\u001b[0m\u001b[0margs\u001b[0m\u001b[0;34m,\u001b[0m \u001b[0;34m**\u001b[0m\u001b[0mkwargs\u001b[0m\u001b[0;34m)\u001b[0m  \u001b[0;31m# noqa\u001b[0m\u001b[0;34m\u001b[0m\u001b[0;34m\u001b[0m\u001b[0m\n\u001b[0m\u001b[1;32m    114\u001b[0m         \u001b[0;32melse\u001b[0m\u001b[0;34m:\u001b[0m\u001b[0;34m\u001b[0m\u001b[0;34m\u001b[0m\u001b[0m\n\u001b[1;32m    115\u001b[0m \u001b[0;34m\u001b[0m\u001b[0m\n",
      "\u001b[0;32m/usr/local/lib/python3.7/dist-packages/sklearn/pipeline.py\u001b[0m in \u001b[0;36mpredict\u001b[0;34m(self, X, **predict_params)\u001b[0m\n\u001b[1;32m    467\u001b[0m         \u001b[0mXt\u001b[0m \u001b[0;34m=\u001b[0m \u001b[0mX\u001b[0m\u001b[0;34m\u001b[0m\u001b[0;34m\u001b[0m\u001b[0m\n\u001b[1;32m    468\u001b[0m         \u001b[0;32mfor\u001b[0m \u001b[0m_\u001b[0m\u001b[0;34m,\u001b[0m \u001b[0mname\u001b[0m\u001b[0;34m,\u001b[0m \u001b[0mtransform\u001b[0m \u001b[0;32min\u001b[0m \u001b[0mself\u001b[0m\u001b[0;34m.\u001b[0m\u001b[0m_iter\u001b[0m\u001b[0;34m(\u001b[0m\u001b[0mwith_final\u001b[0m\u001b[0;34m=\u001b[0m\u001b[0;32mFalse\u001b[0m\u001b[0;34m)\u001b[0m\u001b[0;34m:\u001b[0m\u001b[0;34m\u001b[0m\u001b[0;34m\u001b[0m\u001b[0m\n\u001b[0;32m--> 469\u001b[0;31m             \u001b[0mXt\u001b[0m \u001b[0;34m=\u001b[0m \u001b[0mtransform\u001b[0m\u001b[0;34m.\u001b[0m\u001b[0mtransform\u001b[0m\u001b[0;34m(\u001b[0m\u001b[0mXt\u001b[0m\u001b[0;34m)\u001b[0m\u001b[0;34m\u001b[0m\u001b[0;34m\u001b[0m\u001b[0m\n\u001b[0m\u001b[1;32m    470\u001b[0m         \u001b[0;32mreturn\u001b[0m \u001b[0mself\u001b[0m\u001b[0;34m.\u001b[0m\u001b[0msteps\u001b[0m\u001b[0;34m[\u001b[0m\u001b[0;34m-\u001b[0m\u001b[0;36m1\u001b[0m\u001b[0;34m]\u001b[0m\u001b[0;34m[\u001b[0m\u001b[0;36m1\u001b[0m\u001b[0;34m]\u001b[0m\u001b[0;34m.\u001b[0m\u001b[0mpredict\u001b[0m\u001b[0;34m(\u001b[0m\u001b[0mXt\u001b[0m\u001b[0;34m,\u001b[0m \u001b[0;34m**\u001b[0m\u001b[0mpredict_params\u001b[0m\u001b[0;34m)\u001b[0m\u001b[0;34m\u001b[0m\u001b[0;34m\u001b[0m\u001b[0m\n\u001b[1;32m    471\u001b[0m \u001b[0;34m\u001b[0m\u001b[0m\n",
      "\u001b[0;32m/usr/local/lib/python3.7/dist-packages/sklearn/decomposition/_base.py\u001b[0m in \u001b[0;36mtransform\u001b[0;34m(self, X)\u001b[0m\n\u001b[1;32m    115\u001b[0m         \u001b[0mcheck_is_fitted\u001b[0m\u001b[0;34m(\u001b[0m\u001b[0mself\u001b[0m\u001b[0;34m)\u001b[0m\u001b[0;34m\u001b[0m\u001b[0;34m\u001b[0m\u001b[0m\n\u001b[1;32m    116\u001b[0m \u001b[0;34m\u001b[0m\u001b[0m\n\u001b[0;32m--> 117\u001b[0;31m         \u001b[0mX\u001b[0m \u001b[0;34m=\u001b[0m \u001b[0mself\u001b[0m\u001b[0;34m.\u001b[0m\u001b[0m_validate_data\u001b[0m\u001b[0;34m(\u001b[0m\u001b[0mX\u001b[0m\u001b[0;34m,\u001b[0m \u001b[0mdtype\u001b[0m\u001b[0;34m=\u001b[0m\u001b[0;34m[\u001b[0m\u001b[0mnp\u001b[0m\u001b[0;34m.\u001b[0m\u001b[0mfloat64\u001b[0m\u001b[0;34m,\u001b[0m \u001b[0mnp\u001b[0m\u001b[0;34m.\u001b[0m\u001b[0mfloat32\u001b[0m\u001b[0;34m]\u001b[0m\u001b[0;34m,\u001b[0m \u001b[0mreset\u001b[0m\u001b[0;34m=\u001b[0m\u001b[0;32mFalse\u001b[0m\u001b[0;34m)\u001b[0m\u001b[0;34m\u001b[0m\u001b[0;34m\u001b[0m\u001b[0m\n\u001b[0m\u001b[1;32m    118\u001b[0m         \u001b[0;32mif\u001b[0m \u001b[0mself\u001b[0m\u001b[0;34m.\u001b[0m\u001b[0mmean_\u001b[0m \u001b[0;32mis\u001b[0m \u001b[0;32mnot\u001b[0m \u001b[0;32mNone\u001b[0m\u001b[0;34m:\u001b[0m\u001b[0;34m\u001b[0m\u001b[0;34m\u001b[0m\u001b[0m\n\u001b[1;32m    119\u001b[0m             \u001b[0mX\u001b[0m \u001b[0;34m=\u001b[0m \u001b[0mX\u001b[0m \u001b[0;34m-\u001b[0m \u001b[0mself\u001b[0m\u001b[0;34m.\u001b[0m\u001b[0mmean_\u001b[0m\u001b[0;34m\u001b[0m\u001b[0;34m\u001b[0m\u001b[0m\n",
      "\u001b[0;32m/usr/local/lib/python3.7/dist-packages/sklearn/base.py\u001b[0m in \u001b[0;36m_validate_data\u001b[0;34m(self, X, y, reset, validate_separately, **check_params)\u001b[0m\n\u001b[1;32m    559\u001b[0m             \u001b[0;32mraise\u001b[0m \u001b[0mValueError\u001b[0m\u001b[0;34m(\u001b[0m\u001b[0;34m\"Validation should be done on X, y or both.\"\u001b[0m\u001b[0;34m)\u001b[0m\u001b[0;34m\u001b[0m\u001b[0;34m\u001b[0m\u001b[0m\n\u001b[1;32m    560\u001b[0m         \u001b[0;32melif\u001b[0m \u001b[0;32mnot\u001b[0m \u001b[0mno_val_X\u001b[0m \u001b[0;32mand\u001b[0m \u001b[0mno_val_y\u001b[0m\u001b[0;34m:\u001b[0m\u001b[0;34m\u001b[0m\u001b[0;34m\u001b[0m\u001b[0m\n\u001b[0;32m--> 561\u001b[0;31m             \u001b[0mX\u001b[0m \u001b[0;34m=\u001b[0m \u001b[0mcheck_array\u001b[0m\u001b[0;34m(\u001b[0m\u001b[0mX\u001b[0m\u001b[0;34m,\u001b[0m \u001b[0;34m**\u001b[0m\u001b[0mcheck_params\u001b[0m\u001b[0;34m)\u001b[0m\u001b[0;34m\u001b[0m\u001b[0;34m\u001b[0m\u001b[0m\n\u001b[0m\u001b[1;32m    562\u001b[0m             \u001b[0mout\u001b[0m \u001b[0;34m=\u001b[0m \u001b[0mX\u001b[0m\u001b[0;34m\u001b[0m\u001b[0;34m\u001b[0m\u001b[0m\n\u001b[1;32m    563\u001b[0m         \u001b[0;32melif\u001b[0m \u001b[0mno_val_X\u001b[0m \u001b[0;32mand\u001b[0m \u001b[0;32mnot\u001b[0m \u001b[0mno_val_y\u001b[0m\u001b[0;34m:\u001b[0m\u001b[0;34m\u001b[0m\u001b[0;34m\u001b[0m\u001b[0m\n",
      "\u001b[0;32m/usr/local/lib/python3.7/dist-packages/sklearn/utils/validation.py\u001b[0m in \u001b[0;36mcheck_array\u001b[0;34m(array, accept_sparse, accept_large_sparse, dtype, order, copy, force_all_finite, ensure_2d, allow_nd, ensure_min_samples, ensure_min_features, estimator)\u001b[0m\n\u001b[1;32m    790\u001b[0m \u001b[0;34m\u001b[0m\u001b[0m\n\u001b[1;32m    791\u001b[0m         \u001b[0;32mif\u001b[0m \u001b[0mforce_all_finite\u001b[0m\u001b[0;34m:\u001b[0m\u001b[0;34m\u001b[0m\u001b[0;34m\u001b[0m\u001b[0m\n\u001b[0;32m--> 792\u001b[0;31m             \u001b[0m_assert_all_finite\u001b[0m\u001b[0;34m(\u001b[0m\u001b[0marray\u001b[0m\u001b[0;34m,\u001b[0m \u001b[0mallow_nan\u001b[0m\u001b[0;34m=\u001b[0m\u001b[0mforce_all_finite\u001b[0m \u001b[0;34m==\u001b[0m \u001b[0;34m\"allow-nan\"\u001b[0m\u001b[0;34m)\u001b[0m\u001b[0;34m\u001b[0m\u001b[0;34m\u001b[0m\u001b[0m\n\u001b[0m\u001b[1;32m    793\u001b[0m \u001b[0;34m\u001b[0m\u001b[0m\n\u001b[1;32m    794\u001b[0m     \u001b[0;32mif\u001b[0m \u001b[0mensure_min_samples\u001b[0m \u001b[0;34m>\u001b[0m \u001b[0;36m0\u001b[0m\u001b[0;34m:\u001b[0m\u001b[0;34m\u001b[0m\u001b[0;34m\u001b[0m\u001b[0m\n",
      "\u001b[0;32m/usr/local/lib/python3.7/dist-packages/sklearn/utils/validation.py\u001b[0m in \u001b[0;36m_assert_all_finite\u001b[0;34m(X, allow_nan, msg_dtype)\u001b[0m\n\u001b[1;32m    114\u001b[0m             raise ValueError(\n\u001b[1;32m    115\u001b[0m                 msg_err.format(\n\u001b[0;32m--> 116\u001b[0;31m                     \u001b[0mtype_err\u001b[0m\u001b[0;34m,\u001b[0m \u001b[0mmsg_dtype\u001b[0m \u001b[0;32mif\u001b[0m \u001b[0mmsg_dtype\u001b[0m \u001b[0;32mis\u001b[0m \u001b[0;32mnot\u001b[0m \u001b[0;32mNone\u001b[0m \u001b[0;32melse\u001b[0m \u001b[0mX\u001b[0m\u001b[0;34m.\u001b[0m\u001b[0mdtype\u001b[0m\u001b[0;34m\u001b[0m\u001b[0;34m\u001b[0m\u001b[0m\n\u001b[0m\u001b[1;32m    117\u001b[0m                 )\n\u001b[1;32m    118\u001b[0m             )\n",
      "\u001b[0;31mValueError\u001b[0m: Input contains NaN, infinity or a value too large for dtype('float64')."
     ]
    }
   ],
   "source": [
    " y_preds_teste = pipeline.predict(X_teste) #mesmo assim o erro ocorre"
   ]
  },
  {
   "cell_type": "markdown",
   "metadata": {
    "id": "OPsH8JWTbFDd"
   },
   "source": [
    "Questão 5 \n",
    "\n",
    "a) Ao executar o predict_proba podemos obter os scores (“probabilidades”)\n",
    "de cada transação ser uma fraude. Numa situação prática deve-se escolher\n",
    "um ponto de corte a partir do qual as transações serão consideradas como\n",
    "fraude e barradas/bloqueadas. Escolha um bom valor de ponto de corte\n",
    "considerando:\n",
    "* O valor monetário perdido em uma fraude (prejuízo);\n",
    "* O valor bloqueado numa transação que não era fraude (ele\n",
    "provavelmente gera algum prejuízo, dado que o cliente pode migrar\n",
    "para o concorrente)\n",
    "* E uma taxa aceitável de falsos positivos, dado que cada falso positivo\n",
    "causa um transtorno para um cliente e pode levar a empresa a\n",
    "perdê-lo."
   ]
  },
  {
   "cell_type": "markdown",
   "metadata": {
    "id": "QnA6A2qycVGa"
   },
   "source": [
    "Uma boa noção de ponto de corte deve considerar quantos valores que realmente são esperados em média pertencerem a fraudes. No caso de y_train, temos que a quantidade de fraudes é de:"
   ]
  },
  {
   "cell_type": "code",
   "execution_count": 60,
   "metadata": {
    "colab": {
     "base_uri": "https://localhost:8080/"
    },
    "id": "0aEpgUpFclOz",
    "outputId": "179ad5f5-0c2d-45ae-d415-e4692b85e7c6"
   },
   "outputs": [
    {
     "data": {
      "text/plain": [
       "3.516878014795175"
      ]
     },
     "execution_count": 60,
     "metadata": {},
     "output_type": "execute_result"
    }
   ],
   "source": [
    "y_train.mean() * 100"
   ]
  },
  {
   "cell_type": "markdown",
   "metadata": {
    "id": "_Z5HpUhkcqhz"
   },
   "source": [
    "Aproximadamente 3,5%. Em y_val:"
   ]
  },
  {
   "cell_type": "code",
   "execution_count": 62,
   "metadata": {
    "colab": {
     "base_uri": "https://localhost:8080/"
    },
    "id": "a9-X139jcnYC",
    "outputId": "c0c3b682-416f-493d-9a90-92523ba966fe"
   },
   "outputs": [
    {
     "data": {
      "text/plain": [
       "3.4572876802023007"
      ]
     },
     "execution_count": 62,
     "metadata": {},
     "output_type": "execute_result"
    }
   ],
   "source": [
    "y_val.mean()*100"
   ]
  },
  {
   "cell_type": "markdown",
   "metadata": {
    "id": "04qkf4hucyqx"
   },
   "source": [
    "Uma proporção incrivelmente semelhante, sendo assim, espera-se em média 3,5% de fraudes (assumindo que as transações passadas no conjunto de treino sejam todas as realmente efetivadas, pois as vezes as testadas **já estão** dentre as mais suspeitas. "
   ]
  },
  {
   "cell_type": "markdown",
   "metadata": {
    "id": "weH9grH6dKhy"
   },
   "source": [
    "Portanto, em termos de ordem de grandeza, devemos realizar um corte de forma que aproximadamente apenas 3,5% das transações sejam barradas."
   ]
  },
  {
   "cell_type": "markdown",
   "metadata": {
    "id": "cMfOzditdWTk"
   },
   "source": [
    "Porém vamos verificar quanto que espera-se perder em uma fraude:\n"
   ]
  },
  {
   "cell_type": "code",
   "execution_count": 65,
   "metadata": {
    "colab": {
     "base_uri": "https://localhost:8080/"
    },
    "id": "sfJhBIaacvLG",
    "outputId": "ec5968b1-f373-4c07-8cb9-febb393836c3"
   },
   "outputs": [
    {
     "data": {
      "text/plain": [
       "149.2447785897534"
      ]
     },
     "execution_count": 65,
     "metadata": {},
     "output_type": "execute_result"
    }
   ],
   "source": [
    "train_transaction[train_transaction['isFraud'] == 1]['TransactionAmt'].mean()"
   ]
  },
  {
   "cell_type": "markdown",
   "metadata": {
    "id": "eacQR_Btd_t1"
   },
   "source": [
    "Espera-se perder 150 dólares em média em uma transacao fraudulenta, o que não é pouco, com valores extremos"
   ]
  },
  {
   "cell_type": "code",
   "execution_count": 69,
   "metadata": {
    "id": "VygrVpbieJ6O"
   },
   "outputs": [],
   "source": [
    "dinheiro = train_transaction[train_transaction['isFraud'] == 1].TransactionAmt"
   ]
  },
  {
   "cell_type": "code",
   "execution_count": 76,
   "metadata": {
    "colab": {
     "base_uri": "https://localhost:8080/"
    },
    "id": "mqc-apN8dpUp",
    "outputId": "7c1f9f2b-a3bd-4c62-f646-1457b76ace21"
   },
   "outputs": [
    {
     "data": {
      "text/plain": [
       "(149.2447785897534, 53922.48863160977, 75.0)"
      ]
     },
     "execution_count": 76,
     "metadata": {},
     "output_type": "execute_result"
    }
   ],
   "source": [
    "dinheiro.mean(), dinheiro.var() , dinheiro.median()"
   ]
  },
  {
   "cell_type": "code",
   "execution_count": 75,
   "metadata": {
    "colab": {
     "base_uri": "https://localhost:8080/",
     "height": 296
    },
    "id": "4N8T_Q5mev3F",
    "outputId": "ec5d4d39-12bd-46b5-a5fe-ce0c29242571"
   },
   "outputs": [
    {
     "data": {
      "text/plain": [
       "<matplotlib.axes._subplots.AxesSubplot at 0x7f2bba5c7210>"
      ]
     },
     "execution_count": 75,
     "metadata": {},
     "output_type": "execute_result"
    },
    {
     "data": {
      "image/png": "[encoded data removed]",
      "text/plain": [
       "<Figure size 432x288 with 1 Axes>"
      ]
     },
     "metadata": {
      "needs_background": "light"
     },
     "output_type": "display_data"
    }
   ],
   "source": [
    "dinheiro.plot()"
   ]
  },
  {
   "cell_type": "markdown",
   "metadata": {
    "id": "ymLk0QakfOTE"
   },
   "source": [
    "Como espera-se perder em média 150 dol, mas 50% dos valores estão acima de 75 dol, isso implica que em uma quantidade não desprezível de vezes ocorre que perde-se quase o dobro da mediana, o que nos mostra que a metade das fraudes são com valores menores que a média, mas aqueles que são acima da média são **muito** acima da média a ponto de divergir a média da mediana neste ponto."
   ]
  },
  {
   "cell_type": "code",
   "execution_count": 83,
   "metadata": {
    "colab": {
     "base_uri": "https://localhost:8080/",
     "height": 282
    },
    "id": "GAeLMYcIfCdT",
    "outputId": "6bece6bb-4a69-40d7-e2a2-382c8c74fec2"
   },
   "outputs": [
    {
     "data": {
      "text/plain": [
       "[<matplotlib.lines.Line2D at 0x7f2bb6718490>]"
      ]
     },
     "execution_count": 83,
     "metadata": {},
     "output_type": "execute_result"
    },
    {
     "data": {
      "image/png": "[encoded data removed]",
      "text/plain": [
       "<Figure size 432x288 with 1 Axes>"
      ]
     },
     "metadata": {
      "needs_background": "light"
     },
     "output_type": "display_data"
    }
   ],
   "source": [
    "import matplotlib.pyplot as plt\n",
    "\n",
    "plt.plot(range(len(dinheiro)), dinheiro.sort_values())"
   ]
  },
  {
   "cell_type": "markdown",
   "metadata": {
    "id": "G9-RMlvMgZzj"
   },
   "source": [
    "Caracterizando uma distribuição próxima de exponencial"
   ]
  },
  {
   "cell_type": "markdown",
   "metadata": {
    "id": "hmn6HeHigqA9"
   },
   "source": [
    "Por conta de dificuldades na manipulação do preprocessamento, será difícil testar qual seria o ponto em especial, porém o melhor seria aplicar o seguinte procedimento:\n",
    "\n",
    "* Dado que a distribuição é exponencial, \"fitar\" a curva característica desta (para constante A = 1/média: p(x) = A*exp(-Ax) ).\n",
    "\n",
    "* Assim, verificar quanto que a distribuição é diferente de exponencial (fazendo, por exemplo, um teste chi-squared).\n",
    "\n",
    "* O ponto escolhido deve ser tal que é maior que a probabilidade de a distribuição estar incorreta (ou seja, se a distribuição tiver uma probabilidade de 1% de estar incorreta, o valor de corte deve ser maior que 1%, pois não podemos afirmar nada abaixo deste numero).\n",
    "\n",
    "* Em segundo lugar, sabemos que não existem muitas fraudes, portanto a probabilidade deve ser maior que a probabilidade de que é uma fraude dado que é um certo valor.\n",
    "\n",
    "* Juntando essas duas convenções, é necessário (porém não o suficiente) que a probabilidade seja maior que o máximo entre a probabilidade que é fraude e a probabilidade que o modelo esta correto ( p >= max( p_model_fitness, p_fraude) ) \n",
    "\n",
    "* Utilizando-nos da regra de Bayes: ( P(F|Valor) = P(Valor|F) * P(F) / P(Valor)  = [P(Valor|F)/P(Valor)] * 0,035 ). O termo do denominador pode ser aproximado pela proporção da distribuição esperada pelo treino (pois já estamos assumindo neste caso p > p_model_fitness, logo é seguro assumir corretude desta hipótese). O termos P(Valor|F) é aproximado pela proporção esperada de valores menores ou iguais a esse na distribuição exponencial das fraudes, ou seja, a distribuição cumulativa, logo: P(Valor|F) = 1 - exp(-A*Valor). \n",
    "\n",
    "* Enfim, dadas estas considerações, a probabilidade estimada pelo modelo ( P(F|Valor) ) deve ser maior-igual que a threshold mínima (max( p_model_fitness, p_fraude)) e próxima da probabilidade estimada analiticamente  ( (1 - exp(-A*Valor)) * 0,035 / P(Valor) ). Sendo assim dada uma grande confiança na chance de ser fraude. \n",
    "\n",
    "* Como o valor monetário perdido é maior (tanto em média quanto em mediana) espera-se que um ponto de corte que segue a risca a distribuição real. Com isso, se P(F|Valor)_modelo for aproximadamente igual ao valor esperado analiticamente ( (1 - exp(-A*Valor)) * 0,035 / P(Valor) ) temos de bloquear a transação.\n",
    "\n",
    "* A definição de aproximadamente igual deve seguir o seguinte critério: Se o modelo errar, o prejuízo não deve ser maior que o valor médio esperado, assim, o ponto de corte deve ser tal que [P(F|Valor)_modelo/P(F|Valor)_analitico]*Valor < ValorMedio.\n",
    "\n",
    "Assim a fraude é bloqueada se todas as condições forem cumpridas:\n",
    "\n",
    "- P(F|Valor)_modelo >= max( p_model_fitness, p_fraude)\n",
    "- P(F|Valor)_modelo >= P(F|Valor)_analitica = (1 - exp(-A*Valor)) * 0,035 / P(Valor)\n",
    "- P(F|Valor)_modelo > (ValorMedio/Valor)P(F|Valor)_analitico = (proporção de perda) * (probabilidade esperada analiticamente de estar errado)"
   ]
  },
  {
   "cell_type": "markdown",
   "metadata": {
    "id": "zZhBSuljqtal"
   },
   "source": [
    "Estes critérios nos dão uma margem em que não espera-se perder muitos clientes pois tem-se muita segurança na corretude do modelo, sendo que caso seja detectada fraude, a proporção era realmente muito grande."
   ]
  },
  {
   "cell_type": "code",
   "execution_count": 85,
   "metadata": {
    "colab": {
     "base_uri": "https://localhost:8080/"
    },
    "id": "2ksuZr63f46Z",
    "outputId": "680e00f2-ccca-4f65-cd8e-ac8711d13173"
   },
   "outputs": [
    {
     "data": {
      "text/plain": [
       "(135.02717637293821, 68.769)"
      ]
     },
     "execution_count": 85,
     "metadata": {},
     "output_type": "execute_result"
    }
   ],
   "source": [
    "train_transaction['TransactionAmt'].mean(), train_transaction['TransactionAmt'].median()"
   ]
  },
  {
   "cell_type": "markdown",
   "metadata": {
    "id": "yggtEBayplPA"
   },
   "source": []
  },
  {
   "cell_type": "code",
   "execution_count": null,
   "metadata": {
    "id": "wW1ybsGfkCIs"
   },
   "outputs": [],
   "source": []
  }
 ],
 "metadata": {
  "colab": {
   "collapsed_sections": [],
   "name": "SegundoTrabalhoCompCD_Aplicacao.ipynb",
   "provenance": []
  },
  "kernelspec": {
   "display_name": "Python 3",
   "language": "python",
   "name": "python3"
  },
  "language_info": {
   "name": "python"
  }
 },
 "nbformat": 4,
 "nbformat_minor": 1
}
